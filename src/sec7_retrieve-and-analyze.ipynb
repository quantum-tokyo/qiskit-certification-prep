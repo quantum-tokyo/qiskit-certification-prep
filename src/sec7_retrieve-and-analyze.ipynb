{
 "cells": [
  {
   "cell_type": "markdown",
   "id": "17532a53-76b3-45f1-802d-c048ce8e3303",
   "metadata": {},
   "source": [
    "# Section 7: Retrieve and analyze the results of quantum circuits"
   ]
  },
  {
   "cell_type": "markdown",
   "id": "64973b9f-7940-491c-b6f9-846d4b4f1cc1",
   "metadata": {},
   "source": [
    "## TASK 7.1: Retrieve previous experiment results (session/Qiskit Runtime)"
   ]
  },
  {
   "cell_type": "markdown",
   "id": "f34c677f",
   "metadata": {},
   "source": [
    "1. Which statement best describes how to retrieve a past Qiskit Runtime job in a new Python session?\n",
    "\n",
    "a. Use `QiskitRuntimeService()` and call `service.job(<JOB_ID>).result()` after obtaining the job ID.<br>\n",
    "b. Recreate the same circuits and options, then call `sampler.run(...).result()` without any ID.<br>\n",
    "c. Call `backend.retrieve_job(<JOB_ID>)` from `qiskit_aer` to get the primitive result.<br>\n",
    "d. Jobs cannot be retrieved after the kernel restarts; results must be recomputed every time.<br>"
   ]
  },
  {
   "cell_type": "markdown",
   "id": "e169f779",
   "metadata": {},
   "source": [
    ":::{dropdown}answer \n",
    "The answer is a. \n",
    "\n",
    "You can reconnect to previously submitted Runtime jobs by constructing a `QiskitRuntimeService` instance and calling `service.job(job_id).result()`. The job ID can be obtained from `job.job_id()` at submission time or looked up later via `service.jobs(...)` or the IBM Quantum Workloads page. :::"
   ]
  },
  {
   "cell_type": "markdown",
   "id": "82407e2e",
   "metadata": {},
   "source": [
    "2. You want to programmatically find jobs run in roughly the last three months to resume analysis. Which approach is correct?\n",
    "\n",
    "a. `service.jobs(created_after=datetime.now()-timedelta(days=90))` to list recent jobs and then select the ones you need.<br>\n",
    "b. `service.jobs(last_three_months=True)` to let the service infer the period automatically.<br>\n",
    "c. `service.list_recent_jobs(90_days=True)` and then call `.result()` on the list.<br>\n",
    "d. `service.jobs()` always returns only the last 7 days, so older jobs cannot be listed.<br>"
   ]
  },
  {
   "cell_type": "markdown",
   "id": "d13e8ef9",
   "metadata": {},
   "source": [
    ":::{dropdown}answer \n",
    "The answer is a. \n",
    "\n",
    "`QiskitRuntimeService.jobs` accepts filters such as `created_after` (a `datetime.datetime` object). You can compute a boundary like “now − 90 days”, list those jobs, and then retrieve any job by ID to get its results. :::"
   ]
  },
  {
   "cell_type": "markdown",
   "id": "f7f4ddfa",
   "metadata": {},
   "source": [
    "3. While reviewing an iterative workflow executed in a Runtime **session**, you want to retrieve only the jobs that were submitted inside that session. What is the most appropriate approach?\n",
    "\n",
    "a. Filter with `service.jobs(session_id=<SESSION_ID>)` (or equivalent filter) to return jobs that belong to the session, then retrieve the desired job by ID.<br>\n",
    "b. Sessions do not group jobs, so you must search by backend only.<br>\n",
    "c. Call `Session(<backend>).jobs()` without any session identifier; it will infer the old session automatically.<br>\n",
    "d. There is no way to filter by session; you must manually scan all jobs one by one.<br>"
   ]
  },
  {
   "cell_type": "markdown",
   "id": "fac0b20d",
   "metadata": {},
   "source": [
    ":::{dropdown}answer \n",
    "The answer is a. \n",
    "\n",
    "Runtime sessions group iterative jobs. When querying with `service.jobs(...)`, you can filter by attributes including session (as documented), then call `service.job(job_id)` to fetch a specific job. This lets you focus on jobs created within that past session. :::"
   ]
  },
  {
   "cell_type": "markdown",
   "id": "2ecaa91f",
   "metadata": {},
   "source": [
    "4. After you retrieve a `RuntimeJob` object via `service.job(job_id)`, what does calling `.result()` typically return for primitive jobs?\n",
    "\n",
    "a. A `PrimitiveResult` object (e.g., containing `PubResult` entries with data and metadata).<br>\n",
    "b. A raw dictionary of bitstrings to counts for every circuit, identical to `AerSimulator.get_counts()`.<br>\n",
    "c. An `ExperimentData` object exclusively used by Qiskit Experiments.<br>\n",
    "d. A CSV string that must be parsed manually to access expectation values.<br>"
   ]
  },
  {
   "cell_type": "markdown",
   "id": "ff5006b4",
   "metadata": {},
   "source": [
    ":::{dropdown}answer \n",
    "The answer is a. \n",
    "\n",
    "For `Sampler`/`Estimator` primitive jobs, `job.result()` returns a `PrimitiveResult` object that contains published results (e.g., expectation values) and metadata (shots, resilience options, etc.). :::"
   ]
  },
  {
   "cell_type": "markdown",
   "id": "bbf65907",
   "metadata": {},
   "source": [
    "5. You want to persist results to disk and later load them in a clean kernel **without** re-querying the service. What is the recommended method?\n",
    "\n",
    "a. Serialize with Python’s `json.dump(..., cls=RuntimeEncoder)` and later load with `json.load(..., cls=RuntimeDecoder)`.<br>\n",
    "b. Use `pickle.dump(result)` and `pickle.load(result)` because the result is always picklable across library versions.<br>\n",
    "c. Save with `numpy.savez(result)` because primitive results are NumPy arrays only.<br>\n",
    "d. Call `result.to_csv(\"result.csv\")` because all primitive results implement a CSV export method.<br>"
   ]
  },
  {
   "cell_type": "markdown",
   "id": "d3756e3b",
   "metadata": {},
   "source": [
    ":::{dropdown}answer \n",
    "The answer is a. \n",
    "\n",
    "The guide recommends JSON serialization with Qiskit Runtime’s custom `RuntimeEncoder` and `RuntimeDecoder` so complex result types (e.g., `PrimitiveResult`, `PubResult`) can be safely stored and restored in another session. \n",
    ":::"
   ]
  },
  {
   "cell_type": "markdown",
   "id": "5a681d79",
   "metadata": {},
   "source": [
    "6. Which statement about **job IDs** is most accurate for retrieving results later?\n",
    "\n",
    "a. You must keep or re-discover the job ID; retrieval later requires `service.job(<JOB_ID>)` before calling `.result()`.<br>\n",
    "b. Job IDs are optional; the service can always infer the correct job from the circuit metadata alone.<br>\n",
    "c. Job IDs expire immediately upon completion, so you cannot use them after the job finishes.<br>\n",
    "d. Job IDs can be reconstructed deterministically from the circuit hash and the backend name.<br>"
   ]
  },
  {
   "cell_type": "markdown",
   "id": "0275a63c",
   "metadata": {},
   "source": [
    ":::{dropdown}answer \n",
    "The answer is a. \n",
    "\n",
    "The documentation emphasizes that retrieving results later relies on the job ID. Save it at submission time (`job.job_id()`) or look it up on the Workloads page or with `service.jobs(...)`. \n",
    ":::"
   ]
  },
  {
   "cell_type": "markdown",
   "id": "c7529c1a",
   "metadata": {},
   "source": [
    "7. Regarding **interim results** of a Runtime job, which of the following is correct?\n",
    "\n",
    "a. Interim results, if available, can be queried, but the service keeps them only for a limited time after the job finishes (e.g., a couple of days).<br>\n",
    "b. Interim results are stored indefinitely and are guaranteed retrievable at any time.<br>\n",
    "c. Interim results are never accessible after submission; only final results are returned.<br>\n",
    "d. Interim results are persisted inside `result.json` automatically when you call `RuntimeEncoder`.<br>"
   ]
  },
  {
   "cell_type": "markdown",
   "id": "7f546570",
   "metadata": {},
   "source": [
    ":::{dropdown}answer \n",
    "The answer is a. \n",
    "\n",
    "Per the API reference, interim results are available but retained only for a short window after job completion (e.g., two days). You should stream or retrieve them promptly if you need them for later analysis. \n",
    ":::"
   ]
  },
  {
   "cell_type": "markdown",
   "id": "02156dce",
   "metadata": {},
   "source": [
    "8. You previously ran a set of jobs with the `Sampler` primitive under a session and tagged them with `\"opt-phase-1\"`. To retrieve only those jobs now, which call is the best starting point?\n",
    "\n",
    "a. `service.jobs(program_id=\"sampler\", tags=[\"opt-phase-1\"])` to list matching jobs, then pick IDs to fetch results.<br>\n",
    "b. `service.get_jobs_by_tag(\"opt-phase-1\", primitive=\"sampler\")` which returns results directly.<br>\n",
    "c. `service.jobs(filter=\"tag:opt-phase-1 AND primitive:sampler\")` using a Lucene-like string.<br>\n",
    "d. `service.jobs()` and manually scan all job metadata in Python for the tag value.<br>"
   ]
  },
  {
   "cell_type": "markdown",
   "id": "72fd9ed2",
   "metadata": {},
   "source": [
    ":::{dropdown}answer \n",
    "The answer is a. \n",
    "\n",
    "`QiskitRuntimeService.jobs` supports filtering by attributes such as `program_id` and (depending on client version) tags. Listing first and then retrieving by ID is the standard pattern for resuming from tagged workloads. :::"
   ]
  },
  {
   "cell_type": "markdown",
   "id": "3438673a-325d-40ff-b968-610703366e9e",
   "metadata": {},
   "source": [
    "## TASK 7.2: Monitor jobs"
   ]
  },
  {
   "cell_type": "markdown",
   "id": "0f909bbe-ebc1-47bd-ade4-bd6137a322a0",
   "metadata": {},
   "source": [
    "1. Which method allows you to monitor a job’s execution status directly in a Jupyter notebook?\n",
    "\n",
    "a. `job.result()`<br>\n",
    "b. `job.wait_for_final_state()`<br>\n",
    "c. `qiskit_ibm_runtime.job_monitor(job)`<br>\n",
    "d. `job.stream_results()`<br>"
   ]
  },
  {
   "cell_type": "markdown",
   "id": "47a464f5-c82e-47c6-a699-a527247de676",
   "metadata": {},
   "source": [
    ":::{dropdown}answer \n",
    "The answer is c. \n",
    "\n",
    "The `job_monitor` utility provides a real-time view of job progress in Jupyter notebooks, displaying queue position and state changes until completion. \n",
    ":::"
   ]
  },
  {
   "cell_type": "markdown",
   "id": "728c4631-353d-4459-a524-d9f25c68c3b3",
   "metadata": {},
   "source": [
    "2. When calling `job.wait_for_final_state()`, what happens if the job is still queued or running?\n",
    "\n",
    "a. It raises an error immediately.<br>\n",
    "b. It blocks until the job reaches a terminal state (such as DONE, ERROR, or CANCELLED).<br>\n",
    "c. It prints logs continuously until the job finishes.<br>\n",
    "d. It returns partial results at intervals.<br>"
   ]
  },
  {
   "cell_type": "markdown",
   "id": "1976796e-06f3-4a03-84e0-7b44dde6fc73",
   "metadata": {},
   "source": [
    ":::{dropdown}answer \n",
    "The answer is b. \n",
    "\n",
    "`wait_for_final_state()` suspends execution until the job is completed, failed, or cancelled. This is useful in scripts where interactive monitoring is not required. \n",
    ":::"
   ]
  },
  {
   "cell_type": "markdown",
   "id": "80b79978-8906-4479-ae23-a36981ae6dc1",
   "metadata": {},
   "source": [
    "3. Which of the following states indicate that a Qiskit Runtime job has **finished successfully**?\n",
    "\n",
    "a. `RUNNING`<br>\n",
    "b. `QUEUED`<br>\n",
    "c. `DONE`<br>\n",
    "d. `INITIALIZING`<br>"
   ]
  },
  {
   "cell_type": "markdown",
   "id": "589bd217-6427-4f5f-920a-f9f588476472",
   "metadata": {},
   "source": [
    ":::{dropdown}answer \n",
    "The answer is c. \n",
    "\n",
    "Job states such as `QUEUED`, `INITIALIZING`, or `RUNNING` are intermediate, while `DONE` is the final state indicating successful completion. \n",
    ":::"
   ]
  },
  {
   "cell_type": "markdown",
   "id": "b4d4ce29-071c-451a-937d-7d531e29f8ac",
   "metadata": {},
   "source": [
    "4. How can you retrieve and print the current status of a submitted job?\n",
    "\n",
    "a. `print(job.status())`<br>\n",
    "b. `print(job.state)`<br>\n",
    "c. `print(job.result().status)`<br>\n",
    "d. `print(service.job_status(job_id))`<br>"
   ]
  },
  {
   "cell_type": "markdown",
   "id": "9f56ace7-fd1e-4ca6-9b67-afe187b8ca98",
   "metadata": {},
   "source": [
    ":::{dropdown}answer \n",
    "The answer is a. \n",
    "\n",
    "`job.status()` returns the job’s status as an `JobStatus` object, which can be printed or checked against specific states. :::"
   ]
  },
  {
   "cell_type": "markdown",
   "id": "05ec958c-bb22-481c-b476-384c4a3de5a9",
   "metadata": {},
   "source": [
    "5. In what scenario would you use `job.stream_results()`?\n",
    "\n",
    "a. To cancel a job while it is queued.<br>\n",
    "b. To receive interim results as they become available during job execution.<br>\n",
    "c. To monitor system backend logs in real time.<br>\n",
    "d. To stream the job’s result object to a file.<br>"
   ]
  },
  {
   "cell_type": "markdown",
   "id": "aa62bb41-8ad9-4e7e-98d9-d220ce56e732",
   "metadata": {},
   "source": [
    ":::{dropdown}answer \n",
    "The answer is b. \n",
    "\n",
    "`stream_results()` enables users to fetch interim results from a job before final completion, useful for iterative algorithms or monitoring progress. :::"
   ]
  },
  {
   "cell_type": "markdown",
   "id": "ff56ba7c-8dda-4427-83af-3b3e87a53340",
   "metadata": {},
   "source": [
    "6. Which of the following statements about monitoring jobs in IBM Quantum is correct?\n",
    "\n",
    "a. The only way to check job progress is by waiting for results.<br>\n",
    "b. Jobs expose both blocking (`wait_for_final_state`) and interactive (`job_monitor`) methods for monitoring.<br>\n",
    "c. Once a job is submitted, you cannot check its queue position.<br>\n",
    "d. Monitoring jobs requires exporting logs manually from the dashboard.<br>"
   ]
  },
  {
   "cell_type": "markdown",
   "id": "3fa251fd-6587-458b-9a17-7b5d7bae72f4",
   "metadata": {},
   "source": [
    ":::{dropdown}answer \n",
    "The answer is b. \n",
    "\n",
    "IBM Quantum provides both interactive monitoring via `job_monitor` and blocking monitoring with `wait_for_final_state`, giving flexibility for different workflows. :::"
   ]
  },
  {
   "cell_type": "markdown",
   "id": "8988693d-b9c4-443a-9f72-e61338b61175",
   "metadata": {},
   "source": [
    "7. Which job state typically appears **before** a job transitions to `RUNNING`?\n",
    "\n",
    "a. `QUEUED`<br>\n",
    "b. `DONE`<br>\n",
    "c. `ERROR`<br>\n",
    "d. `CANCELLED`<br>"
   ]
  },
  {
   "cell_type": "markdown",
   "id": "4e6bdb55-6d4f-4016-a46b-71cb28d09a4c",
   "metadata": {},
   "source": [
    ":::{dropdown}answer \n",
    "The answer is a. \n",
    "\n",
    "The job lifecycle often transitions from `QUEUED` → `RUNNING` → `DONE`. Errors or cancellations can occur at any stage. :::"
   ]
  },
  {
   "cell_type": "markdown",
   "id": "d32ea201-7281-4712-8212-e7d504db5dec",
   "metadata": {},
   "source": [
    "8. If you want to monitor multiple jobs submitted in a batch, what is a recommended approach?\n",
    "\n",
    "a. Call `job_monitor()` on the entire list at once.<br>\n",
    "b. Loop through each job in the list and apply `job_monitor(job)` individually.<br>\n",
    "c. Use `service.monitor_all()` to monitor all jobs.<br>\n",
    "d. Batch jobs cannot be monitored programmatically.<br>"
   ]
  },
  {
   "cell_type": "markdown",
   "id": "fe50d96d-41f9-4cb0-b7e4-e48b207302ea",
   "metadata": {},
   "source": [
    ":::{dropdown}answer \n",
    "The answer is b. \n",
    "\n",
    "To monitor multiple jobs, iterate through the list of job objects and apply monitoring functions like `job_monitor(job)` or check their statuses via `job.status()`. \n",
    ":::"
   ]
  },
  {
   "cell_type": "code",
   "execution_count": null,
   "id": "f6bee1be-6b73-4943-8fe3-da69760d1e74",
   "metadata": {},
   "outputs": [],
   "source": []
  }
 ],
 "metadata": {
  "kernelspec": {
   "display_name": "Python 3 (ipykernel)",
   "language": "python",
   "name": "python3"
  },
  "language_info": {
   "codemirror_mode": {
    "name": "ipython",
    "version": 3
   },
   "file_extension": ".py",
   "mimetype": "text/x-python",
   "name": "python",
   "nbconvert_exporter": "python",
   "pygments_lexer": "ipython3",
   "version": "3.13.7"
  }
 },
 "nbformat": 4,
 "nbformat_minor": 5
}
