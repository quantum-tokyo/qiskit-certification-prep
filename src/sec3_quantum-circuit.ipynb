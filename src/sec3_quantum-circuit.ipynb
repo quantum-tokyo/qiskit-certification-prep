{
 "cells": [
  {
   "cell_type": "markdown",
   "id": "0c34c398-6030-4d82-a531-3bb420401dd5",
   "metadata": {},
   "source": [
    "# Section 3: Create quantum circuits"
   ]
  },
  {
   "cell_type": "markdown",
   "id": "6d7bab5e-121f-42f1-bf15-8c6e5f979008",
   "metadata": {},
   "source": [
    "## TASK 3.3: Transpile and optimize circuits"
   ]
  },
  {
   "cell_type": "markdown",
   "id": "9baec0e4",
   "metadata": {},
   "source": [
    "1. Which of the following lists the preset transpiler pipeline stages in the correct order?\n",
    "\n",
    "a. layout → routing → translation → optimization → scheduling → init<br>\n",
    "b. init → layout → routing → translation → optimization → scheduling<br>\n",
    "c. init → routing → layout → translation → scheduling → optimization<br>\n",
    "d. layout → translation → routing → optimization → init → scheduling<br>\n"
   ]
  },
  {
   "cell_type": "markdown",
   "id": "7e175b5c",
   "metadata": {},
   "source": [
    ":::{dropdown}answer \n",
    "The answer is b. \n",
    "\n",
    "The preset pipeline in Qiskit’s staged pass managers is ordered as: **init → layout → routing → translation → optimization → scheduling**. \n",
    "The `init` stage handles early housekeeping (e.g., reducing multi-qubit ops to 1–2 qubits where needed), then **layout** selects a mapping from virtual to physical qubits, **routing** inserts SWAPs as required by hardware connectivity, **translation** compiles to the target basis gates, **optimization** reduces depth and cancels redundant operations, and **scheduling** (only when requested) inserts delays and accounts for timing.\n",
    ":::"
   ]
  },
  {
   "cell_type": "markdown",
   "id": "0bc9cbe8",
   "metadata": {},
   "source": [
    "2. Which statement best describes the purpose of the **init** stage?\n",
    "\n",
    "a. It always runs by default and performs hardware-aware scheduling.<br>\n",
    "b. It performs SWAP insertion to ensure two-qubit connectivity.<br>\n",
    "c. It primarily enables early, optional cleanups and translates gates acting on 3+ qubits into 1–2 qubit operations.<br>\n",
    "d. It decomposes circuits into the backend basis and cancels adjacent CNOT gates.<br>\n"
   ]
  },
  {
   "cell_type": "markdown",
   "id": "d50e7347",
   "metadata": {},
   "source": [
    ":::{dropdown}answer \n",
    "The answer is c. \n",
    "\n",
    "The **init** stage does very little by default, but it’s where you can insert early optimizations if desired. Since many downstream algorithms expect only single- and two-qubit operations, this stage also translates any operation acting on three or more qubits into 1–2 qubit gates.\n",
    ":::"
   ]
  },
  {
   "cell_type": "markdown",
   "id": "261de17a",
   "metadata": {},
   "source": [
    "3. In the **layout** stage, which pass uses a subgraph isomorphism approach (VF2++) to find an ideal mapping of virtual to physical qubits?\n",
    "\n",
    "a. SabreSwap<br>\n",
    "b. VF2Layout<br>\n",
    "c. DenseLayout<br>\n",
    "d. TrivialLayout<br>\n"
   ]
  },
  {
   "cell_type": "markdown",
   "id": "808aada4",
   "metadata": {},
   "source": [
    ":::{dropdown}answer \n",
    "The answer is b. \n",
    "\n",
    "**VF2Layout** treats layout selection as a subgraph isomorphism problem and uses VF2++ to search for candidate layouts; if multiple candidates are found, a scoring heuristic picks the one with the lowest average error.\n",
    ":::"
   ]
  },
  {
   "cell_type": "markdown",
   "id": "126ec853",
   "metadata": {},
   "source": [
    "4. Which statement about **TrivialLayout** in the layout stage is correct?\n",
    "\n",
    "a. It is the only layout method used at all optimization levels.<br>\n",
    "b. It randomly permutes qubits to maximize entangling gate parallelism.<br>\n",
    "c. It maps qubits in circuit order and is used historically at optimization level 1 to try a perfect layout before other methods.<br>\n",
    "d. It is the default stochastic router for SWAP insertion.<br>\n"
   ]
  },
  {
   "cell_type": "markdown",
   "id": "1f144dea",
   "metadata": {},
   "source": [
    ":::{dropdown}answer \n",
    "The answer is c. \n",
    "\n",
    "**TrivialLayout** naively maps virtual qubits to identically numbered physical qubits and is (historically) tried at **optimization level 1** to see if a perfect layout exists; otherwise, other layout heuristics (such as **VF2Layout** or **SabreLayout**) are used.\n",
    ":::"
   ]
  },
  {
   "cell_type": "markdown",
   "id": "35a3de27",
   "metadata": {},
   "source": [
    "5. Why can repeated runs of the same circuit produce a **distribution** of depths after routing?\n",
    "\n",
    "a. Because routing is solved exactly and deterministically for each run.<br>\n",
    "b. Because the SabreSwap router is **stochastic**, so SWAP insertion can vary across runs.<br>\n",
    "c. Because translation to basis gates happens before layout.<br>\n",
    "d. Because scheduling always inserts the same delays.<br>\n"
   ]
  },
  {
   "cell_type": "markdown",
   "id": "88861657",
   "metadata": {},
   "source": [
    ":::{dropdown}answer \n",
    "The answer is b. \n",
    "\n",
    "Finding an optimal SWAP mapping is NP-hard, so Qiskit uses the **stochastic** heuristic **SabreSwap**. Its randomness leads to different SWAP patterns on different runs, yielding a distribution of circuit depths and gate counts.\n",
    ":::"
   ]
  },
  {
   "cell_type": "markdown",
   "id": "87dd971a",
   "metadata": {},
   "source": [
    "6. In the **translation** stage, which of the following is true when the SWAP gate is **not** native to the backend?\n",
    "\n",
    "a. It is executed directly as a hardware-native delay instruction.<br>\n",
    "b. It is decomposed into **three CX** gates (plus any necessary single-qubit gates).<br>\n",
    "c. It is replaced by a Toffoli (CCX) gate pair.<br>\n",
    "d. It is removed because SWAPs are never required on hardware.<br>\n"
   ]
  },
  {
   "cell_type": "markdown",
   "id": "d20bd1de",
   "metadata": {},
   "source": [
    ":::{dropdown}answer \n",
    "The answer is b. \n",
    "\n",
    "When SWAP is not native to the target’s basis, it is decomposed into a sequence of native gates—commonly **three CNOT (CX)** gates—making SWAPs expensive on noisy hardware and motivating layout/routing that minimizes their use.\n",
    ":::"
   ]
  },
  {
   "cell_type": "markdown",
   "id": "4125dbda",
   "metadata": {},
   "source": [
    "7. Which preset **optimization level** includes passes such as **Collect2qBlocks**, **ConsolidateBlocks**, and **UnitarySynthesis**?\n",
    "\n",
    "a. Level 0<br>\n",
    "b. Level 1<br>\n",
    "c. Level 2<br>\n",
    "d. Level 3<br>\n"
   ]
  },
  {
   "cell_type": "markdown",
   "id": "f81e4f56",
   "metadata": {},
   "source": [
    ":::{dropdown}answer \n",
    "The answer is d. \n",
    "\n",
    "At **optimization level 3**, the staged pass manager adds deeper structural optimizations such as **Collect2qBlocks**, **ConsolidateBlocks**, and **UnitarySynthesis**, in addition to single-qubit optimizations and commutation-based cancellations.\n",
    ":::"
   ]
  },
  {
   "cell_type": "markdown",
   "id": "ea395f01",
   "metadata": {},
   "source": [
    "8. Which statement about the **scheduling** stage is correct?\n",
    "\n",
    "a. Scheduling always runs by default after optimization.<br>\n",
    "b. Scheduling must be explicitly requested (e.g., via `scheduling_method`), and it inserts **Delay** instructions to account for idle times.<br>\n",
    "c. Scheduling is the stage that performs VF2 layout search.<br>\n",
    "d. Scheduling translates to the target basis and cancels adjacent CNOTs.<br>\n"
   ]
  },
  {
   "cell_type": "markdown",
   "id": "fae2db1c",
   "metadata": {},
   "source": [
    ":::{dropdown}answer \n",
    "The answer is b. \n",
    "\n",
    "Scheduling **does not run by default**; you trigger it by specifying a `scheduling_method` (e.g., `\"asap\"`). It analyzes timing and inserts **Delay** instructions for idle periods, helping estimate execution timing on the backend.\n",
    ":::"
   ]
  },
  {
   "cell_type": "markdown",
   "id": "8492ca7a",
   "metadata": {},
   "source": [
    "9. What is the **recommended** way to transpile a circuit in Qiskit?\n",
    "\n",
    "a. Call `transpile(circuit)` only; pass managers are deprecated.<br>\n",
    "b. Create a **preset staged pass manager** with `generate_preset_pass_manager(...)` and call `run(circuit)`.<br>\n",
    "c. Directly construct a `StagedPassManager` is forbidden; only `PassManager` is allowed.<br>\n",
    "d. Only schedule the circuit; layout and routing are optional and unnecessary.<br>\n"
   ]
  },
  {
   "cell_type": "markdown",
   "id": "55aa6cee",
   "metadata": {},
   "source": [
    ":::{dropdown}answer \n",
    "The answer is b. \n",
    "\n",
    "The recommended workflow is to build a **preset staged pass manager** with `generate_preset_pass_manager` (choosing an `optimization_level`, backend, and options) and then invoke its **`run`** method on the circuit.\n",
    ":::"
   ]
  },
  {
   "cell_type": "markdown",
   "id": "992689f8",
   "metadata": {},
   "source": [
    "10. Which description best characterizes a **staged pass manager**?\n",
    "\n",
    "a. A pass manager composed directly of gates instead of passes.<br>\n",
    "b. A pass manager that contains one monolithic pass implementing all stages.<br>\n",
    "c. An abstraction that is **composed of multiple pass managers**, each representing a transpiler stage (e.g., layout, routing, translation).<br>\n",
    "d. A pass manager that only schedules circuits and cannot do layout or routing.<br>\n"
   ]
  },
  {
   "cell_type": "markdown",
   "id": "492dc207",
   "metadata": {},
   "source": [
    ":::{dropdown}answer \n",
    "The answer is c. \n",
    "\n",
    "A **StagedPassManager** is built from per-stage **PassManager** instances (e.g., for layout, routing, translation), providing a higher-level abstraction aligned with the logical stages of transpilation.\n",
    ":::"
   ]
  },
  {
   "cell_type": "markdown",
   "id": "023d4ebd",
   "metadata": {},
   "source": [
    "11. You start from a preset staged pass manager at optimization level 3 and want to add extra **logical optimization before layout**. What is a supported approach?\n",
    "\n",
    "a. You cannot modify a preset pass manager.<br>\n",
    "b. Assign a custom `pre_layout` stage (e.g., an `InverseCancellation` pass list) to the staged pass manager.<br>\n",
    "c. Replace the router with `generate_embed_passmanager`, which is strictly for scheduling.<br>\n",
    "d. Insert scheduling analysis passes into the translation stage by default.<br>\n"
   ]
  },
  {
   "cell_type": "markdown",
   "id": "b482c6a3",
   "metadata": {},
   "source": [
    ":::{dropdown}answer \n",
    "The answer is b. \n",
    "\n",
    "You can **augment** a preset staged pass manager by adding custom stages like **`pre_layout`** (e.g., with `InverseCancellation`) or by swapping out stages. Stage generator helpers such as `generate_embed_passmanager` can assist when building custom stages.\n",
    ":::"
   ]
  },
  {
   "cell_type": "markdown",
   "id": "8983ac8a",
   "metadata": {},
   "source": [
    "12. Which statement about `transpile` vs. preset staged pass managers is accurate?\n",
    "\n",
    "a. `transpile` does not use pass managers internally.<br>\n",
    "b. `transpile` internally **calls** `generate_preset_pass_manager` and runs it on the circuit.<br>\n",
    "c. `transpile` always performs scheduling by default.<br>\n",
    "d. `transpile` can only accept lists of circuits, not a single circuit.<br>\n"
   ]
  },
  {
   "cell_type": "markdown",
   "id": "f68006a8",
   "metadata": {},
   "source": [
    ":::{dropdown}answer \n",
    "The answer is b. \n",
    "\n",
    "The simpler `transpile` function **internally** creates a preset staged pass manager via `generate_preset_pass_manager` using the given options (e.g., `optimization_level`) and then runs it on the input circuit(s).\n",
    ":::\n"
   ]
  }
 ],
 "metadata": {
  "colab": {
   "name": "transpile_and_optimize_circuits_questions.ipynb"
  },
  "created": "2025-09-18T13:02:24.383146Z",
  "kernelspec": {
   "display_name": "Python 3 (ipykernel)",
   "language": "python",
   "name": "python3"
  },
  "language_info": {
   "codemirror_mode": {
    "name": "ipython",
    "version": 3
   },
   "file_extension": ".py",
   "mimetype": "text/x-python",
   "name": "python",
   "nbconvert_exporter": "python",
   "pygments_lexer": "ipython3",
   "version": "3.13.7"
  }
 },
 "nbformat": 4,
 "nbformat_minor": 5
}
