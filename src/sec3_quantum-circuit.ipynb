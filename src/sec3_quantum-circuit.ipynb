{
 "cells": [
  {
   "cell_type": "markdown",
   "id": "0c34c398-6030-4d82-a531-3bb420401dd5",
   "metadata": {},
   "source": [
    "# Section 3: Create quantum circuits"
   ]
  },
  {
   "cell_type": "markdown",
   "id": "2227b31d-056b-42f0-8da6-74f5a82ef42c",
   "metadata": {},
   "source": [
    "## TASK3.1: Construct dynamic circuits"
   ]
  },
  {
   "cell_type": "markdown",
   "id": "75f441f2-adf4-40d7-b54e-58309b2d5cbf",
   "metadata": {},
   "source": [
    "1. Which construct is used to express classical feedforward control within a circuit?\n",
    "\n",
    "a. `QuantumCircuit.if_test` used as a context manager<br>\n",
    "b. `QuantumCircuit.if_else` with nested `with` blocks<br>\n",
    "c. `QuantumCircuit.condition` decorator on gates<br>\n",
    "d. `QuantumCircuit.classical_control` function<br>"
   ]
  },
  {
   "cell_type": "markdown",
   "id": "b891861e-193f-4dbe-aa87-6e8436549e01",
   "metadata": {},
   "source": [
    ":::{dropdown}answer \n",
    "The answer is a. \n",
    "\n",
    "`QuantumCircuit.if_test` is the supported construct to express conditional execution (classical feedforward) in dynamic circuits. It is used as a context manager within a `with` statement. Qiskit Runtime currently supports only the conditional `if` control-flow structure from OpenQASM 3; other higher-level helpers such as a generic `if_else` or decorators are not available as described in this guide. \n",
    ":::\n"
   ]
  },
  {
   "cell_type": "markdown",
   "id": "3c0f4e6e-3a98-4332-a7bf-2780852ef3af",
   "metadata": {},
   "source": [
    "2. What is the effect of the example circuit that applies `h(q0)`, measures `q0` into `c0`, and then applies `x(q0)` only if `c0 == 1`, followed by a final measurement of `q0`?\n",
    "\n",
    "a. The final outcome is always `0` with near 100% probability<br>\n",
    "b. The final outcome is `1` with near 100% probability<br>\n",
    "c. The final distribution remains 50/50 between `0` and `1`<br>\n",
    "d. The result is hardware-dependent and undefined in ideal simulation<br>"
   ]
  },
  {
   "cell_type": "markdown",
   "id": "1677334b-609e-4005-8d5c-0dbf744f8c42",
   "metadata": {},
   "source": [
    ":::{dropdown}answer \n",
    "The answer is a. \n",
    "\n",
    "The Hadamard creates an equal superposition; measuring collapses to `0` or `1`. If the outcome is `1`, the conditional X flips the qubit back to `|0⟩`. Therefore, after the feedforward correction, the final measurement of `q0` yields `0` with essentially 100% probability in the ideal model. \n",
    ":::\n"
   ]
  },
  {
   "cell_type": "markdown",
   "id": "3f0dc53e-af87-49cc-b773-2b4d1fe951df",
   "metadata": {},
   "source": [
    "3. How do you create an `else` block paired with an `if_test` block?\n",
    "\n",
    "a. Chain another `with circuit.if_test((c, 0)):` immediately after<br>\n",
    "b. Capture the context manager as a target in `with circuit.if_test(...) as else_:` and then use `with else_:` for the `else` block<br>\n",
    "c. Use `with circuit.else_test():` right after the `if` block<br>\n",
    "d. Define an `else:` statement in regular Python (outside the circuit) to emit circuit ops<br>"
   ]
  },
  {
   "cell_type": "markdown",
   "id": "2266b756-4075-4fee-b6a4-6743e3c1ca4f",
   "metadata": {},
   "source": [
    ":::{dropdown}answer \n",
    "The answer is b. \n",
    "\n",
    "`if_test` returns a context manager that can be assigned (e.g., `as else_`). This handle can be re-entered with `with else_:` to add the `else` branch. \n",
    ":::\n"
   ]
  },
  {
   "cell_type": "markdown",
   "id": "43015472-177c-4d1b-b5f3-bb63d238871c",
   "metadata": {},
   "source": [
    "4. When conditioning on multiple classical bits (a classical register), which statement is correct?\n",
    "\n",
    "a. You can condition only on single bits; registers are unsupported<br>\n",
    "b. You can condition on a register value, using an integer mask like `0b001`<br>\n",
    "c. You must first convert registers to integers with `to_int()`<br>\n",
    "d. You must use OpenQASM 3 input files; Qiskit SDK cannot build such circuits<br>"
   ]
  },
  {
   "cell_type": "markdown",
   "id": "c13a35d4-93d5-4394-ad22-a504532e39ee",
   "metadata": {},
   "source": [
    ":::{dropdown}answer \n",
    "The answer is b. \n",
    "\n",
    "The guide shows conditioning on the value of a classical register using integer literals (e.g., `0b001`). The drawer indicates white/black circles for conditioning on `0`/`1` for the respective classical bits. \n",
    ":::\n"
   ]
  },
  {
   "cell_type": "markdown",
   "id": "b84b9317-4c13-45c7-95e2-5f90e82d40a4",
   "metadata": {},
   "source": [
    "5. Which of the following is **not allowed** according to the listed Qiskit Runtime limitations?\n",
    "\n",
    "a. Nested `if_test` blocks (an `if_test` inside another `if_test`)<br>\n",
    "b. Using a single-bit slice from a large classical register in the condition<br>\n",
    "c. Broadcasting at most 60 bits per broadcast<br>\n",
    "d. Conditioning on a ≤32-bit-wide classical register<br>"
   ]
  },
  {
   "cell_type": "markdown",
   "id": "55b29e4d-34aa-48a0-9f20-b6e9e4b3dc68",
   "metadata": {},
   "source": [
    ":::{dropdown}answer \n",
    "The answer is a. \n",
    "\n",
    "Nested conditionals are not allowed. The guide explicitly states that an `if_test` within another `if_test` is invalid. The other options are supported within stated limits: single-bit conditions from a large register are fine, broadcasts must be ≤60 bits at a time, and register operands must be ≤32 bits when used as the condition. \n",
    ":::\n"
   ]
  },
  {
   "cell_type": "markdown",
   "id": "11b818fd-d59f-42f0-9588-a4f1493c106f",
   "metadata": {},
   "source": [
    "6. The term **broadcast** in Qiskit Runtime dynamic circuits best refers to which scenario?\n",
    "\n",
    "a. The number of qubits measured per circuit<br>\n",
    "b. A transfer of unique classical data for evaluating an `if_test` condition<br>\n",
    "c. An emission of results back to the client at the end of execution<br>\n",
    "d. The total number of `measure` instructions in the job<br>"
   ]
  },
  {
   "cell_type": "markdown",
   "id": "01b21483-b126-4b47-930b-7af8984ea97a",
   "metadata": {},
   "source": [
    ":::{dropdown}answer \n",
    "The answer is b. \n",
    "\n",
    "A broadcast is a transfer of unique classical data (bits) required to evaluate `if_test` conditions. Multiple `if_test` statements on the same unchanged classical data constitute one broadcast; using a different classical register (or bits) triggers another broadcast. \n",
    ":::\n"
   ]
  },
  {
   "cell_type": "markdown",
   "id": "a8cf0865-60fb-40fb-b859-9e6ffe93846a",
   "metadata": {},
   "source": [
    "7. Which limit combination is correctly described for Qiskit Runtime?\n",
    "\n",
    "a. Operand to `if_test` must be ≤64 bits; broadcasts can be up to 64 bits<br>\n",
    "b. Operand to `if_test` must be ≤32 bits; broadcasts can be up to 60 bits<br>\n",
    "c. No limit on operand width if using OpenQASM 3; broadcasts up to 60 bits<br>\n",
    "d. Operand to `if_test` must be ≤16 bits; broadcasts can be up to 32 bits<br>"
   ]
  },
  {
   "cell_type": "markdown",
   "id": "1e0f813c-b180-40c0-8986-9980dad5fb58",
   "metadata": {},
   "source": [
    ":::{dropdown}answer \n",
    "The answer is b. \n",
    "\n",
    "The guide states that `if_test` operands must be 32 bits or fewer and that no more than 60 bits can be broadcast at a time. \n",
    ":::\n"
   ]
  },
  {
   "cell_type": "markdown",
   "id": "322e2884-c3ef-420b-908f-1686b203bca7",
   "metadata": {},
   "source": [
    "8. Which of the following is **disallowed** inside an `if_test` block under current limitations?\n",
    "\n",
    "a. Applying standard quantum gates like `x`, `h`, `cx`<br>\n",
    "b. Calling `reset` or performing measurements<br>\n",
    "c. Using a single classical bit from a large register<br>\n",
    "d. Using `barrier` to separate broadcasts<br>"
   ]
  },
  {
   "cell_type": "markdown",
   "id": "14ef4722-d7af-4b23-8885-007fbf7f0c2a",
   "metadata": {},
   "source": [
    ":::{dropdown}answer \n",
    "The answer is b. \n",
    "\n",
    "Having `reset` or measurements inside conditionals is not supported in current Qiskit Runtime restrictions. The other actions are allowed (within normal constraints). \n",
    ":::\n"
   ]
  },
  {
   "cell_type": "markdown",
   "id": "d61a37f0-ecb0-456e-9fd7-c65ef2877bd6",
   "metadata": {},
   "source": [
    "9. What is the purpose of `qiskit.circuit.classical.expr` in the context of dynamic circuits?\n",
    "\n",
    "a. It optimizes quantum gate scheduling at transpile time<br>\n",
    "b. It represents runtime classical expressions (e.g., XOR parity) used in conditions<br>\n",
    "c. It converts OpenQASM 2 to Qiskit circuits<br>\n",
    "d. It provides arithmetic operations for classical ALU inside hardware<br>"
   ]
  },
  {
   "cell_type": "markdown",
   "id": "13b77c04-c551-4ef4-b97b-3eac7620585d",
   "metadata": {},
   "source": [
    ":::{dropdown}answer \n",
    "The answer is b. \n",
    "\n",
    "The `expr` module offers an exploratory representation for building runtime classical expressions (e.g., parity via XOR) that can be used with `QuantumCircuit.if_test()`. Arithmetic/ALU operations are not supported; only boolean logic in the supported conditions is available. \n",
    ":::\n"
   ]
  },
  {
   "cell_type": "markdown",
   "id": "241eec90-e09e-44c7-9e80-9f8f7169aa4d",
   "metadata": {},
   "source": [
    "10. Which statement best captures the current platform support as described in the guide?\n",
    "\n",
    "a. All OpenQASM 3 control-flow features (`for`, `while`, `if`) are supported in Qiskit Runtime<br>\n",
    "b. Only `if` is supported in Qiskit Runtime; in Qiskit SDK this is exposed as `QuantumCircuit.if_test`<br>\n",
    "c. Qiskit Runtime supports `if` and `while` but not `for`<br>\n",
    "d. Qiskit SDK supports none of OpenQASM 3 control-flow features<br>"
   ]
  },
  {
   "cell_type": "markdown",
   "id": "7ffc7043-08ae-4499-af43-7c761fabf166",
   "metadata": {},
   "source": [
    ":::{dropdown}answer \n",
    "The answer is b. \n",
    "\n",
    "Qiskit Runtime currently only supports the conditional `if` statement from OpenQASM 3. In Qiskit SDK this capability is exposed via the `if_test` context manager. \n",
    ":::\n"
   ]
  },
  {
   "cell_type": "markdown",
   "id": "7581e59c-afac-45fc-991a-ba663d8eda6e",
   "metadata": {},
   "source": [
    "11. In a job, you measure into `cr1` (32 bits) and `cr2` (32 bits), then immediately test both registers in two `if_test` statements without a barrier. Why can this be invalid?\n",
    "\n",
    "a. Two separate `if_test` blocks are illegal in the same circuit<br>\n",
    "b. The total broadcasted bits (32 + 32) can exceed the 60-bit limit in one broadcast group<br>\n",
    "c. Measuring more than 32 qubits in one job is not supported<br>\n",
    "d. The `barrier` instruction is deprecated in dynamic circuits<br>"
   ]
  },
  {
   "cell_type": "markdown",
   "id": "33f817fb-d7ca-42db-8d09-fb5df4e7fd07",
   "metadata": {},
   "source": [
    ":::{dropdown}answer \n",
    "The answer is b. \n",
    "\n",
    "Broadcasting more than 60 bits at a time is not allowed. Testing both 32-bit registers back-to-back without separating broadcasts can exceed the 60-bit-per-broadcast limit; inserting a `barrier()` can split them into separate broadcasts and satisfy the constraint. \n",
    ":::\n"
   ]
  },
  {
   "cell_type": "markdown",
   "id": "f3c2ad06-0b2d-47ae-ad95-bb496ccc8fde",
   "metadata": {},
   "source": [
    "12. Which statement about early access and performance trade-offs is accurate?\n",
    "\n",
    "a. Dynamic circuits are GA and have no performance considerations<br>\n",
    "b. Mid-circuit measurement and classical ops can increase execution time compared to two-qubit gates<br>\n",
    "c. Mid-circuit measurement is always faster than two-qubit gates, reducing latency<br>\n",
    "d. Qiskit Runtime disallows any mid-circuit measurement entirely<br>"
   ]
  },
  {
   "cell_type": "markdown",
   "id": "5903d096-6be9-4b43-bb28-394db91ba384",
   "metadata": {},
   "source": [
    ":::{dropdown}answer \n",
    "The answer is b. \n",
    "\n",
    "Dynamic circuits are early access in Runtime and that mid-circuit measurements plus classical feedforward can lengthen execution time relative to two-qubit gates, potentially offsetting depth reductions. \n",
    ":::\n"
   ]
  },
  {
   "cell_type": "markdown",
   "id": "919851a1-f53a-4cf6-b40b-36afdc5c112e",
   "metadata": {},
   "source": [
    "13. Which example use case is highlighted as benefiting from dynamic circuits?\n",
    "\n",
    "a. Amplitude estimation via deep, fixed-depth circuits only<br>\n",
    "b. Efficient sampling of IQP-like circuits<br>\n",
    "c. Only classical simulation improvements<br>\n",
    "d. Transpile-time peephole optimizations<br>"
   ]
  },
  {
   "cell_type": "markdown",
   "id": "13e78d1d-68bc-4422-8ebd-b60a9c47584f",
   "metadata": {},
   "source": [
    ":::{dropdown}answer \n",
    "The answer is b. \n",
    "\n",
    "There are several use cases, including efficient sampling of IQP-like circuits, efficient long-range entanglement on a chip, and shallow-state preparation (e.g., GHZ, W, and MPS families). \n",
    ":::\n"
   ]
  },
  {
   "cell_type": "markdown",
   "id": "40462c2d-85d4-498c-8e5e-9d4a68666bdd",
   "metadata": {},
   "source": [
    "14. Regarding OpenQASM 3 and Qiskit Runtime interoperability, which statement is correct?\n",
    "\n",
    "a. Any OpenQASM 3 program with classical operations can be run directly in Runtime<br>\n",
    "b. Only instructions loadable into Qiskit are supported when passing OpenQASM 3 as input to Runtime primitives<br>\n",
    "c. Qiskit Runtime natively executes arbitrary OpenQASM 3 classical arithmetic<br>\n",
    "d. OpenQASM 3 input bypasses all Runtime limitations listed in the guide<br>"
   ]
  },
  {
   "cell_type": "markdown",
   "id": "bf51a398-b9a1-45a0-91ff-067deafa5508",
   "metadata": {},
   "source": [
    ":::{dropdown}answer \n",
    "The answer is b. \n",
    "\n",
    "When OpenQASM 3 is used as the input format, only instructions that can be loaded into Qiskit are supported. Classical operations beyond what Qiskit can load are not supported; the OpenQASM 3 feature table determines compatibility. \n",
    ":::\n"
   ]
  },
  {
   "cell_type": "markdown",
   "id": "c65b8257-29a8-41ff-805d-9acfdec2b738",
   "metadata": {},
   "source": [
    "15. You need to build an n‑qubit GHZ state using dynamic circuits with parity-based corrections. Which approach matches the guide?\n",
    "\n",
    "a. Use arithmetic addition over classical bits to compute parity<br>\n",
    "b. Use `qiskit.circuit.classical.expr.bit_xor` to compute parity and guard `x` with `if_test(parity)`<br>\n",
    "c. Post-select results after execution; dynamic circuits are not used<br>\n",
    "d. Use nested `if_test` to encode multiple parities<br>"
   ]
  },
  {
   "cell_type": "markdown",
   "id": "68e6e0f9-5ac9-4fa7-8ee4-3af9565d999f",
   "metadata": {},
   "source": [
    ":::{dropdown}answer \n",
    "The answer is b. \n",
    "\n",
    "The guide shows constructing GHZ states by computing parity using `expr.bit_xor` over measured bits and using that expression within `if_test` to conditionally apply `x` corrections. Arithmetic operations and nested `if_test` are not supported. \n",
    ":::\n"
   ]
  },
  {
   "cell_type": "markdown",
   "id": "6d7bab5e-121f-42f1-bf15-8c6e5f979008",
   "metadata": {},
   "source": [
    "## TASK 3.3: Transpile and optimize circuits"
   ]
  },
  {
   "cell_type": "markdown",
   "id": "9baec0e4",
   "metadata": {},
   "source": [
    "1. Which of the following lists the preset transpiler pipeline stages in the correct order?\n",
    "\n",
    "a. layout → routing → translation → optimization → scheduling → init<br>\n",
    "b. init → layout → routing → translation → optimization → scheduling<br>\n",
    "c. init → routing → layout → translation → scheduling → optimization<br>\n",
    "d. layout → translation → routing → optimization → init → scheduling<br>\n"
   ]
  },
  {
   "cell_type": "markdown",
   "id": "7e175b5c",
   "metadata": {},
   "source": [
    ":::{dropdown}answer \n",
    "The answer is b. \n",
    "\n",
    "The preset pipeline in Qiskit’s staged pass managers is ordered as: **init → layout → routing → translation → optimization → scheduling**. \n",
    "The `init` stage handles early housekeeping (e.g., reducing multi-qubit ops to 1–2 qubits where needed), then **layout** selects a mapping from virtual to physical qubits, **routing** inserts SWAPs as required by hardware connectivity, **translation** compiles to the target basis gates, **optimization** reduces depth and cancels redundant operations, and **scheduling** (only when requested) inserts delays and accounts for timing.\n",
    ":::"
   ]
  },
  {
   "cell_type": "markdown",
   "id": "0bc9cbe8",
   "metadata": {},
   "source": [
    "2. Which statement best describes the purpose of the **init** stage?\n",
    "\n",
    "a. It always runs by default and performs hardware-aware scheduling.<br>\n",
    "b. It performs SWAP insertion to ensure two-qubit connectivity.<br>\n",
    "c. It primarily enables early, optional cleanups and translates gates acting on 3+ qubits into 1–2 qubit operations.<br>\n",
    "d. It decomposes circuits into the backend basis and cancels adjacent CNOT gates.<br>\n"
   ]
  },
  {
   "cell_type": "markdown",
   "id": "d50e7347",
   "metadata": {},
   "source": [
    ":::{dropdown}answer \n",
    "The answer is c. \n",
    "\n",
    "The **init** stage does very little by default, but it’s where you can insert early optimizations if desired. Since many downstream algorithms expect only single- and two-qubit operations, this stage also translates any operation acting on three or more qubits into 1–2 qubit gates.\n",
    ":::"
   ]
  },
  {
   "cell_type": "markdown",
   "id": "261de17a",
   "metadata": {},
   "source": [
    "3. In the **layout** stage, which pass uses a subgraph isomorphism approach (VF2++) to find an ideal mapping of virtual to physical qubits?\n",
    "\n",
    "a. SabreSwap<br>\n",
    "b. VF2Layout<br>\n",
    "c. DenseLayout<br>\n",
    "d. TrivialLayout<br>\n"
   ]
  },
  {
   "cell_type": "markdown",
   "id": "808aada4",
   "metadata": {},
   "source": [
    ":::{dropdown}answer \n",
    "The answer is b. \n",
    "\n",
    "**VF2Layout** treats layout selection as a subgraph isomorphism problem and uses VF2++ to search for candidate layouts; if multiple candidates are found, a scoring heuristic picks the one with the lowest average error.\n",
    ":::"
   ]
  },
  {
   "cell_type": "markdown",
   "id": "126ec853",
   "metadata": {},
   "source": [
    "4. Which statement about **TrivialLayout** in the layout stage is correct?\n",
    "\n",
    "a. It is the only layout method used at all optimization levels.<br>\n",
    "b. It randomly permutes qubits to maximize entangling gate parallelism.<br>\n",
    "c. It maps qubits in circuit order and is used historically at optimization level 1 to try a perfect layout before other methods.<br>\n",
    "d. It is the default stochastic router for SWAP insertion.<br>\n"
   ]
  },
  {
   "cell_type": "markdown",
   "id": "1f144dea",
   "metadata": {},
   "source": [
    ":::{dropdown}answer \n",
    "The answer is c. \n",
    "\n",
    "**TrivialLayout** naively maps virtual qubits to identically numbered physical qubits and is (historically) tried at **optimization level 1** to see if a perfect layout exists; otherwise, other layout heuristics (such as **VF2Layout** or **SabreLayout**) are used.\n",
    ":::"
   ]
  },
  {
   "cell_type": "markdown",
   "id": "35a3de27",
   "metadata": {},
   "source": [
    "5. Why can repeated runs of the same circuit produce a **distribution** of depths after routing?\n",
    "\n",
    "a. Because routing is solved exactly and deterministically for each run.<br>\n",
    "b. Because the SabreSwap router is **stochastic**, so SWAP insertion can vary across runs.<br>\n",
    "c. Because translation to basis gates happens before layout.<br>\n",
    "d. Because scheduling always inserts the same delays.<br>\n"
   ]
  },
  {
   "cell_type": "markdown",
   "id": "88861657",
   "metadata": {},
   "source": [
    ":::{dropdown}answer \n",
    "The answer is b. \n",
    "\n",
    "Finding an optimal SWAP mapping is NP-hard, so Qiskit uses the **stochastic** heuristic **SabreSwap**. Its randomness leads to different SWAP patterns on different runs, yielding a distribution of circuit depths and gate counts.\n",
    ":::"
   ]
  },
  {
   "cell_type": "markdown",
   "id": "87dd971a",
   "metadata": {},
   "source": [
    "6. In the **translation** stage, which of the following is true when the SWAP gate is **not** native to the backend?\n",
    "\n",
    "a. It is executed directly as a hardware-native delay instruction.<br>\n",
    "b. It is decomposed into **three CX** gates (plus any necessary single-qubit gates).<br>\n",
    "c. It is replaced by a Toffoli (CCX) gate pair.<br>\n",
    "d. It is removed because SWAPs are never required on hardware.<br>\n"
   ]
  },
  {
   "cell_type": "markdown",
   "id": "d20bd1de",
   "metadata": {},
   "source": [
    ":::{dropdown}answer \n",
    "The answer is b. \n",
    "\n",
    "When SWAP is not native to the target’s basis, it is decomposed into a sequence of native gates—commonly **three CNOT (CX)** gates—making SWAPs expensive on noisy hardware and motivating layout/routing that minimizes their use.\n",
    ":::"
   ]
  },
  {
   "cell_type": "markdown",
   "id": "4125dbda",
   "metadata": {},
   "source": [
    "7. Which preset **optimization level** includes passes such as **Collect2qBlocks**, **ConsolidateBlocks**, and **UnitarySynthesis**?\n",
    "\n",
    "a. Level 0<br>\n",
    "b. Level 1<br>\n",
    "c. Level 2<br>\n",
    "d. Level 3<br>\n"
   ]
  },
  {
   "cell_type": "markdown",
   "id": "f81e4f56",
   "metadata": {},
   "source": [
    ":::{dropdown}answer \n",
    "The answer is d. \n",
    "\n",
    "At **optimization level 3**, the staged pass manager adds deeper structural optimizations such as **Collect2qBlocks**, **ConsolidateBlocks**, and **UnitarySynthesis**, in addition to single-qubit optimizations and commutation-based cancellations.\n",
    ":::"
   ]
  },
  {
   "cell_type": "markdown",
   "id": "ea395f01",
   "metadata": {},
   "source": [
    "8. Which statement about the **scheduling** stage is correct?\n",
    "\n",
    "a. Scheduling always runs by default after optimization.<br>\n",
    "b. Scheduling must be explicitly requested (e.g., via `scheduling_method`), and it inserts **Delay** instructions to account for idle times.<br>\n",
    "c. Scheduling is the stage that performs VF2 layout search.<br>\n",
    "d. Scheduling translates to the target basis and cancels adjacent CNOTs.<br>\n"
   ]
  },
  {
   "cell_type": "markdown",
   "id": "fae2db1c",
   "metadata": {},
   "source": [
    ":::{dropdown}answer \n",
    "The answer is b. \n",
    "\n",
    "Scheduling **does not run by default**; you trigger it by specifying a `scheduling_method` (e.g., `\"asap\"`). It analyzes timing and inserts **Delay** instructions for idle periods, helping estimate execution timing on the backend.\n",
    ":::"
   ]
  },
  {
   "cell_type": "markdown",
   "id": "8492ca7a",
   "metadata": {},
   "source": [
    "9. What is the **recommended** way to transpile a circuit in Qiskit?\n",
    "\n",
    "a. Call `transpile(circuit)` only; pass managers are deprecated.<br>\n",
    "b. Create a **preset staged pass manager** with `generate_preset_pass_manager(...)` and call `run(circuit)`.<br>\n",
    "c. Directly construct a `StagedPassManager` is forbidden; only `PassManager` is allowed.<br>\n",
    "d. Only schedule the circuit; layout and routing are optional and unnecessary.<br>\n"
   ]
  },
  {
   "cell_type": "markdown",
   "id": "55aa6cee",
   "metadata": {},
   "source": [
    ":::{dropdown}answer \n",
    "The answer is b. \n",
    "\n",
    "The recommended workflow is to build a **preset staged pass manager** with `generate_preset_pass_manager` (choosing an `optimization_level`, backend, and options) and then invoke its **`run`** method on the circuit.\n",
    ":::"
   ]
  },
  {
   "cell_type": "markdown",
   "id": "992689f8",
   "metadata": {},
   "source": [
    "10. Which description best characterizes a **staged pass manager**?\n",
    "\n",
    "a. A pass manager composed directly of gates instead of passes.<br>\n",
    "b. A pass manager that contains one monolithic pass implementing all stages.<br>\n",
    "c. An abstraction that is **composed of multiple pass managers**, each representing a transpiler stage (e.g., layout, routing, translation).<br>\n",
    "d. A pass manager that only schedules circuits and cannot do layout or routing.<br>\n"
   ]
  },
  {
   "cell_type": "markdown",
   "id": "492dc207",
   "metadata": {},
   "source": [
    ":::{dropdown}answer \n",
    "The answer is c. \n",
    "\n",
    "A **StagedPassManager** is built from per-stage **PassManager** instances (e.g., for layout, routing, translation), providing a higher-level abstraction aligned with the logical stages of transpilation.\n",
    ":::"
   ]
  },
  {
   "cell_type": "markdown",
   "id": "023d4ebd",
   "metadata": {},
   "source": [
    "11. You start from a preset staged pass manager at optimization level 3 and want to add extra **logical optimization before layout**. What is a supported approach?\n",
    "\n",
    "a. You cannot modify a preset pass manager.<br>\n",
    "b. Assign a custom `pre_layout` stage (e.g., an `InverseCancellation` pass list) to the staged pass manager.<br>\n",
    "c. Replace the router with `generate_embed_passmanager`, which is strictly for scheduling.<br>\n",
    "d. Insert scheduling analysis passes into the translation stage by default.<br>\n"
   ]
  },
  {
   "cell_type": "markdown",
   "id": "b482c6a3",
   "metadata": {},
   "source": [
    ":::{dropdown}answer \n",
    "The answer is b. \n",
    "\n",
    "You can **augment** a preset staged pass manager by adding custom stages like **`pre_layout`** (e.g., with `InverseCancellation`) or by swapping out stages. Stage generator helpers such as `generate_embed_passmanager` can assist when building custom stages.\n",
    ":::"
   ]
  },
  {
   "cell_type": "markdown",
   "id": "8983ac8a",
   "metadata": {},
   "source": [
    "12. Which statement about `transpile` vs. preset staged pass managers is accurate?\n",
    "\n",
    "a. `transpile` does not use pass managers internally.<br>\n",
    "b. `transpile` internally **calls** `generate_preset_pass_manager` and runs it on the circuit.<br>\n",
    "c. `transpile` always performs scheduling by default.<br>\n",
    "d. `transpile` can only accept lists of circuits, not a single circuit.<br>\n"
   ]
  },
  {
   "cell_type": "markdown",
   "id": "f68006a8",
   "metadata": {},
   "source": [
    ":::{dropdown}answer \n",
    "The answer is b. \n",
    "\n",
    "The simpler `transpile` function **internally** creates a preset staged pass manager via `generate_preset_pass_manager` using the given options (e.g., `optimization_level`) and then runs it on the input circuit(s).\n",
    ":::\n"
   ]
  }
 ],
 "metadata": {
  "colab": {
   "name": "transpile_and_optimize_circuits_questions.ipynb"
  },
  "created": "2025-09-18T13:02:24.383146Z",
  "kernelspec": {
   "display_name": "Python 3 (ipykernel)",
   "language": "python",
   "name": "python3"
  },
  "language_info": {
   "codemirror_mode": {
    "name": "ipython",
    "version": 3
   },
   "file_extension": ".py",
   "mimetype": "text/x-python",
   "name": "python",
   "nbconvert_exporter": "python",
   "pygments_lexer": "ipython3",
   "version": "3.13.7"
  }
 },
 "nbformat": 4,
 "nbformat_minor": 5
}
