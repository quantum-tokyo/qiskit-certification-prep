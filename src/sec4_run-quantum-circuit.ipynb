{
 "cells": [
  {
   "cell_type": "markdown",
   "id": "b064aab1-be5b-4e5a-94a8-87b243367505",
   "metadata": {},
   "source": [
    "# Section 4: Run quantum circuits"
   ]
  },
  {
   "cell_type": "markdown",
   "id": "5d45ee82-9aaf-4967-8086-b794922fa32b",
   "metadata": {},
   "source": [
    "## TASK 4.1: Demonstrate an understanding of execution modes such as: session with dedicated, priority, and batch mode"
   ]
  },
  {
   "cell_type": "markdown",
   "id": "99bda001",
   "metadata": {},
   "source": [
    "1. Which statement best distinguishes the three Qiskit Runtime execution modes?\n",
    "\n",
    "a. Job runs a single primitive request; Batch runs many independent jobs submitted all at once; Session provides a time window with exclusive access to a specific QPU.<br>\n",
    "b. Job and Batch are identical, but Session only works on simulators.<br>\n",
    "c. Session guarantees lower queue time for the very first job; Batch guarantees exclusive access.<br>\n",
    "d. Batch is only for variational algorithms; Session is only for tomography.<br>"
   ]
  },
  {
   "cell_type": "markdown",
   "id": "003aa04b",
   "metadata": {},
   "source": [
    ":::{dropdown}answer \n",
    "The answer is a. \n",
    "\n",
    "Job mode is for one-off primitive calls, Batch is optimized for multi-job workloads with all inputs ready, and Session opens a dedicated window with exclusive access to the QPU for iterative workloads.\n",
    "\n",
    "| Feature                                                        | Job                                                                                                             | Batch                                                                                                                                              | Session                                                                                                                                                                                              |\n",
    "| -------------------------------------------------------------- | --------------------------------------------------------------------------------------------------------------- | -------------------------------------------------------------------------------------------------------------------------------------------------- | ---------------------------------------------------------------------------------------------------------------------------------------------------------------------------------------------------- |\n",
    "| **When first job enters queue**                                | Just like a normal job; you incur full queue delay for that job.                                                | Same for the *first* job of the batch.                                                                                         | Same: queue for the first job.                                                                                                                                                   |\n",
    "| **Overhead per job**                                           | Each job has its own setup, queueing etc.                                                                       | Reduced overhead for multiple jobs — classical preprocessing parallelized; jobs are grouped.                                   | Reduced overhead between jobs; fewer gaps; more predictable performance.                                                                                                                             |\n",
    "| **QPU utilization / idle time**                                | You may get gaps if multiple jobs are submitted separately; QPU may be idle between them.                       | Aim is to minimize idle time between your jobs in the batch.                                                                   | Similarly, you reserve the QPU for your session, so minimal idle or interference.                                                                                                                    |\n",
    "| **Exclusivity / interference from other users / calibrations** | None — everything is regular shared queue.                                                                      | Not exclusive; other users’ jobs may run in parallel if capacity exists; calibration jobs might interrupt between batch jobs.  | Exclusive: no other users’ jobs, no calibration jobs in between.                                                                                                                 |\n",
    "| **Suitability**                                                | Good for single circuits or simple experiments. When you don't have many jobs or don’t need strict performance. | Good when you have many independent jobs and want to reduce per-job overhead.                                                                      | Good for iterative or interactive workloads, or when you need low latency / consistency / no surprises between jobs.                                                                                 |\n",
    "| **Constraints / limits**                                       | Very flexible; minimal constraints.                                                                             | Batches still share the normal queue at the start; you haven’t exclusive access; also, jobs may not run in the order submitted. | You get a session window with a *maximum time to live* (TTL). If that is exceeded, remaining jobs may fail; also some user classes (Open Plan users) may not be allowed sessions. |\n",
    "\n",
    "ref: [Introduction to execution modes | IBM Quantum Documentation](https://quantum.cloud.ibm.com/docs/en/guides/execution-modes)\n",
    "\n",
    ":::"
   ]
  },
  {
   "cell_type": "markdown",
   "id": "019afcac",
   "metadata": {},
   "source": [
    "2. In Session mode, what does \"dedicated\" access mean?\n",
    "\n",
    "a. Your jobs are scheduled before every other user, but calibration jobs may still interrupt execution.<br>\n",
    "b. Your workload has exclusive access to the selected backend during the active window; no other users' jobs or calibrations run during that time.<br>\n",
    "c. Your jobs run only on a simulator with higher concurrency.<br>\n",
    "d. Your batch is guaranteed to start immediately after submission.<br>"
   ]
  },
  {
   "cell_type": "markdown",
   "id": "fb835afb",
   "metadata": {},
   "source": [
    ":::{dropdown}answer \n",
    "The answer is b. \n",
    "\n",
    "A session grants an exclusive, dedicated execution window on the chosen QPU. During this window, no other users' jobs (including calibration jobs) are interleaved. \n",
    ":::"
   ]
  },
  {
   "cell_type": "markdown",
   "id": "1ee29861",
   "metadata": {},
   "source": [
    "3. Which statement correctly describes \"priority\" in the context of sessions?\n",
    "\n",
    "a. Closing a session cancels all queued jobs immediately without exception.<br>\n",
    "b. When a session is closed (not canceled), it stops accepting new jobs but continues to execute already queued session jobs with priority until completion.<br>\n",
    "c. Priority means sessions preempt running jobs from other users mid-shot.<br>\n",
    "d. Priority is a separate execution mode unrelated to sessions.<br>"
   ]
  },
  {
   "cell_type": "markdown",
   "id": "22276467",
   "metadata": {},
   "source": [
    ":::{dropdown}answer \n",
    "The answer is b. \n",
    "\n",
    "If you close (not cancel) a session, it no longer accepts new jobs, but the jobs already queued in that session continue and are treated with priority until they finish. \n",
    ":::"
   ]
  },
  {
   "cell_type": "markdown",
   "id": "e112d009",
   "metadata": {},
   "source": [
    "4. Which is true about Batch mode?\n",
    "\n",
    "a. It gives exclusive access to the QPU for the batch window.<br>\n",
    "b. It shortens first-job queuing time by skipping the normal queue.<br>\n",
    "c. It can parallelize or thread classical pre-processing across jobs, then pack quantum execution tightly; however, batches do *not* get exclusive access.<br>\n",
    "d. It requires iterative feedback between jobs and therefore cannot be used for independent jobs.<br>"
   ]
  },
  {
   "cell_type": "markdown",
   "id": "4cf7d20d",
   "metadata": {},
   "source": [
    ":::{dropdown}answer \n",
    "The answer is c. \n",
    "\n",
    "Batch mode improves throughput by parallelizing classical pre-processing and tightly sequencing QPU execution across multiple independent jobs, but it does not provide exclusive access to the QPU. \n",
    ":::"
   ]
  },
  {
   "cell_type": "markdown",
   "id": "7efb5d8b",
   "metadata": {},
   "source": [
    "5. How is usage (cost) accounted for across modes?\n",
    "\n",
    "a. Session usage equals only the sum of quantum time; Batch and Job usage count wall-clock time.<br>\n",
    "b. Session usage is wall-clock time from first job start until session termination; Batch usage is the sum of quantum time across batch jobs; Job usage is quantum time of that job.<br>\n",
    "c. All modes charge only for the number of shots requested.<br>\n",
    "d. Batch usage is wall-clock time; Session usage is quantum time only.<br>"
   ]
  },
  {
   "cell_type": "markdown",
   "id": "b3e108d7",
   "metadata": {},
   "source": [
    ":::{dropdown}answer \n",
    "The answer is b. \n",
    "\n",
    "Session usage is the full wall-clock window from first job start until the session ends; Batch usage sums quantum time of the batch's jobs; a single Job is charged by its quantum time. \n",
    ":::"
   ]
  },
  {
   "cell_type": "markdown",
   "id": "2c9fed35",
   "metadata": {},
   "source": [
    "6. Which statement about plan restrictions and best practices is correct?\n",
    "\n",
    "a. Open Plan users can freely run session jobs; Premium users cannot.<br>\n",
    "b. Open Plan users cannot submit session jobs; generally, prefer Batch for multi-job workloads unless you need the added benefits of a Session.<br>\n",
    "c. Batch mode is unavailable on paid plans.<br>\n",
    "d. Job mode is deprecated and should be avoided.<br>"
   ]
  },
  {
   "cell_type": "markdown",
   "id": "bb1f39cd",
   "metadata": {},
   "source": [
    ":::{dropdown}answer \n",
    "The answer is b. \n",
    "\n",
    "Open Plan users are restricted from using sessions. For most multi-job workloads with inputs ready, Batch is recommended; use Session when you need the dedicated window or iterative interaction. \n",
    ":::"
   ]
  },
  {
   "cell_type": "markdown",
   "id": "88eb3744",
   "metadata": {},
   "source": [
    "7. What happens if no jobs are ready within the \"interactive TTL\" during a batch or session?\n",
    "\n",
    "a. The workload is temporarily deactivated; later jobs can reactivate it as long as maximum TTL has not been reached.<br>\n",
    "b. The workload is immediately deleted and cannot be resumed.<br>\n",
    "c. All queued jobs are canceled automatically.<br>\n",
    "d. Interactive TTL only applies to Job mode, not Batch or Session.<br>"
   ]
  },
  {
   "cell_type": "markdown",
   "id": "682bc4ca",
   "metadata": {},
   "source": [
    ":::{dropdown}answer \n",
    "The answer is a. \n",
    "\n",
    "If the interactive TTL elapses with no jobs ready, the batch or session becomes inactive. A later job can reactivate it through the normal queue, provided the maximum TTL has not expired. \n",
    ":::"
   ]
  },
  {
   "cell_type": "markdown",
   "id": "a9248edd",
   "metadata": {},
   "source": [
    "8. Which statement about parallelism and ordering is accurate?\n",
    "\n",
    "a. In Batch mode, jobs always run strictly in the submission order.<br>\n",
    "b. In Session mode, you cannot run jobs in parallel.<br>\n",
    "c. In both Batch and Session modes, multiple jobs can run in parallel subject to backend parallelism; batches do not guarantee submission order.<br>\n",
    "d. Neither Batch nor Session supports parallel execution across jobs.<br>"
   ]
  },
  {
   "cell_type": "markdown",
   "id": "2b586a91",
   "metadata": {},
   "source": [
    ":::{dropdown}answer \n",
    "The answer is c. \n",
    "\n",
    "Backends can execute multiple jobs in parallel. Batches do not guarantee that jobs run in submission order; sessions can also exploit available parallelism. \n",
    ":::"
   ]
  },
  {
   "cell_type": "markdown",
   "id": "e69b065d",
   "metadata": {},
   "source": [
    "9. When creating a session through the REST API, which `mode` values are supported and what do they imply?\n",
    "\n",
    "a. `mode` can be `dedicated` for exclusive access or `batch` for a session scheduled like a batch (non-exclusive), depending on needs and plan.<br>\n",
    "b. `mode` must always be `session`; it has no other valid values.<br>\n",
    "c. `mode` accepts `priority` and `economy` only.<br>\n",
    "d. `mode` is optional and ignored by the platform.<br>"
   ]
  },
  {
   "cell_type": "markdown",
   "id": "3c490d31",
   "metadata": {},
   "source": [
    ":::{dropdown}answer \n",
    "The answer is a. \n",
    "\n",
    "The sessions API accepts a `mode` field with values such as `dedicated` (exclusive access) or `batch`. These control how the session is scheduled on the backend. \n",
    ":::"
   ]
  },
  {
   "cell_type": "markdown",
   "id": "e812fe31",
   "metadata": {},
   "source": [
    "10. Which statement about the first job in Batch or Session modes is correct?\n",
    "\n",
    "a. It skips the normal queue to start immediately.<br>\n",
    "b. It enters the normal queue; these modes do not reduce the first job's queuing time.<br>\n",
    "c. It is always preemptive over calibration jobs.<br>\n",
    "d. It is scheduled only after all other users' jobs complete.<br>"
   ]
  },
  {
   "cell_type": "markdown",
   "id": "e5d917aa",
   "metadata": {},
   "source": [
    ":::{dropdown}answer \n",
    "The answer is b. \n",
    "\n",
    "For both Batch and Session, the first job goes through the normal queue. These modes help after the first job starts (packing jobs or providing a dedicated window), not in bypassing the initial queue. \n",
    ":::"
   ]
  },
  {
   "cell_type": "markdown",
   "id": "cd4b0095-8d3b-446c-90ec-e9e1769bbe52",
   "metadata": {},
   "source": [
    "11. You have 60 independent primitive jobs (no data dependency between them), and all inputs are ready. Which execution mode best fits this workload and why?\n",
    "\n",
    "a. Session mode, because it provides an exclusive window and reduces first‑job queueing time.<br>\n",
    "b. Batch mode, because it lets you submit many independent jobs at once and exploit parallel processing without requiring exclusivity.<br>\n",
    "c. Job mode, because it guarantees strict FIFO across all users.<br>\n",
    "d. Session mode, because interactive TTL is configurable per user to hours.<br>"
   ]
  },
  {
   "cell_type": "markdown",
   "id": "e2cac47d-50e1-43b7-85a3-7b2166f9f070",
   "metadata": {},
   "source": [
    ":::{dropdown}answer \n",
    "The answer is b. \n",
    "\n",
    "Batch is intended for non‑iterative multi‑job workloads whose jobs can run independently. It enables parallel processing and tight packing on the backend without requiring dedicated, exclusive access. \n",
    ":::"
   ]
  },
  {
   "cell_type": "markdown",
   "id": "6b5e9b75-0dda-4ecf-a58e-84a080d2a3e9",
   "metadata": {},
   "source": [
    "12. In both Batch and Session modes, how is the very first job scheduled?\n",
    "\n",
    "a. It bypasses the normal queue and starts immediately.<br>\n",
    "b. It enters the normal queue like any other job; modes primarily help after the first job begins.<br>\n",
    "c. It preempts calibration jobs on the backend.<br>\n",
    "d. It is delayed until the batch/session accumulates at least five jobs.<br>"
   ]
  },
  {
   "cell_type": "markdown",
   "id": "690fd26a-a1e6-4eb4-97dc-46324f744123",
   "metadata": {},
   "source": [
    ":::{dropdown}answer \n",
    "The answer is b. \n",
    "\n",
    "Neither Batch nor Session short‑circuits the platform queue for the first job. Their benefits appear after the first job starts (parallel packing for Batch; dedicated window for Session). \n",
    ":::"
   ]
  },
  {
   "cell_type": "markdown",
   "id": "28f7a22c-b97d-46a5-bd29-d2434f0ec763",
   "metadata": {},
   "source": [
    "13. Which statement about Batch TTLs is correct?\n",
    "\n",
    "a. Interactive TTL in Batch is user‑configurable per instance.<br>\n",
    "b. When max TTL is reached, running jobs finish, but queued jobs are failed; interactive TTL being idle temporarily deactivates the batch.<br>\n",
    "c. When max TTL is reached, all jobs (running and queued) are canceled immediately.<br>\n",
    "d. Interactive TTL applies only to sessions, not batches.<br>"
   ]
  },
  {
   "cell_type": "markdown",
   "id": "785c766c-e13e-4214-90cf-207030f459d3",
   "metadata": {},
   "source": [
    ":::{dropdown}answer \n",
    "The answer is b. \n",
    "\n",
    "You can set a batch's `max_time` (max TTL). When reached, the batch closes: running jobs complete, queued jobs fail. There is also a fixed interactive TTL; if no jobs are queued within that window, the batch becomes temporarily inactive. \n",
    ":::"
   ]
  },
  {
   "cell_type": "markdown",
   "id": "27cc8519-3d6b-4579-b4b1-b77c3a8f6937",
   "metadata": {},
   "source": [
    "14. You are tuning parameters in a loop, where each iteration submits a small job that depends on the previous results. Which mode should you prefer?\n",
    "\n",
    "a. Batch mode, because it is designed for independent jobs with no conditional relation.<br>\n",
    "b. Session mode, because it is designed for iterative workloads and groups multiple jobs into one dedicated window.<br>\n",
    "c. Job mode, because it gives the finest control over each iteration's queueing.<br>\n",
    "d. Either Session or Batch; they are equivalent for iterative feedback.<br>"
   ]
  },
  {
   "cell_type": "markdown",
   "id": "b8f5912e-f476-4b00-b554-ad2d1e0fb711",
   "metadata": {},
   "source": [
    ":::{dropdown}answer \n",
    "The answer is b. \n",
    "\n",
    "Session mode is for iterative workloads where later jobs depend on earlier results, allowing efficient back‑and‑forth within a dedicated window. \n",
    ":::"
   ]
  },
  {
   "cell_type": "markdown",
   "id": "8941370e-1ce9-4cec-88a4-6989b0bd13c6",
   "metadata": {},
   "source": [
    "15. Which is true about ordering and parallelism when using Batch mode?\n",
    "\n",
    "a. Jobs always execute strictly in submission order.<br>\n",
    "b. Jobs may execute in parallel subject to backend capacity, and order is not guaranteed.<br>\n",
    "c. Jobs cannot run in parallel in Batch mode.<br>\n",
    "d. Order is guaranteed only if all jobs target the same primitive.<br>"
   ]
  },
  {
   "cell_type": "markdown",
   "id": "9768c241-7ab9-4508-9508-50c24d291bfb",
   "metadata": {},
   "source": [
    ":::{dropdown}answer \n",
    "The answer is b. \n",
    "\n",
    "Batch leverages backend parallelism when available. It does not guarantee submission order; the scheduler can run multiple jobs concurrently. \n",
    ":::"
   ]
  },
  {
   "cell_type": "markdown",
   "id": "7ad45bc1-df09-4757-bd2e-13d8fef1107e",
   "metadata": {},
   "source": [
    "16. What happens when a Batch context manager (`with Batch(...)`) exits or when `batch.close()` is called?\n",
    "\n",
    "a. The batch cancels all pending jobs immediately.<br>\n",
    "b. The batch stops accepting new jobs but lets running and already‑queued jobs complete (until TTL), then closes.<br>\n",
    "c. The batch remains open until manually canceled via the REST API.<br>\n",
    "d. The batch converts remaining jobs to a Session automatically.<br>"
   ]
  },
  {
   "cell_type": "markdown",
   "id": "cc4fdc62-7dc9-4709-948c-a0e5f05c26e1",
   "metadata": {},
   "source": [
    ":::{dropdown}answer \n",
    "The answer is b. \n",
    "\n",
    "Leaving the context or calling `close()` stops new job submissions. Running and queued jobs continue to completion (subject to TTL), after which the batch is closed. \n",
    ":::"
   ]
  },
  {
   "cell_type": "markdown",
   "id": "310c788e-2e1d-4fef-aa31-91234927b411",
   "metadata": {},
   "source": [
    "17. Which statement about usage accounting best reflects Batch versus Session?\n",
    "\n",
    "a. Batch usage is the sum of quantum time across batch jobs; Session usage is the wall‑clock time of the session window from its first job until it ends or goes inactive.<br>\n",
    "b. Both Batch and Session usage are calculated purely by shot count.<br>\n",
    "c. Batch usage is wall‑clock time; Session usage is only quantum time.<br>\n",
    "d. Both modes charge only while a job is running on the QPU, excluding classical time.<br>"
   ]
  },
  {
   "cell_type": "markdown",
   "id": "05c851fe-7928-4cc4-bec7-4104379c543b",
   "metadata": {},
   "source": [
    ":::{dropdown}answer \n",
    "The answer is a. \n",
    "\n",
    "In Batch, usage is the sum of quantum time used by jobs in the batch. In Session, usage is the wall‑clock window starting from the first job until it ends/goes inactive (includes classical and quantum). \n",
    ":::"
   ]
  },
  {
   "cell_type": "markdown",
   "id": "a646e305-46ae-455b-bdb2-970a7ac4a400",
   "metadata": {},
   "source": [
    "18. Inside a Batch or Session context, which configuration causes your primitive call to run in plain Job mode instead?\n",
    "\n",
    "a. Passing `mode=batch` (or `mode=session`) when creating the primitive.<br>\n",
    "b. Setting `backend=backend` directly on the primitive call, which overrides the context.<br>\n",
    "c. Calling `batch.details()` before the first submission.<br>\n",
    "d. Using different primitives (Sampler vs Estimator) in one batch.<br>"
   ]
  },
  {
   "cell_type": "markdown",
   "id": "152e5abd-591e-438c-806d-8dfb7befea17",
   "metadata": {},
   "source": [
    ":::{dropdown}answer \n",
    "The answer is b. \n",
    "\n",
    "Specifying `backend=backend` on the primitive forces job mode even inside a Batch or Session context. Prefer the `mode=` parameter to bind the primitive to the context. \n",
    ":::"
   ]
  },
  {
   "cell_type": "markdown",
   "id": "70898c5a-bdb7-4015-9c94-cf7daf57c4a2",
   "metadata": {},
   "source": [
    "19. Which guidance aligns with choosing the execution mode?\n",
    "\n",
    "a. Use Batch when you can prepare many independent jobs and want higher throughput; use Session when you need iterative feedback or a dedicated window.<br>\n",
    "b. Prefer Session for all workloads because it guarantees earliest start time.<br>\n",
    "c. Prefer Job mode for multi‑job workloads to maximize parallelism.<br>\n",
    "d. Use Batch only when jobs share the same transpilation options.<br>"
   ]
  },
  {
   "cell_type": "markdown",
   "id": "fefbb0d8-b992-43b6-a4f0-924c868f400e",
   "metadata": {},
   "source": [
    ":::{dropdown}answer \n",
    "The answer is a. \n",
    "\n",
    "Batch targets non‑iterative multi‑job workloads; Session targets iterative workloads and provides a dedicated execution window. Job mode is for one‑off jobs. \n",
    ":::"
   ]
  },
  {
   "cell_type": "markdown",
   "id": "acabd0cc-5b95-4a94-be27-e33ee388cbd9",
   "metadata": {},
   "source": [
    "20. How can you inspect a batch’s configuration (including TTL values) and current status from code?\n",
    "\n",
    "a. Call `batch.details()` to retrieve configuration and status, including interactive and max TTL values.<br>\n",
    "b. Call `service.batch_status()` which returns TTL values for every batch in the instance.<br>\n",
    "c. Use `sampler.options()` to see the batch’s TTLs.<br>\n",
    "d. It’s not possible to retrieve TTL values programmatically.<br>"
   ]
  },
  {
   "cell_type": "markdown",
   "id": "2e6e9934-33e5-42ef-85af-a263ef58ec36",
   "metadata": {},
   "source": [
    ":::{dropdown}answer \n",
    "The answer is a. \n",
    "\n",
    "`batch.details()` provides a comprehensive overview of the batch, including interactive and max TTL values and current status. \n",
    ":::"
   ]
  },
  {
   "cell_type": "markdown",
   "id": "d10e25ce-966f-4e25-a70b-4f704ef29e34",
   "metadata": {},
   "source": [
    "---"
   ]
  },
  {
   "cell_type": "markdown",
   "id": "c28e043d-a133-44c8-9b56-4e5bdd6b20d4",
   "metadata": {},
   "source": [
    "## TASK 4.2: Demonstrate understanding of how to run quantum circuits with real hardware using Qiskit Runtime primitives and applying broadcasting rules"
   ]
  },
  {
   "cell_type": "markdown",
   "id": "8e05d372-7403-4dde-a3f2-83fb636a440e",
   "metadata": {},
   "source": [
    "1. Which tuple structure is a valid Primitive Unified Bloc (PUB) for the **SamplerV2** when running on real hardware?\n",
    "\n",
    "a. A single `QuantumCircuit`, a parameter value collection (if needed), and an optional shot count<br>\n",
    "b. A list of `QuantumCircuit` objects, an observable, and a target precision<br>\n",
    "c. A single `QuantumCircuit` and a list of `SparsePauliOp` observables<br>\n",
    "d. Only a list of parameter values and a shot count<br>\n"
   ]
  },
  {
   "cell_type": "markdown",
   "id": "22167fcb-f1af-4fe0-8d3c-63656591e87a",
   "metadata": {},
   "source": [
    ":::{dropdown}answer \n",
    "The answer is a. \n",
    "\n",
    "The Sampler PUB contains at most three values: a single circuit (with measurements), an optional collection of parameter values to bind `Parameter`s at runtime, and an optional number of shots. \n",
    ":::\n"
   ]
  },
  {
   "cell_type": "markdown",
   "id": "ce80377f-36f1-4273-9f62-d60baaa9a6ea",
   "metadata": {},
   "source": [
    "2. In the **EstimatorV2** PUB, which elements are required to estimate expectation values on IBM Quantum hardware?\n",
    "\n",
    "a. A circuit, one or more observables (as an array-like), and optionally parameter values and a target precision<br>\n",
    "b. Only a circuit with measurements and a shot count<br>\n",
    "c. A list of circuits and a single observable string like `'ZZ'`<br>\n",
    "d. Just parameter values and a backend name<br>\n"
   ]
  },
  {
   "cell_type": "markdown",
   "id": "796bb612-b5f5-484b-9329-0401f65922c8",
   "metadata": {},
   "source": [
    ":::{dropdown}answer \n",
    "The answer is a. \n",
    "\n",
    "Estimator PUBs include a circuit, a list/array of observables, optional parameter bindings, and optional target precision. \n",
    ":::\n"
   ]
  },
  {
   "cell_type": "markdown",
   "id": "046a80da-8b3d-496e-a589-c2240e420a05",
   "metadata": {},
   "source": [
    "3. A circuit has two `Parameter`s. You pass parameter bindings shaped `(100, 2)` and an observables array shaped `(3, 1)` to **EstimatorV2** in one PUB. What is the shape of the resulting expectation value array for that PUB?\n",
    "\n",
    "a. (3, 100)<br>\n",
    "b. (100, 3)<br>\n",
    "c. (3,)<br>\n",
    "d. (100,)<br>\n"
   ]
  },
  {
   "cell_type": "markdown",
   "id": "49d4267b-13d7-4a19-b250-aa492b69cc05",
   "metadata": {},
   "source": [
    ":::{dropdown}answer \n",
    "The answer is a. \n",
    "\n",
    "NumPy-style broadcasting combines `(100, 2)` with `(3, 1)` to yield results shaped `(3, 100)`. \n",
    "\n",
    "## What is broadcasting in Qiskit\n",
    "\n",
    "* In Qiskit’s newer *primitive unified block* (PUB) interface, when you run primitives, you often pass in inputs that include:\n",
    "\n",
    "  1. one or more circuits\n",
    "  2. one or more observables (for Estimator)\n",
    "  3. sets of parameter values (“parameter bindings”)\n",
    "\n",
    "* Broadcasting is the process by which Qiskit “aligns” or “expands” those observable arrays and parameter–value arrays so that they match in shape and can be combined pairwise to produce results. It’s analogous to **NumPy broadcasting**: you may have, say, 3 observables but 100 parameter settings, or vice versa, and broadcasting lets you compute all combinations (or appropriate combinations) without manually duplicating data.\n",
    "\n",
    "* The result is that the output has a shape corresponding to the broadcasted shape of those input arrays. Each element in that output corresponds to a particular observables–params pair as determined by the broadcast.\n",
    "\n",
    "---\n",
    "\n",
    "## Broadcasting rules in Qiskit\n",
    "\n",
    "Qiskit follows the **NumPy broadcasting rules** for combining observables and parameter-value arrays. Key rules:\n",
    "\n",
    "1. **Different dimensions allowed**\n",
    "   Input arrays (observables, parameter values) do *not* need to have the same number of dimensions. The result will have as many dimensions as the input with the largest number of dims. \n",
    "\n",
    "2. **Size of each dimension = maximum among inputs**\n",
    "   For each dimension (counting from the rightmost / trailing dimension backwards), the output’s size is the maximum size of that dimension among the inputs. Missing dimensions are treated as having size 1. \n",
    "\n",
    "3. **Compatibility: either equal size or size 1**\n",
    "   For each corresponding dimension (again, aligning via the trailing dims), the sizes must either match, or one of them must be 1. If neither condition holds, the arrays *cannot* broadcast.\n",
    "\n",
    "4. **Shape starts from the rightmost dimension**\n",
    "   The broadcasting comparison begins at the last dimension of each array, then moves leftwards.\n",
    "\n",
    "## Ref\n",
    "[Primitive inputs and outputs | IBM Quantum Documentation](https://quantum.cloud.ibm.com/docs/guides/primitive-input-output)\n",
    "\n",
    ":::\n"
   ]
  },
  {
   "cell_type": "markdown",
   "id": "cc907db4-7dd2-4cf2-bf5d-5bbe905c25d9",
   "metadata": {},
   "source": [
    "4. To ensure your job runs on **real hardware** instead of a simulator using Qiskit Runtime primitives, which initialization is correct?\n",
    "\n",
    "a. `backend = QiskitRuntimeService().least_busy(operational=True, simulator=False)` then `Estimator(mode=backend)`<br>\n",
    "b. `backend = Aer.get_backend('qasm_simulator')` then `Sampler(mode=backend)`<br>\n",
    "c. `Estimator(mode='ibm_oslo')` without a `QiskitRuntimeService`<br>\n",
    "d. `Sampler()` with no mode or backend specified<br>\n"
   ]
  },
  {
   "cell_type": "markdown",
   "id": "99200986-bb40-4adc-be28-85887e2c16c1",
   "metadata": {},
   "source": [
    ":::{dropdown}answer \n",
    "The answer is a. \n",
    "\n",
    "Selecting a non-simulator backend (e.g., via `least_busy(..., simulator=False)`) and passing it to `mode=` runs on real hardware. \n",
    ":::\n"
   ]
  },
  {
   "cell_type": "markdown",
   "id": "c37b2037-be42-4773-89b9-08b5361a8abe",
   "metadata": {},
   "source": [
    "5. Which statement about running **SamplerV2** on hardware is true?\n",
    "\n",
    "a. Your circuit must include measurements (e.g., via `measure_all()`), otherwise no sampled bitstrings are returned<br>\n",
    "b. Measurements are optional because Sampler automatically infers them<br>\n",
    "c. Sampler returns expectation values and standard deviations directly<br>\n",
    "d. Shots can only be set globally on the primitive, not per PUB<br>\n"
   ]
  },
  {
   "cell_type": "markdown",
   "id": "818d3a94-0e33-4cc9-b52d-19ab3131804a",
   "metadata": {},
   "source": [
    ":::{dropdown}answer \n",
    "The answer is a. \n",
    "\n",
    "The Sampler expects circuits with measurement instructions to produce sampled results. \n",
    ":::\n"
   ]
  },
  {
   "cell_type": "markdown",
   "id": "c7e450ff-6d7b-478a-a188-57f350cdb57d",
   "metadata": {},
   "source": [
    "6. What does **EstimatorV2** return inside each `PubResult.data` for a single PUB?\n",
    "\n",
    "a. An object with `evs` (expectation values) and `stds` (standard deviations) matching the broadcasted shape<br>\n",
    "b. A `BitArray` of shot-by-shot bytes for each classical register<br>\n",
    "c. Only a scalar expectation value, without uncertainty<br>\n",
    "d. A dictionary of counts keyed by bitstring<br>\n"
   ]
  },
  {
   "cell_type": "markdown",
   "id": "469b03fc-191b-412f-b543-f9400ea6376e",
   "metadata": {},
   "source": [
    ":::{dropdown}answer \n",
    "The answer is a. \n",
    "\n",
    "Estimator PubResult `data` includes `evs` and `stds` arrays shaped according to your broadcasted inputs. \n",
    "\n",
    "```\n",
    "└── PrimitiveResult\n",
    "    ├── PubResult[0]\n",
    "    │   ├── metadata\n",
    "    │   └── data  ## In the form of a DataBin object\n",
    "    │       ├── evs\n",
    "    │       │   └── List of estimated expectation values in the shape\n",
    "    |       |         specified by the first pub\n",
    "    │       └── stds\n",
    "    │           └── List of calculated standard deviations in the\n",
    "    |                 same shape as above\n",
    "    ├── PubResult[1]\n",
    "    |   ├── metadata\n",
    "    |   └── data  ## In the form of a DataBin object\n",
    "    |       ├── evs\n",
    "    |       │   └── List of estimated expectation values in the shape\n",
    "    |       |        specified by the second pub\n",
    "    |       └── stds\n",
    "    |           └── List of calculated standard deviations in the\n",
    "    |                same shape as above\n",
    "    ├── ...\n",
    "    ├── ...\n",
    "    └── ...\n",
    "\n",
    "```\n",
    ":::\n"
   ]
  },
  {
   "cell_type": "markdown",
   "id": "46bcbb24-1bd4-4d29-bb1e-bd8e22d9003f",
   "metadata": {},
   "source": [
    "7. What does **SamplerV2** return inside each `PubResult.data` for a single PUB?\n",
    "\n",
    "a. One `BitArray` per classical register; counts can be derived (e.g., via `get_count`)<br>\n",
    "b. A single array of expectation values<br>\n",
    "c. Only a histogram dictionary of counts<br>\n",
    "d. A list of `SparsePauliOp` objects<br>\n"
   ]
  },
  {
   "cell_type": "markdown",
   "id": "26494328-4a2e-49f3-b726-e53d9beaea12",
   "metadata": {},
   "source": [
    ":::{dropdown}answer \n",
    "The answer is a. \n",
    "\n",
    "Sampler PubResult `data` is dict-like with a `BitArray` per `ClassicalRegister`; you can derive counts from it.\n",
    "\n",
    "```\n",
    "└── PrimitiveResult\n",
    "    ├── PubResult[0]\n",
    "    │   ├── metadata\n",
    "    │   └── data  ## In the form of a DataBin object\n",
    "    │       ├── NAME_OF_CLASSICAL_REGISTER\n",
    "    │       │   └── BitArray of count data (default is 'meas')\n",
    "    |       |\n",
    "    │       └── NAME_OF_ANOTHER_CLASSICAL_REGISTER\n",
    "    │           └── BitArray of count data (exists only if more than one\n",
    "    |                 ClassicalRegister was specified in the circuit)\n",
    "    ├── PubResult[1]\n",
    "    |   ├── metadata\n",
    "    |   └── data  ## In the form of a DataBin object\n",
    "    |       └── NAME_OF_CLASSICAL_REGISTER\n",
    "    |           └── BitArray of count data for second pub\n",
    "    ├── ...\n",
    "    ├── ...\n",
    "    └── ...\n",
    "\n",
    "```\n",
    ":::\n"
   ]
  },
  {
   "cell_type": "markdown",
   "id": "e82901e5-a15f-4865-8d36-c8119ee3e81c",
   "metadata": {},
   "source": [
    "8. With broadcasting in **EstimatorV2**, how does a `SparsePauliOp` contribute to shape?\n",
    "\n",
    "a. Each `SparsePauliOp` counts as a single scalar-like element (shape `()`), regardless of how many Pauli terms it contains<br>\n",
    "b. Its shape equals the number of Pauli terms it holds<br>\n",
    "c. Its shape equals the number of qubits it acts on<br>\n",
    "d. It cannot be broadcast; all observables must be length-1 lists<br>\n"
   ]
  },
  {
   "cell_type": "markdown",
   "id": "72631796-792c-4234-ad91-9ba76501f895",
   "metadata": {},
   "source": [
    ":::{dropdown}answer \n",
    "The answer is a. \n",
    "\n",
    "For broadcasting, each `SparsePauliOp` is treated as a single element with shape `()`. \n",
    ":::\n"
   ]
  },
  {
   "cell_type": "markdown",
   "id": "b4a1a489-9e6a-47a4-9f35-6350d99d05f6",
   "metadata": {},
   "source": [
    "9. Where can you specify **shots** when using **SamplerV2** with Qiskit Runtime?\n",
    "\n",
    "a. As the optional third element in the Sampler PUB tuple<br>\n",
    "b. It must be specified in the primitive constructor; PUB-level shots are not supported<br>\n",
    "c. Only via environment variables on the IBM Quantum service instance<br>\n",
    "d. Shots are unsupported in Runtime Sampler<br>\n"
   ]
  },
  {
   "cell_type": "markdown",
   "id": "c0918ac7-7443-47ca-92a3-229a9cd104de",
   "metadata": {},
   "source": [
    ":::{dropdown}answer \n",
    "The answer is a. \n",
    "\n",
    "Sampler PUB accepts an optional shot count as its third tuple element. \n",
    ":::\n"
   ]
  },
  {
   "cell_type": "markdown",
   "id": "20703132-0606-45ce-b3ae-51dcf86fa0ad",
   "metadata": {},
   "source": [
    "10. After a job finishes, where do you find **runtime options and execution spans** for your Qiskit Runtime job?\n",
    "\n",
    "a. In the `metadata` of the `PrimitiveResult` and each `PubResult` (e.g., execution spans for Sampler)<br>\n",
    "b. Only in the `data` attribute of `PubResult`<br>\n",
    "c. Only in the printed logs of the backend<br>\n",
    "d. They are not exposed to the user<br>\n"
   ]
  },
  {
   "cell_type": "markdown",
   "id": "1df37971-424f-4d33-a71b-7253ae5f84ed",
   "metadata": {},
   "source": [
    ":::{dropdown}answer \n",
    "The answer is a. \n",
    "\n",
    "Metadata is available at both the `PrimitiveResult` and `PubResult` levels, including execution spans for Sampler. \n",
    ":::\n"
   ]
  },
  {
   "cell_type": "markdown",
   "id": "25b7597f-1ad6-4010-b03f-e60f0af4c8b4",
   "metadata": {},
   "source": [
    "11. Choose the correct way to open a Qiskit Runtime session, get a backend, and create Estimator/Sampler so that the session is automatically opened and closed.\n",
    "\n",
    "a. \n",
    "```python\n",
    "from qiskit_ibm_runtime import QiskitRuntimeService, Session, SamplerV2 as Sampler, EstimatorV2 as Estimator\n",
    "service = QiskitRuntimeService()\n",
    "backend = service.least_busy(operational=True, simulator=False)\n",
    "with Session(backend=backend):\n",
    "    estimator = Estimator()\n",
    "    sampler = Sampler()\n",
    "```\n",
    "b. \n",
    "```python\n",
    "from qiskit_ibm_runtime import QiskitRuntimeService, Session, SamplerV2 as Sampler, EstimatorV2 as Estimator\n",
    "service = QiskitRuntimeService()\n",
    "backend = service.least_busy(operational=False, simulator=True)\n",
    "with Session():\n",
    "    estimator = Estimator(mode=backend)\n",
    "    sampler = Sampler(mode=backend)\n",
    "```\n",
    "c. \n",
    "```python\n",
    "from qiskit_ibm_runtime import QiskitRuntimeService, Session, SamplerV2 as Sampler, EstimatorV2 as Estimator\n",
    "service = QiskitRuntimeService()\n",
    "backend = service.least_busy()\n",
    "with Session():\n",
    "    estimator = Estimator(session=backend)\n",
    "    sampler = Sampler(session=backend)\n",
    "```\n",
    "d. \n",
    "```python\n",
    "from qiskit_ibm_runtime import QiskitRuntimeService, Session, SamplerV2 as Sampler, EstimatorV2 as Estimator\n",
    "service = QiskitRuntimeService()\n",
    "backend = service.least_busy(operational=True, simulator=False)\n",
    "estimator = Estimator(mode=Session(backend=backend))\n",
    "sampler = Sampler(mode=Session(backend=backend))\n",
    "# session closes automatically when primitives are garbage-collected\n",
    "```\n"
   ]
  },
  {
   "cell_type": "markdown",
   "id": "3017b015-cb66-4616-8d5d-b9e41d0b75fb",
   "metadata": {},
   "source": [
    ":::{dropdown}answer \n",
    "The answer is a. \n",
    "\n",
    "Using `with Session(backend=...)` opens and closes the session automatically, and primitives can be instantiated with no `mode=` argument inside the context manager. The backend should be a real, operational QPU obtained via `service.least_busy(operational=True, simulator=False)`. \n",
    "This usage matches the official example for the context manager.\n",
    ":::\n"
   ]
  },
  {
   "cell_type": "markdown",
   "id": "5f8a6e88-f96b-45d9-a4a2-1cdd96aa04ab",
   "metadata": {},
   "source": [
    "12. Which snippet correctly sets a session time-to-live (TTL) of 25 minutes?\n",
    "\n",
    "a.\n",
    "```python\n",
    "with Session(backend=backend, max_time=\"25m\"):\n",
    "    ...\n",
    "```\n",
    "b.\n",
    "```python\n",
    "with Session(backend=backend, ttl=25):\n",
    "    ...\n",
    "```\n",
    "c.\n",
    "```python\n",
    "with Session(backend=backend, max_time=25):\n",
    "    ...\n",
    "```\n",
    "d.\n",
    "```python\n",
    "with Session(max_time=\"25m\"):\n",
    "    ...\n",
    "```\n"
   ]
  },
  {
   "cell_type": "markdown",
   "id": "e1f8478c-af9e-4598-a445-2621f4c5971d",
   "metadata": {},
   "source": [
    ":::{dropdown}answer \n",
    "The answer is a. \n",
    "\n",
    "`max_time` accepts human-readable strings like `\"25m\"` and must be set when constructing the session with the backend. This is shown under *Session length*.\n",
    ":::\n"
   ]
  },
  {
   "cell_type": "markdown",
   "id": "4df44ba1-a693-47b9-b4b9-b8d70e37b655",
   "metadata": {},
   "source": [
    "13. You want to **transpile and optimize** an ansatz for a given backend before running it in a session. Which option is correct?\n",
    "\n",
    "a.\n",
    "```python\n",
    "from qiskit.transpiler import generate_preset_pass_manager\n",
    "pm = generate_preset_pass_manager(backend=backend, optimization_level=3)\n",
    "ansatz_opt = pm.run(ansatz)\n",
    "with Session(backend=backend):\n",
    "    est = Estimator()\n",
    "    value = est.run(ansatz_opt, ham, parameter_values=params).result().values[0]\n",
    "```\n",
    "b.\n",
    "```python\n",
    "ansatz_opt = transpile(ansatz, optimization_level=3)  # no backend\n",
    "with Session(backend=backend):\n",
    "    est = Estimator()\n",
    "    value = est.run(ansatz_opt, ham, params).result()[0]\n",
    "```\n",
    "c.\n",
    "```python\n",
    "pm = generate_preset_pass_manager(optimization_level=3)  # no backend\n",
    "ansatz_opt = pm.apply(ansatz)\n",
    "with Session(backend=backend):\n",
    "    est = Estimator()\n",
    "    value = est(ansatz_opt, ham, params)\n",
    "```\n",
    "d.\n",
    "```python\n",
    "pm = generate_preset_pass_manager(backend=backend, optimization_level=3)\n",
    "with Session(backend=backend):\n",
    "    ansatz_opt = pm.transpile(ansatz)\n",
    "    est = Estimator()\n",
    "    value = est.run([ansatz_opt, ham, params]).values[0]\n",
    "```\n"
   ]
  },
  {
   "cell_type": "markdown",
   "id": "02cb8861-9557-420c-95aa-938b2d041d8c",
   "metadata": {},
   "source": [
    ":::{dropdown}answer \n",
    "The answer is a. \n",
    "\n",
    "Use `generate_preset_pass_manager(backend=..., optimization_level=3)` and then `pm.run(circuit)` to obtain an optimized circuit before running it with a primitive inside a session. \n",
    ":::\n"
   ]
  },
  {
   "cell_type": "markdown",
   "id": "09bb581e-5d6f-42e5-bdb4-9a91268e0c0d",
   "metadata": {},
   "source": [
    "14. Select the correct pattern to submit two jobs in a session and then retrieve their results **after** the session is closed.\n",
    "\n",
    "a.\n",
    "```python\n",
    "session = Session(backend=backend)\n",
    "estimator = Estimator(mode=session)\n",
    "sampler = Sampler(mode=session)\n",
    "job1 = estimator.run([est_pub])\n",
    "job2 = sampler.run([sam_pub])\n",
    "session.close()  # stop accepting new jobs\n",
    "res1 = job1.result()\n",
    "res2 = job2.result()\n",
    "```\n",
    "b.\n",
    "```python\n",
    "with Session(backend=backend) as session:\n",
    "    estimator = Estimator()\n",
    "    sampler = Sampler()\n",
    "session.submit(estimator.run([est_pub]))\n",
    "session.submit(sampler.run([sam_pub]))\n",
    "res1 = job1.result(); res2 = job2.result()\n",
    "```\n",
    "c.\n",
    "```python\n",
    "session = Session(backend=backend)\n",
    "estimator = Estimator()\n",
    "sampler = Sampler()\n",
    "job1 = estimator.run([est_pub])\n",
    "job2 = sampler.run([sam_pub])\n",
    "session.cancel()\n",
    "res1 = job1.result(); res2 = job2.result()\n",
    "```\n",
    "d.\n",
    "```python\n",
    "with Session(backend=backend) as session:\n",
    "    estimator = Estimator(mode=session)\n",
    "    sampler = Sampler(mode=session)\n",
    "    session.close()\n",
    "    res1 = estimator.result(); res2 = sampler.result()\n",
    "```\n"
   ]
  },
  {
   "cell_type": "markdown",
   "id": "1a13bfad-e0ba-4b92-93da-5c0cb187b228",
   "metadata": {},
   "source": [
    ":::{dropdown}answer \n",
    "The answer is a. \n",
    "\n",
    "When not using a context manager, pass `mode=session` to primitives, submit jobs, then `session.close()` to stop accepting new jobs while allowing queued/running ones to complete; you can still call `.result()` afterward. This mirrors the documented example. \n",
    ":::\n"
   ]
  },
  {
   "cell_type": "markdown",
   "id": "3133f8b9-5959-40d7-9b91-b9a77d524daf",
   "metadata": {},
   "source": [
    "5. You are not using a context manager. Which snippet correctly **binds primitives to an existing session**?\n",
    "\n",
    "a.\n",
    "```python\n",
    "session = Session(backend=backend)\n",
    "estimator = Estimator(mode=session)\n",
    "sampler = Sampler(mode=session)\n",
    "```\n",
    "b.\n",
    "```python\n",
    "session = Session(backend=backend)\n",
    "estimator = Estimator(session=session)\n",
    "sampler = Sampler(session=session)\n",
    "```\n",
    "c.\n",
    "```python\n",
    "session = Session(backend=backend)\n",
    "estimator = Estimator(backend=session)\n",
    "sampler = Sampler(backend=session)\n",
    "```\n",
    "d.\n",
    "```python\n",
    "estimator = Estimator()\n",
    "sampler = Sampler()\n",
    "with Session(backend=backend) as session:\n",
    "    pass\n",
    "```\n"
   ]
  },
  {
   "cell_type": "markdown",
   "id": "b2878539-61de-42d0-b7ff-b8948875ec62",
   "metadata": {},
   "source": [
    ":::{dropdown}answer \n",
    "The answer is a. \n",
    "\n",
    "The guide specifies `Estimator(mode=session)` (and similarly for `Sampler`) when not using a context manager. (It notes that versions earlier than 0.24.0 used `session=`.) \n",
    ":::\n"
   ]
  },
  {
   "cell_type": "markdown",
   "id": "0dca2767-1d70-40e5-b4b5-0542d9b67ebc",
   "metadata": {},
   "source": [
    "6. You plan an iterative VQE inside a session and want to pre-optimize the ansatz at **optimization level 3**. Which end-to-end pattern matches the guide?\n",
    "\n",
    "a.\n",
    "```python\n",
    "pm = generate_preset_pass_manager(backend=backend, optimization_level=3)\n",
    "ansatz_opt = pm.run(ansatz)\n",
    "with Session(backend=backend) as session:\n",
    "    est = Estimator()\n",
    "    energy = est.run(ansatz_opt, hamiltonian, parameter_values=theta).result().values[0]\n",
    "```\n",
    "b.\n",
    "```python\n",
    "with Session(backend=backend) as session:\n",
    "    pm = generate_preset_pass_manager(optimization_level=3)  # backend optional\n",
    "    ansatz_opt = pm.run(ansatz)\n",
    "    est = Estimator(mode=session)\n",
    "    energy = est.run([ansatz_opt, hamiltonian, theta]).values[0]\n",
    "```\n",
    "c.\n",
    "```python\n",
    "with Session(backend=backend):\n",
    "    est = Estimator()\n",
    "energy = est.run([ansatz], hamiltonian, theta, optimization_level=3).result().values[0]\n",
    "```\n",
    "d.\n",
    "```python\n",
    "pm = generate_preset_pass_manager(backend=backend, level=3)\n",
    "ansatz_opt = pm.transpile(ansatz)\n",
    "with Session(backend=backend):\n",
    "    est = Estimator()\n",
    "    energy = est(ansatz_opt, hamiltonian, theta)\n",
    "```\n"
   ]
  },
  {
   "cell_type": "markdown",
   "id": "17a00eac-190c-42f5-b50d-c2307cd229c5",
   "metadata": {},
   "source": [
    ":::{dropdown}answer \n",
    "The answer is a. \n",
    "\n",
    "The session guide's VQE example shows generating a preset pass manager with `optimization_level=3`, running it on the circuit (`pm.run(...)`), and then using the optimized circuit with an `Estimator` inside a session. \n",
    ":::\n"
   ]
  },
  {
   "cell_type": "code",
   "execution_count": null,
   "id": "b1b76696-6cd4-4174-aaac-40840fe25911",
   "metadata": {},
   "outputs": [],
   "source": []
  }
 ],
 "metadata": {
  "kernelspec": {
   "display_name": "Python 3 (ipykernel)",
   "language": "python",
   "name": "python3"
  },
  "language_info": {
   "codemirror_mode": {
    "name": "ipython",
    "version": 3
   },
   "file_extension": ".py",
   "mimetype": "text/x-python",
   "name": "python",
   "nbconvert_exporter": "python",
   "pygments_lexer": "ipython3",
   "version": "3.13.7"
  }
 },
 "nbformat": 4,
 "nbformat_minor": 5
}
