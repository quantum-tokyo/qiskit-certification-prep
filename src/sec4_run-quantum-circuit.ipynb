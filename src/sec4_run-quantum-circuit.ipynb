{
 "cells": [
  {
   "cell_type": "markdown",
   "id": "b064aab1-be5b-4e5a-94a8-87b243367505",
   "metadata": {},
   "source": [
    "# Section 4: Run quantum circuits"
   ]
  },
  {
   "cell_type": "markdown",
   "id": "5d45ee82-9aaf-4967-8086-b794922fa32b",
   "metadata": {},
   "source": [
    "## TASK 4.1: Demonstrate an understanding of execution modes such as: session with dedicated, priority, and batch mode"
   ]
  },
  {
   "cell_type": "markdown",
   "id": "99bda001",
   "metadata": {},
   "source": [
    "1. Which statement best distinguishes the three Qiskit Runtime execution modes?\n",
    "\n",
    "a. Job runs a single primitive request; Batch runs many independent jobs submitted all at once; Session provides a time window with exclusive access to a specific QPU.<br>\n",
    "b. Job and Batch are identical, but Session only works on simulators.<br>\n",
    "c. Session guarantees lower queue time for the very first job; Batch guarantees exclusive access.<br>\n",
    "d. Batch is only for variational algorithms; Session is only for tomography.<br>"
   ]
  },
  {
   "cell_type": "markdown",
   "id": "003aa04b",
   "metadata": {},
   "source": [
    ":::{dropdown}answer \n",
    "The answer is a. \n",
    "\n",
    "Job mode is for one-off primitive calls, Batch is optimized for multi-job workloads with all inputs ready, and Session opens a dedicated window with exclusive access to the QPU for iterative workloads. \n",
    ":::"
   ]
  },
  {
   "cell_type": "markdown",
   "id": "019afcac",
   "metadata": {},
   "source": [
    "2. In Session mode, what does \"dedicated\" access mean?\n",
    "\n",
    "a. Your jobs are scheduled before every other user, but calibration jobs may still interrupt execution.<br>\n",
    "b. Your workload has exclusive access to the selected backend during the active window; no other users' jobs or calibrations run during that time.<br>\n",
    "c. Your jobs run only on a simulator with higher concurrency.<br>\n",
    "d. Your batch is guaranteed to start immediately after submission.<br>"
   ]
  },
  {
   "cell_type": "markdown",
   "id": "fb835afb",
   "metadata": {},
   "source": [
    ":::{dropdown}answer \n",
    "The answer is b. \n",
    "\n",
    "A session grants an exclusive, dedicated execution window on the chosen QPU. During this window, no other users' jobs (including calibration jobs) are interleaved. \n",
    ":::"
   ]
  },
  {
   "cell_type": "markdown",
   "id": "1ee29861",
   "metadata": {},
   "source": [
    "3. Which statement correctly describes \"priority\" in the context of sessions?\n",
    "\n",
    "a. Closing a session cancels all queued jobs immediately without exception.<br>\n",
    "b. When a session is closed (not canceled), it stops accepting new jobs but continues to execute already queued session jobs with priority until completion.<br>\n",
    "c. Priority means sessions preempt running jobs from other users mid-shot.<br>\n",
    "d. Priority is a separate execution mode unrelated to sessions.<br>"
   ]
  },
  {
   "cell_type": "markdown",
   "id": "22276467",
   "metadata": {},
   "source": [
    ":::{dropdown}answer \n",
    "The answer is b. \n",
    "\n",
    "If you close (not cancel) a session, it no longer accepts new jobs, but the jobs already queued in that session continue and are treated with priority until they finish. \n",
    ":::"
   ]
  },
  {
   "cell_type": "markdown",
   "id": "e112d009",
   "metadata": {},
   "source": [
    "4. Which is true about Batch mode?\n",
    "\n",
    "a. It gives exclusive access to the QPU for the batch window.<br>\n",
    "b. It shortens first-job queuing time by skipping the normal queue.<br>\n",
    "c. It can parallelize or thread classical pre-processing across jobs, then pack quantum execution tightly; however, batches do *not* get exclusive access.<br>\n",
    "d. It requires iterative feedback between jobs and therefore cannot be used for independent jobs.<br>"
   ]
  },
  {
   "cell_type": "markdown",
   "id": "4cf7d20d",
   "metadata": {},
   "source": [
    ":::{dropdown}answer \n",
    "The answer is c. \n",
    "\n",
    "Batch mode improves throughput by parallelizing classical pre-processing and tightly sequencing QPU execution across multiple independent jobs, but it does not provide exclusive access to the QPU. \n",
    ":::"
   ]
  },
  {
   "cell_type": "markdown",
   "id": "7efb5d8b",
   "metadata": {},
   "source": [
    "5. How is usage (cost) accounted for across modes?\n",
    "\n",
    "a. Session usage equals only the sum of quantum time; Batch and Job usage count wall-clock time.<br>\n",
    "b. Session usage is wall-clock time from first job start until session termination; Batch usage is the sum of quantum time across batch jobs; Job usage is quantum time of that job.<br>\n",
    "c. All modes charge only for the number of shots requested.<br>\n",
    "d. Batch usage is wall-clock time; Session usage is quantum time only.<br>"
   ]
  },
  {
   "cell_type": "markdown",
   "id": "b3e108d7",
   "metadata": {},
   "source": [
    ":::{dropdown}answer \n",
    "The answer is b. \n",
    "\n",
    "Session usage is the full wall-clock window from first job start until the session ends; Batch usage sums quantum time of the batch's jobs; a single Job is charged by its quantum time. \n",
    ":::"
   ]
  },
  {
   "cell_type": "markdown",
   "id": "2c9fed35",
   "metadata": {},
   "source": [
    "6. Which statement about plan restrictions and best practices is correct?\n",
    "\n",
    "a. Open Plan users can freely run session jobs; Premium users cannot.<br>\n",
    "b. Open Plan users cannot submit session jobs; generally, prefer Batch for multi-job workloads unless you need the added benefits of a Session.<br>\n",
    "c. Batch mode is unavailable on paid plans.<br>\n",
    "d. Job mode is deprecated and should be avoided.<br>"
   ]
  },
  {
   "cell_type": "markdown",
   "id": "bb1f39cd",
   "metadata": {},
   "source": [
    ":::{dropdown}answer \n",
    "The answer is b. \n",
    "\n",
    "Open Plan users are restricted from using sessions. For most multi-job workloads with inputs ready, Batch is recommended; use Session when you need the dedicated window or iterative interaction. \n",
    ":::"
   ]
  },
  {
   "cell_type": "markdown",
   "id": "88eb3744",
   "metadata": {},
   "source": [
    "7. What happens if no jobs are ready within the \"interactive TTL\" during a batch or session?\n",
    "\n",
    "a. The workload is temporarily deactivated; later jobs can reactivate it as long as maximum TTL has not been reached.<br>\n",
    "b. The workload is immediately deleted and cannot be resumed.<br>\n",
    "c. All queued jobs are canceled automatically.<br>\n",
    "d. Interactive TTL only applies to Job mode, not Batch or Session.<br>"
   ]
  },
  {
   "cell_type": "markdown",
   "id": "682bc4ca",
   "metadata": {},
   "source": [
    ":::{dropdown}answer \n",
    "The answer is a. \n",
    "\n",
    "If the interactive TTL elapses with no jobs ready, the batch or session becomes inactive. A later job can reactivate it through the normal queue, provided the maximum TTL has not expired. \n",
    ":::"
   ]
  },
  {
   "cell_type": "markdown",
   "id": "a9248edd",
   "metadata": {},
   "source": [
    "8. Which statement about parallelism and ordering is accurate?\n",
    "\n",
    "a. In Batch mode, jobs always run strictly in the submission order.<br>\n",
    "b. In Session mode, you cannot run jobs in parallel.<br>\n",
    "c. In both Batch and Session modes, multiple jobs can run in parallel subject to backend parallelism; batches do not guarantee submission order.<br>\n",
    "d. Neither Batch nor Session supports parallel execution across jobs.<br>"
   ]
  },
  {
   "cell_type": "markdown",
   "id": "2b586a91",
   "metadata": {},
   "source": [
    ":::{dropdown}answer \n",
    "The answer is c. \n",
    "\n",
    "Backends can execute multiple jobs in parallel. Batches do not guarantee that jobs run in submission order; sessions can also exploit available parallelism. \n",
    ":::"
   ]
  },
  {
   "cell_type": "markdown",
   "id": "e69b065d",
   "metadata": {},
   "source": [
    "9. When creating a session through the REST API, which `mode` values are supported and what do they imply?\n",
    "\n",
    "a. `mode` can be `dedicated` for exclusive access or `batch` for a session scheduled like a batch (non-exclusive), depending on needs and plan.<br>\n",
    "b. `mode` must always be `session`; it has no other valid values.<br>\n",
    "c. `mode` accepts `priority` and `economy` only.<br>\n",
    "d. `mode` is optional and ignored by the platform.<br>"
   ]
  },
  {
   "cell_type": "markdown",
   "id": "3c490d31",
   "metadata": {},
   "source": [
    ":::{dropdown}answer \n",
    "The answer is a. \n",
    "\n",
    "The sessions API accepts a `mode` field with values such as `dedicated` (exclusive access) or `batch`. These control how the session is scheduled on the backend. \n",
    ":::"
   ]
  },
  {
   "cell_type": "markdown",
   "id": "e812fe31",
   "metadata": {},
   "source": [
    "10. Which statement about the first job in Batch or Session modes is correct?\n",
    "\n",
    "a. It skips the normal queue to start immediately.<br>\n",
    "b. It enters the normal queue; these modes do not reduce the first job's queuing time.<br>\n",
    "c. It is always preemptive over calibration jobs.<br>\n",
    "d. It is scheduled only after all other users' jobs complete.<br>"
   ]
  },
  {
   "cell_type": "markdown",
   "id": "e5d917aa",
   "metadata": {},
   "source": [
    ":::{dropdown}answer \n",
    "The answer is b. \n",
    "\n",
    "For both Batch and Session, the first job goes through the normal queue. These modes help after the first job starts (packing jobs or providing a dedicated window), not in bypassing the initial queue. \n",
    ":::"
   ]
  },
  {
   "cell_type": "markdown",
   "id": "cd4b0095-8d3b-446c-90ec-e9e1769bbe52",
   "metadata": {},
   "source": [
    "11. You have 60 independent primitive jobs (no data dependency between them), and all inputs are ready. Which execution mode best fits this workload and why?\n",
    "\n",
    "a. Session mode, because it provides an exclusive window and reduces first‑job queueing time.<br>\n",
    "b. Batch mode, because it lets you submit many independent jobs at once and exploit parallel processing without requiring exclusivity.<br>\n",
    "c. Job mode, because it guarantees strict FIFO across all users.<br>\n",
    "d. Session mode, because interactive TTL is configurable per user to hours.<br>"
   ]
  },
  {
   "cell_type": "markdown",
   "id": "e2cac47d-50e1-43b7-85a3-7b2166f9f070",
   "metadata": {},
   "source": [
    ":::{dropdown}answer \n",
    "The answer is b. \n",
    "\n",
    "Batch is intended for non‑iterative multi‑job workloads whose jobs can run independently. It enables parallel processing and tight packing on the backend without requiring dedicated, exclusive access. \n",
    ":::"
   ]
  },
  {
   "cell_type": "markdown",
   "id": "6b5e9b75-0dda-4ecf-a58e-84a080d2a3e9",
   "metadata": {},
   "source": [
    "12. In both Batch and Session modes, how is the very first job scheduled?\n",
    "\n",
    "a. It bypasses the normal queue and starts immediately.<br>\n",
    "b. It enters the normal queue like any other job; modes primarily help after the first job begins.<br>\n",
    "c. It preempts calibration jobs on the backend.<br>\n",
    "d. It is delayed until the batch/session accumulates at least five jobs.<br>"
   ]
  },
  {
   "cell_type": "markdown",
   "id": "690fd26a-a1e6-4eb4-97dc-46324f744123",
   "metadata": {},
   "source": [
    ":::{dropdown}answer \n",
    "The answer is b. \n",
    "\n",
    "Neither Batch nor Session short‑circuits the platform queue for the first job. Their benefits appear after the first job starts (parallel packing for Batch; dedicated window for Session). \n",
    ":::"
   ]
  },
  {
   "cell_type": "markdown",
   "id": "28f7a22c-b97d-46a5-bd29-d2434f0ec763",
   "metadata": {},
   "source": [
    "13. Which statement about Batch TTLs is correct?\n",
    "\n",
    "a. Interactive TTL in Batch is user‑configurable per instance.<br>\n",
    "b. When max TTL is reached, running jobs finish, but queued jobs are failed; interactive TTL being idle temporarily deactivates the batch.<br>\n",
    "c. When max TTL is reached, all jobs (running and queued) are canceled immediately.<br>\n",
    "d. Interactive TTL applies only to sessions, not batches.<br>"
   ]
  },
  {
   "cell_type": "markdown",
   "id": "785c766c-e13e-4214-90cf-207030f459d3",
   "metadata": {},
   "source": [
    ":::{dropdown}answer \n",
    "The answer is b. \n",
    "\n",
    "You can set a batch's `max_time` (max TTL). When reached, the batch closes: running jobs complete, queued jobs fail. There is also a fixed interactive TTL; if no jobs are queued within that window, the batch becomes temporarily inactive. \n",
    ":::"
   ]
  },
  {
   "cell_type": "markdown",
   "id": "27cc8519-3d6b-4579-b4b1-b77c3a8f6937",
   "metadata": {},
   "source": [
    "14. You are tuning parameters in a loop, where each iteration submits a small job that depends on the previous results. Which mode should you prefer?\n",
    "\n",
    "a. Batch mode, because it is designed for independent jobs with no conditional relation.<br>\n",
    "b. Session mode, because it is designed for iterative workloads and groups multiple jobs into one dedicated window.<br>\n",
    "c. Job mode, because it gives the finest control over each iteration's queueing.<br>\n",
    "d. Either Session or Batch; they are equivalent for iterative feedback.<br>"
   ]
  },
  {
   "cell_type": "markdown",
   "id": "b8f5912e-f476-4b00-b554-ad2d1e0fb711",
   "metadata": {},
   "source": [
    ":::{dropdown}answer \n",
    "The answer is b. \n",
    "\n",
    "Session mode is for iterative workloads where later jobs depend on earlier results, allowing efficient back‑and‑forth within a dedicated window. \n",
    ":::"
   ]
  },
  {
   "cell_type": "markdown",
   "id": "8941370e-1ce9-4cec-88a4-6989b0bd13c6",
   "metadata": {},
   "source": [
    "15. Which is true about ordering and parallelism when using Batch mode?\n",
    "\n",
    "a. Jobs always execute strictly in submission order.<br>\n",
    "b. Jobs may execute in parallel subject to backend capacity, and order is not guaranteed.<br>\n",
    "c. Jobs cannot run in parallel in Batch mode.<br>\n",
    "d. Order is guaranteed only if all jobs target the same primitive.<br>"
   ]
  },
  {
   "cell_type": "markdown",
   "id": "9768c241-7ab9-4508-9508-50c24d291bfb",
   "metadata": {},
   "source": [
    ":::{dropdown}answer \n",
    "The answer is b. \n",
    "\n",
    "Batch leverages backend parallelism when available. It does not guarantee submission order; the scheduler can run multiple jobs concurrently. \n",
    ":::"
   ]
  },
  {
   "cell_type": "markdown",
   "id": "7ad45bc1-df09-4757-bd2e-13d8fef1107e",
   "metadata": {},
   "source": [
    "16. What happens when a Batch context manager (`with Batch(...)`) exits or when `batch.close()` is called?\n",
    "\n",
    "a. The batch cancels all pending jobs immediately.<br>\n",
    "b. The batch stops accepting new jobs but lets running and already‑queued jobs complete (until TTL), then closes.<br>\n",
    "c. The batch remains open until manually canceled via the REST API.<br>\n",
    "d. The batch converts remaining jobs to a Session automatically.<br>"
   ]
  },
  {
   "cell_type": "markdown",
   "id": "cc4fdc62-7dc9-4709-948c-a0e5f05c26e1",
   "metadata": {},
   "source": [
    ":::{dropdown}answer \n",
    "The answer is b. \n",
    "\n",
    "Leaving the context or calling `close()` stops new job submissions. Running and queued jobs continue to completion (subject to TTL), after which the batch is closed. \n",
    ":::"
   ]
  },
  {
   "cell_type": "markdown",
   "id": "310c788e-2e1d-4fef-aa31-91234927b411",
   "metadata": {},
   "source": [
    "17. Which statement about usage accounting best reflects Batch versus Session?\n",
    "\n",
    "a. Batch usage is the sum of quantum time across batch jobs; Session usage is the wall‑clock time of the session window from its first job until it ends or goes inactive.<br>\n",
    "b. Both Batch and Session usage are calculated purely by shot count.<br>\n",
    "c. Batch usage is wall‑clock time; Session usage is only quantum time.<br>\n",
    "d. Both modes charge only while a job is running on the QPU, excluding classical time.<br>"
   ]
  },
  {
   "cell_type": "markdown",
   "id": "05c851fe-7928-4cc4-bec7-4104379c543b",
   "metadata": {},
   "source": [
    ":::{dropdown}answer \n",
    "The answer is a. \n",
    "\n",
    "In Batch, usage is the sum of quantum time used by jobs in the batch. In Session, usage is the wall‑clock window starting from the first job until it ends/goes inactive (includes classical and quantum). \n",
    ":::"
   ]
  },
  {
   "cell_type": "markdown",
   "id": "a646e305-46ae-455b-bdb2-970a7ac4a400",
   "metadata": {},
   "source": [
    "18. Inside a Batch or Session context, which configuration causes your primitive call to run in plain Job mode instead?\n",
    "\n",
    "a. Passing `mode=batch` (or `mode=session`) when creating the primitive.<br>\n",
    "b. Setting `backend=backend` directly on the primitive call, which overrides the context.<br>\n",
    "c. Calling `batch.details()` before the first submission.<br>\n",
    "d. Using different primitives (Sampler vs Estimator) in one batch.<br>"
   ]
  },
  {
   "cell_type": "markdown",
   "id": "152e5abd-591e-438c-806d-8dfb7befea17",
   "metadata": {},
   "source": [
    ":::{dropdown}answer \n",
    "The answer is b. \n",
    "\n",
    "Specifying `backend=backend` on the primitive forces job mode even inside a Batch or Session context. Prefer the `mode=` parameter to bind the primitive to the context. \n",
    ":::"
   ]
  },
  {
   "cell_type": "markdown",
   "id": "70898c5a-bdb7-4015-9c94-cf7daf57c4a2",
   "metadata": {},
   "source": [
    "19. Which guidance aligns with choosing the execution mode?\n",
    "\n",
    "a. Use Batch when you can prepare many independent jobs and want higher throughput; use Session when you need iterative feedback or a dedicated window.<br>\n",
    "b. Prefer Session for all workloads because it guarantees earliest start time.<br>\n",
    "c. Prefer Job mode for multi‑job workloads to maximize parallelism.<br>\n",
    "d. Use Batch only when jobs share the same transpilation options.<br>"
   ]
  },
  {
   "cell_type": "markdown",
   "id": "fefbb0d8-b992-43b6-a4f0-924c868f400e",
   "metadata": {},
   "source": [
    ":::{dropdown}answer \n",
    "The answer is a. \n",
    "\n",
    "Batch targets non‑iterative multi‑job workloads; Session targets iterative workloads and provides a dedicated execution window. Job mode is for one‑off jobs. \n",
    ":::"
   ]
  },
  {
   "cell_type": "markdown",
   "id": "acabd0cc-5b95-4a94-be27-e33ee388cbd9",
   "metadata": {},
   "source": [
    "20. How can you inspect a batch’s configuration (including TTL values) and current status from code?\n",
    "\n",
    "a. Call `batch.details()` to retrieve configuration and status, including interactive and max TTL values.<br>\n",
    "b. Call `service.batch_status()` which returns TTL values for every batch in the instance.<br>\n",
    "c. Use `sampler.options()` to see the batch’s TTLs.<br>\n",
    "d. It’s not possible to retrieve TTL values programmatically.<br>"
   ]
  },
  {
   "cell_type": "markdown",
   "id": "2e6e9934-33e5-42ef-85af-a263ef58ec36",
   "metadata": {},
   "source": [
    ":::{dropdown}answer \n",
    "The answer is a. \n",
    "\n",
    "`batch.details()` provides a comprehensive overview of the batch, including interactive and max TTL values and current status. \n",
    ":::"
   ]
  }
 ],
 "metadata": {
  "kernelspec": {
   "display_name": "Python 3 (ipykernel)",
   "language": "python",
   "name": "python3"
  },
  "language_info": {
   "codemirror_mode": {
    "name": "ipython",
    "version": 3
   },
   "file_extension": ".py",
   "mimetype": "text/x-python",
   "name": "python",
   "nbconvert_exporter": "python",
   "pygments_lexer": "ipython3",
   "version": "3.13.7"
  }
 },
 "nbformat": 4,
 "nbformat_minor": 5
}
