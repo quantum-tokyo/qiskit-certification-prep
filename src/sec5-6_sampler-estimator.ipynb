{
 "cells": [
  {
   "cell_type": "markdown",
   "id": "fcca2021-f619-4d62-9df3-74f986d3ff2e",
   "metadata": {},
   "source": [
    "# Section 5-6: Use the sampler/estimator primitive"
   ]
  },
  {
   "cell_type": "markdown",
   "id": "9e02ae07-9b66-4990-b5c4-74bc71baebc1",
   "metadata": {},
   "source": [
    "## TASK 5.1/6.1: Set sampler/estimator primitive options"
   ]
  },
  {
   "cell_type": "markdown",
   "id": "fa1afe6f",
   "metadata": {},
   "source": [
    "1. Which snippet correctly transpiles a parameterized circuit for a chosen backend and produces an ISA circuit before using Estimator V2?\n",
    "\n",
    "a. \n",
    "```python\n",
    "from qiskit.transpiler import generate_preset_pass_manager\n",
    "pm = generate_preset_pass_manager(optimization_level=1, backend=backend)\n",
    "isa_circ = pm.run(circ)\n",
    "```\n",
    "b. \n",
    "```python\n",
    "isa_circ = circ  # QPUs accept any gates; transpilation is optional\n",
    "```\n",
    "c. \n",
    "```python\n",
    "from qiskit import transpile\n",
    "isa_circ = transpile(circ)  # omit backend\n",
    "```\n",
    "d. \n",
    "```python\n",
    "pm = generate_preset_pass_manager(backend=None)\n",
    "isa_circ = pm.run(circ.decompose())\n",
    "```\n"
   ]
  },
  {
   "cell_type": "markdown",
   "id": "a4744934",
   "metadata": {},
   "source": [
    ":::{dropdown}answer \n",
    "The answer is a. \n",
    "\n",
    "You must generate a preset pass manager with a concrete `backend` and run it to obtain an ISA circuit; this matches the example that uses `generate_preset_pass_manager(optimization_level=1, backend=backend)` followed by `pm.run(circuit)`. This step ensures the circuit uses only instructions supported by the target device prior to invoking primitives.\n",
    ":::\n"
   ]
  },
  {
   "cell_type": "markdown",
   "id": "4b2b622e",
   "metadata": {},
   "source": [
    "2. You need to configure the Sampler to use 4096 shots by default for all runs in a session. Which method should you use?\n",
    "\n",
    "a. `sampler.options.default_shots = 4096`<br>\n",
    "b. `sampler.set_shots(4096)`<br>\n",
    "c. `sampler.options.shots.default = 4096`<br>\n",
    "d. `sampler.run(..., shots=4096)`<br>"
   ]
  },
  {
   "cell_type": "markdown",
   "id": "2c079f7b",
   "metadata": {},
   "source": [
    ":::{dropdown}answer \n",
    "The answer is a.\n",
    "\n",
    "`Sampler` exposes a top‑level option `default_shots` that sets the default number of repetitions used when circuits are executed. Setting `sampler.options.default_shots = 4096` applies to subsequent `run` calls unless overridden. The other choices either refer to non‑existent attributes (`set_shots`, `options.shots.default`) or set shots per‑call rather than as the default for the options object.\n",
    ":::\n"
   ]
  },
  {
   "cell_type": "markdown",
   "id": "4b34befe",
   "metadata": {},
   "source": [
    "3. Which call correctly submits work to Estimator V2 using the Primitive Unified Bloc (PUB) tuple?\n",
    "\n",
    "a. \n",
    "```python\n",
    "job = estimator.run([(isa_circ, isa_obs, param_values)])\n",
    "```\n",
    "b. \n",
    "```python\n",
    "job = estimator.run([(isa_obs, isa_circ, param_values)])\n",
    "```\n",
    "c. \n",
    "```python\n",
    "job = estimator.run([(isa_circ, param_values)])\n",
    "```\n",
    "d. \n",
    "```python\n",
    "job = estimator.run((isa_circ, isa_obs, param_values))\n",
    "```\n"
   ]
  },
  {
   "cell_type": "markdown",
   "id": "66a47c33",
   "metadata": {},
   "source": [
    ":::{dropdown}answer \n",
    "The answer is a. \n",
    "\n",
    "The Estimator expects a sequence of PUB tuples in the form `(circuit, observable, parameter_values)`; the example shows `estimator.run([(isa_circuit, isa_observable, param_values)])`.\n",
    ":::\n"
   ]
  },
  {
   "cell_type": "markdown",
   "id": "92564bc9",
   "metadata": {},
   "source": [
    "4. For Sampler V2, which preparation is correct before transpilation and submission?\n",
    "\n",
    "a. \n",
    "```python\n",
    "circ.measure_all()\n",
    "pm = generate_preset_pass_manager(optimization_level=1, backend=backend)\n",
    "isa_circ = pm.run(circ)\n",
    "job = sampler.run([(isa_circ, param_values)])\n",
    "```\n",
    "b. \n",
    "```python\n",
    "pm = generate_preset_pass_manager(optimization_level=3, backend=backend)\n",
    "isa_circ = pm.run(circ)  # no measurements needed\n",
    "job = sampler.run([(isa_circ,)])\n",
    "```\n",
    "c. \n",
    "```python\n",
    "job = sampler.run([(circ,)])\n",
    "```\n",
    "d. \n",
    "```python\n",
    "isa_circ = circ.remove_final_measurements(inplace=True)\n",
    "job = sampler.run([(isa_circ,)])\n",
    "```\n"
   ]
  },
  {
   "cell_type": "markdown",
   "id": "3527cce1",
   "metadata": {},
   "source": [
    ":::{dropdown}answer \n",
    "The answer is a. \n",
    "\n",
    "The sampler example measures the circuit (`measure_all()`), transpiles to ISA with a preset pass manager for the chosen backend, and submits `[(isa_circuit, param_values)]` as the PUB.\n",
    ":::\n"
   ]
  },
  {
   "cell_type": "markdown",
   "id": "92f36d32",
   "metadata": {},
   "source": [
    "5. Which initialization correctly selects the execution mode consistent with the examples?\n",
    "\n",
    "a. \n",
    "```python\n",
    "from qiskit_ibm_runtime import EstimatorV2 as Estimator\n",
    "estimator = Estimator(mode=backend)\n",
    "```\n",
    "b. \n",
    "```python\n",
    "from qiskit_ibm_runtime import EstimatorV2 as Estimator\n",
    "estimator = Estimator(mode=\"session\")  # string literal\n",
    "```\n",
    "c. \n",
    "```python\n",
    "from qiskit_ibm_runtime import EstimatorV2 as Estimator\n",
    "estimator = Estimator()  # mode is mandatory\n",
    "```\n",
    "d. \n",
    "```python\n",
    "from qiskit_ibm_runtime import EstimatorV2 as Estimator\n",
    "estimator = Estimator(mode=\"batch\").run(backend)\n",
    "```\n"
   ]
  },
  {
   "cell_type": "markdown",
   "id": "c226c71d",
   "metadata": {},
   "source": [
    ":::{dropdown}answer \n",
    "The answer is a. \n",
    "\n",
    "When you initialize the Estimator, use the `mode` parameter to specify the mode you want it to run in. Possible values are `batch`, `session`, or `backend` objects for batch, session, and job execution mode, respectively.\n",
    ":::\n"
   ]
  },
  {
   "cell_type": "markdown",
   "id": "41146b89",
   "metadata": {},
   "source": [
    "6. How can you request a backend that supports fractional gates per the guide?\n",
    "\n",
    "a. \n",
    "```python\n",
    "service = QiskitRuntimeService()\n",
    "backend = QiskitRuntimeService(use_fractional_gates=True)\n",
    "```\n",
    "b. \n",
    "```python\n",
    "service = QiskitRuntimeService()\n",
    "backend = service.get_backend(\"fractional-gates\")\n",
    "```\n",
    "c. \n",
    "```python\n",
    "service = QiskitRuntimeService()\n",
    "backend = service.least_busy(fractional=True)\n",
    "```\n",
    "d. \n",
    "```python\n",
    "service = QiskitRuntimeService()\n",
    "backend = service.least_busy(use_fractional_gates=True)\n",
    "```\n"
   ]
  },
  {
   "cell_type": "markdown",
   "id": "453ef6ff",
   "metadata": {},
   "source": [
    ":::{dropdown}answer \n",
    "The answer is d. \n",
    "\n",
    "To use the newly supported [fractional gates](https://quantum.cloud.ibm.com/docs/guides/fractional-gates), set `use_fractional_gates=True` when requesting a backend from a `QiskitRuntimeService` instance. \n",
    "\n",
    "### What are fractional gates\n",
    "\n",
    "Fractional gates are native hardware operations (e.g., **R\\_X(θ)**, **R\\_ZZ(θ)**) that allow arbitrary-angle rotations to be executed directly on supported IBM Quantum devices, without decomposing into multiple basis gates.\n",
    "\n",
    "---\n",
    "\n",
    "### When to use\n",
    "\n",
    "* Circuits with many arbitrary rotations (e.g., VQE, QAOA, quantum simulation).\n",
    "* To **reduce circuit depth**, execution time, and cumulative error.\n",
    "* When the backend supports fractional gates and constraints (like angle ranges) are met.\n",
    "\n",
    "---\n",
    "\n",
    "### When not to use (and why)\n",
    "\n",
    "* **Unsupported cases**: dynamic circuits, certain error-mitigation techniques (Pauli twirling, PEC, ZNE with PEA).\n",
    "* **Restricted angles**: R\\_ZZ(θ) only supports 0 < θ ≤ π/2.\n",
    "* **Runtime parameters** may cause errors if angles are out of range.\n",
    "* For simple circuits where decomposition overhead is negligible.\n",
    "* It’s still an **experimental feature**, so stability and compatibility can change.\n",
    ":::\n"
   ]
  },
  {
   "cell_type": "markdown",
   "id": "f4e461ae",
   "metadata": {},
   "source": [
    "7. Which code path best reflects a minimal, correct optimization/transpilation workflow before running primitives?\n",
    "\n",
    "a. Create circuit → `generate_preset_pass_manager(optimization_level=1, backend)` → `pm.run(circuit)` → align observable with `apply_layout` → `Estimator.run([...])`<br>\n",
    "b. Create circuit → call `Estimator.run(circuit)` and let the service infer gates automatically<br>\n",
    "c. Create circuit → decompose to basis gates locally without a backend → `Estimator.run([...])`<br>\n",
    "d. Create circuit → add barriers to prevent changes → `Estimator.run([...])`<br>\n"
   ]
  },
  {
   "cell_type": "markdown",
   "id": "f5d2a9b7",
   "metadata": {},
   "source": [
    ":::{dropdown}answer \n",
    "The answer is a. \n",
    "\n",
    "The documented steps show generating a preset pass manager with a specified backend, running it to obtain an ISA circuit, aligning the observable, and then submitting PUBs to the primitive.\n",
    ":::\n"
   ]
  },
  {
   "cell_type": "markdown",
   "id": "d53213f0-90b6-416d-a959-32c67a8f0603",
   "metadata": {},
   "source": [
    "8. Which code correctly enables dynamical decoupling (DD) in Sampler V2 and selects the XpXm sequence?\n",
    "\n",
    "a. \n",
    "```\n",
    "sampler.options.dynamical_decoupling.enable = True\n",
    "sampler.options.dynamical_decoupling.sequence_type = \"XpXm\"\n",
    "```\n",
    "\n",
    "b. \n",
    "```\n",
    "sampler.options.resilience.zne_mitigation = True\n",
    "sampler.options.resilience.zne.extrapolator = \"exponential\"\n",
    "```\n",
    "\n",
    "c. \n",
    "```\n",
    "sampler.options.twirling.enable_gates = True\n",
    "sampler.options.twirling.sequence_type = \"XpXm\"\n",
    "```\n",
    "\n",
    "d. \n",
    "```\n",
    "sampler.set_options(dynamical_decoupling=True, sequence_type=\"XpXm\")\n",
    "```\n"
   ]
  },
  {
   "cell_type": "markdown",
   "id": "eb8b373c-90a9-44f0-967f-73aba1416679",
   "metadata": {},
   "source": [
    ":::{dropdown}answer \n",
    "The answer is a. \n",
    "\n",
    "Sampler V2 exposes DD via `sampler.options.dynamical_decoupling`. Set `enable=True` and choose a valid `sequence_type` such as `\"XpXm\"`. Error mitigation like ZNE belongs to the Estimator, not Sampler. \n",
    "\n",
    "### Dynamic Decoupling\n",
    "Dynamical decoupling works by inserting pulse sequences on idling qubits to approximately cancel out the effect of these errors. Each inserted pulse sequence amounts to an identity operation, but the physical presence of the pulses has the effect of suppressing errors. \n",
    ":::\n"
   ]
  },
  {
   "cell_type": "markdown",
   "id": "386c1e1c-4768-447c-84e0-2fe001ac30ee",
   "metadata": {},
   "source": [
    "9. You want to randomize two‑qubit gate errors via Pauli twirling when running the Sampler. Which method most directly enables this according to the twirling options API?\n",
    "\n",
    "a. `sampler.options.twirling = {\"circuit\": {\"enable\": True}}`<br>\n",
    "b. `sampler.options.twirling.enable = True`<br>\n",
    "c. `sampler.options.transpilation.pauli_twirling = True`<br>\n",
    "d. `sampler.enable_pauli_twirling()`<br>\n"
   ]
  },
  {
   "cell_type": "markdown",
   "id": "97cf472d-67a8-4aac-b2c2-7d9120b3c560",
   "metadata": {},
   "source": [
    ":::{dropdown}answer \n",
    "The answer is b. \n",
    "\n",
    "Twirling controls are exposed under the `twirling` options namespace; enabling Pauli twirling is done by toggling the boolean on that namespace (e.g., `sampler.options.twirling.enable = True`) and, if needed, refining sub‑options. The other choices either use non‑documented attribute paths or nonexistent helper methods. \n",
    ":::"
   ]
  },
  {
   "cell_type": "markdown",
   "id": "0eda1b58-87d7-428f-b92e-99516d242505",
   "metadata": {},
   "source": [
    "10. When is enabling dynamical decoupling most likely to help for Sampler runs on hardware?\n",
    "\n",
    "a. Only when running on a simulator with noise disabled<br>\n",
    "b. When all qubits are busy almost all the time (densely packed schedules)<br>\n",
    "c. When circuits contain idle gaps on some qubits where no operations occur<br>\n",
    "d. Only when measuring expectation values with Estimator<br>\n"
   ]
  },
  {
   "cell_type": "markdown",
   "id": "e6485b5a-11c9-4615-8bf8-784bb5a8abda",
   "metadata": {},
   "source": [
    ":::{dropdown}answer \n",
    "The answer is c. \n",
    "\n",
    "DD is primarily beneficial when there are idle periods; pulses inserted during idle intervals can suppress coherent errors. With densely packed schedules, DD can provide little benefit or even hurt due to pulse imperfections. \n",
    ":::\n"
   ]
  },
  {
   "cell_type": "markdown",
   "id": "43aa12f6-1578-4532-86b4-ed9e4e699bc4",
   "metadata": {},
   "source": [
    "11. Which error‑related options are supported directly by Sampler V2?\n",
    "\n",
    "a. Pauli twirling (suppression) via `sampler.options.twirling.*`<br>\n",
    "b. TREX measurement mitigation via `sampler.options.resilience.measure_mitigation = True`<br>\n",
    "c. Zero‑noise extrapolation via `sampler.options.resilience.zne_mitigation = True`<br>\n",
    "d. Probabilistic error cancellation via `sampler.options.resilience.pec_mitigation = True`<br>\n"
   ]
  },
  {
   "cell_type": "markdown",
   "id": "78f7941a-9024-4908-861d-67868e153e4d",
   "metadata": {},
   "source": [
    ":::{dropdown}answer \n",
    "The answer is a. \n",
    "\n",
    "Sampler supports suppression methods like Pauli twirling and dynamical decoupling. Mitigation techniques such as TREX, ZNE, and PEC are available in Estimator; Sampler does not support them directly. \n",
    ":::\n"
   ]
  },
  {
   "cell_type": "markdown",
   "id": "29bcabbf-3bba-4a45-b731-0fe073bc4159",
   "metadata": {},
   "source": [
    "12. Which snippet correctly configures Pauli twirling in Sampler V2 with 32 randomizations and 100 shots per randomization?\n",
    "\n",
    "a. \n",
    "```\n",
    "sampler.options.twirling.enable_gates = True\n",
    "sampler.options.twirling.num_randomizations = 32\n",
    "sampler.options.twirling.shots_per_randomization = 100\n",
    "```\n",
    "\n",
    "b. \n",
    "```\n",
    "sampler.options.twirling.enable = True\n",
    "sampler.options.twirling.count = 32\n",
    "sampler.options.twirling.shots = 100\n",
    "```\n",
    "\n",
    "c. \n",
    "```\n",
    "sampler.options.resilience.twirling = True\n",
    "sampler.options.resilience.num_randomizations = 32\n",
    "sampler.options.resilience.shots_per_randomization = 100\n",
    "```\n",
    "\n",
    "d. \n",
    "```\n",
    "sampler.enable_twirling(32, 100)\n",
    "```"
   ]
  },
  {
   "cell_type": "markdown",
   "id": "5cc5e9d0-a9b2-4d84-8fcc-41b96acd221e",
   "metadata": {},
   "source": [
    ":::{dropdown}answer \n",
    "The answer is a. \n",
    "\n",
    "Use the `twirling` options on Sampler: set `enable_gates=True`, then configure `num_randomizations` and `shots_per_randomization`.\n",
    "- `num_randomizations`: The number of circuit instances to draw from the ensemble of twirled circuits.\n",
    "- `shots_per_randomization`: The number of shots to sample from each circuit instance.\n",
    "Here’s a concise English summary of the **Concept** and **Motivation** sections of *Pauli twirling*, along with an explanation of the difference between **coherent** and **incoherent noise**:\n",
    "\n",
    "---\n",
    "\n",
    "### Pauli twirling\n",
    "\n",
    "Pauli twirling is a technique where random Pauli operators (I, X, Y, Z) are inserted before and after certain gates in a quantum circuit. This process effectively transforms arbitrary noise into a *Pauli channel*, a simpler and more tractable noise model.\n",
    "\n",
    "Quantum hardware noise often contains **coherent errors**, which accumulate *quadratically* with the number of operations, making them especially harmful. By applying Pauli twirling, these coherent errors are randomized and converted into **incoherent (Pauli) errors**, which accumulate *linearly* with circuit depth. This makes the errors easier to analyze and mitigate, and it allows error mitigation techniques that assume Pauli noise to be more effective.\n",
    "\n",
    "---\n",
    "\n",
    "### Coherent vs. Incoherent errors\n",
    "\n",
    "* **Coherent errors**:\n",
    "\n",
    "  * Systematic and unitary in nature (e.g., consistent over-rotation or phase error in a gate).\n",
    "  * Error amplitudes interfere constructively over repeated operations, causing error growth to scale quadratically.\n",
    "* **Incoherent errors**:\n",
    "\n",
    "  * Probabilistic and stochastic (e.g., random bit flips, depolarizing noise).\n",
    "  * Errors accumulate additively, leading to linear error growth with circuit depth.\n",
    "\n",
    ":::\n"
   ]
  },
  {
   "cell_type": "markdown",
   "id": "b89330df-94d8-4f18-a41c-6b10e13672ce",
   "metadata": {},
   "source": [
    "13. How do you set a repetition delay of 0.5 ms between shots for Sampler V2?\n",
    "\n",
    "a. sampler.options.execution.rep_delay = 0.5<br>\n",
    "b. sampler.options.environment.rep_delay = 0.5<br>\n",
    "c. sampler.options.execution.rep_delay = 0.0005<br>\n",
    "d. sampler.set_options(rep_delay_ms=0.5)<br>\n"
   ]
  },
  {
   "cell_type": "markdown",
   "id": "0b801585-fd8a-4863-a9be-d842c2be85b0",
   "metadata": {},
   "source": [
    ":::{dropdown}answer \n",
    "The answer is c. \n",
    "\n",
    "`rep_delay` is specified in seconds within the `execution` options; 0.5 ms equals 0.0005 seconds. \n",
    ":::\n"
   ]
  },
  {
   "cell_type": "markdown",
   "id": "e018b8fb-ece4-47df-927b-886d801793e2",
   "metadata": {},
   "source": [
    "14. When calling `SamplerV2.run`, what is the correct data type for the first positional argument?\n",
    "\n",
    "a. A single `QuantumCircuit` instance<br>\n",
    "b. A list of ISA circuits accepted by the runtime (`[isa_circuit, ...]`)<br>\n",
    "c. A `Distribution` object<br>\n",
    "d. A dictionary mapping bitstrings to probabilities<br>\n"
   ]
  },
  {
   "cell_type": "markdown",
   "id": "fe6bfc99-dd47-48db-bfcc-7b5d283573b9",
   "metadata": {},
   "source": [
    ":::{dropdown}answer \n",
    "The answer is b. \n",
    "\n",
    "`SamplerV2.run` expects a sequence of runtime‑compatible (ISA) circuits; passing a single `QuantumCircuit` or a probability distribution does not conform to the runtime’s `run` signature for the Sampler. (A single circuit can be provided as a one‑element list.) \n",
    ":::"
   ]
  },
  {
   "cell_type": "markdown",
   "id": "bdae87be-f694-4ddf-beef-0f9c0f6e22f7",
   "metadata": {},
   "source": [
    "15. Which statement about dynamical decoupling is TRUE?\n",
    "\n",
    "a. DD is a measurement‑error mitigation method that post‑processes bitstrings<br>\n",
    "b. Each inserted DD pulse sequence ideally implements an identity operation while suppressing coherent errors on idling qubits<br>\n",
    "c. DD is guaranteed to improve results in all cases, even with dense schedules<br>\n",
    "d. DD can only be used with Estimator, not with Sampler<br>\n"
   ]
  },
  {
   "cell_type": "markdown",
   "id": "9249fe97-548d-4d88-ba39-1d0d66d3bbe3",
   "metadata": {},
   "source": [
    ":::{dropdown}answer \n",
    "The answer is b. \n",
    "\n",
    "DD inserts carefully chosen pulse sequences during idle gaps. These sequences act as identity operations but help cancel coherent errors. It is a suppression (control) technique, not a post‑processing mitigation method. \n",
    ":::\n"
   ]
  },
  {
   "cell_type": "markdown",
   "id": "85b8a1ff-567a-44be-a383-ecbc39a4ce36",
   "metadata": {},
   "source": [
    "16. In EstimatorV2, what does `options.default_precision` control and what is its default value?\n",
    "\n",
    "a. It sets the target standard error for expectation values (used when shots aren’t given); default is 0.015625 (1/√4096).<br>\n",
    "b. It sets the transpiler optimization level; default is 1.<br>\n",
    "c. It fixes the number of shots for each circuit configuration; default is 4096.<br>\n",
    "d. It controls backend run priority; default is “normal”.<br>\n"
   ]
  },
  {
   "cell_type": "markdown",
   "id": "47373a30-7beb-49ad-897a-fae7283bc041",
   "metadata": {},
   "source": [
    ":::{dropdown}answer \n",
    "The answer is a. \n",
    "\n",
    "`default_precision` defines the default statistical precision target for expectation values when neither the PUB nor `run()` specifies precision; EstimatorV2 chooses shots to meet this. The documented default is 0.015625 (i.e., 1/√4096).\n",
    ":::\n"
   ]
  },
  {
   "cell_type": "markdown",
   "id": "ed04087e-2bea-41ab-b5d2-2b864eda671c",
   "metadata": {},
   "source": [
    "17. Regarding `options.default_shots` in EstimatorV2, which statement is correct?\n",
    "\n",
    "a. If set, it overrides `default_precision`, and when twirling is enabled it is split across randomizations.<br>\n",
    "b. It is ignored whenever twirling is enabled.<br>\n",
    "c. It only applies to simulators and is ignored on hardware.<br>\n",
    "d. It sets the maximum number of shots per job but never overrides precision.<br>\n"
   ]
  },
  {
   "cell_type": "markdown",
   "id": "64801996-065a-41b0-82ca-6ec1c370249e",
   "metadata": {},
   "source": [
    ":::{dropdown}answer \n",
    "The answer is a. \n",
    "\n",
    "When `default_shots` is provided, it takes precedence over `default_precision`. If Pauli twirling is active, the total shots are divided among the circuit randomizations according to the twirling options.\n",
    ":::\n"
   ]
  },
  {
   "cell_type": "markdown",
   "id": "82444203-b21b-4ef7-bb7c-5eae52a5139e",
   "metadata": {},
   "source": [
    "18. Which mapping of `resilience_level` to behavior is correct for EstimatorV2?\n",
    "\n",
    "a. 0: No mitigation; 1: Readout mitigation + measurement twirling; 2: Adds bias‑reducing estimator mitigation (medium cost).<br>\n",
    "b. 0: Readout mitigation only; 1: Full error correction; 2: No mitigation.<br>\n",
    "c. 0: Measurement twirling; 1: Probabilistic error cancellation; 2: Zero‑noise extrapolation only.<br>\n",
    "d. 0: No mitigation; 1: Full QEC; 2: Hardware calibration reset only.<br>\n"
   ]
  },
  {
   "cell_type": "markdown",
   "id": "b038ef09-92e5-46fd-aaed-cbaf5986769d",
   "metadata": {},
   "source": [
    ":::{dropdown}answer \n",
    "The answer is a. \n",
    "\n",
    "`resilience_level` increases mitigation complexity: \n",
    "- 0 disables mitigation\n",
    "- 1 applies minimal‑cost techniques like readout mitigation (and measurement twirling in V2)\n",
    "- 2 adds medium‑cost estimator bias‑reduction methods\n",
    ":::\n"
   ]
  },
  {
   "cell_type": "markdown",
   "id": "ebe308dc-7d08-4df3-b3ca-cb07e9fc68eb",
   "metadata": {},
   "source": [
    "19. For `TwirlingOptions.strategy`, what best describes the default `\"active-accum\"` behavior?\n",
    "\n",
    "a. In each twirled layer, twirl the union of instruction qubits encountered up to that layer.<br>\n",
    "b. Twirl only the instruction qubits of the current layer, ignoring earlier ones.<br>\n",
    "c. Twirl all qubits in the circuit at every twirled layer.<br>\n",
    "d. Twirl only the first two qubits of the circuit to minimize overhead.<br>\n"
   ]
  },
  {
   "cell_type": "markdown",
   "id": "d79feb1e-b71d-470f-b728-9d926b774b78",
   "metadata": {},
   "source": [
    ":::{dropdown}answer \n",
    "The answer is a. \n",
    "\n",
    "`\"active-accum\"` accumulates the set of instruction qubits seen so far and twirls that growing set at each subsequent twirled layer, which is default strategy.\n",
    ":::\n"
   ]
  },
  {
   "cell_type": "markdown",
   "id": "87314061-96fa-4044-a232-866e741861ac",
   "metadata": {},
   "source": [
    "20. What is the default of `TwirlingOptions.enable_measure` and where does it apply?\n",
    "\n",
    "a. `True` for Estimator, `False` for Sampler; enables twirling on measurement instructions not inside conditionals.<br>\n",
    "b. `True` for both Estimator and Sampler; always twirl all measurements.<br>\n",
    "c. `False` for both primitives; measurement twirling must be enabled via `resilience_level` only.<br>\n",
    "d. `True` only on simulators; `False` on hardware backends.<br>\n"
   ]
  },
  {
   "cell_type": "markdown",
   "id": "075c20c9-6e03-4c66-829f-4d5b5006264b",
   "metadata": {},
   "source": [
    ":::{dropdown}answer \n",
    "The answer is a. \n",
    "\n",
    "Measurement twirling is enabled by default for Estimator and disabled by default for Sampler. It applies to measurement operations provided they are not within a conditional block.\n",
    ":::\n"
   ]
  },
  {
   "cell_type": "markdown",
   "id": "a2744e24-d485-4718-9613-49184570576e",
   "metadata": {},
   "source": [
    "21. When `options.resilience.zne.amplifier='pea'` is selected, which effect is correct?\n",
    "\n",
    "a. The runtime always uses twirling and performs layer noise learning before executing amplified circuits.<br>\n",
    "b. ZNE is disabled because PEA conflicts with twirling.<br>\n",
    "c. Only single‑qubit gates are folded; two‑qubit gates are untouched.<br>\n",
    "d. The extrapolator is forced to `'fallback'`.<br>\n"
   ]
  },
  {
   "cell_type": "markdown",
   "id": "7d99ae46-6162-46ad-8528-cf0da53d1b28",
   "metadata": {},
   "source": [
    ":::{dropdown}answer \n",
    "The answer is a. \n",
    "\n",
    "With PEA (Probabilistic Error Amplification), the runtime learns a twirled noise model per entangling layer (layer noise learning) and applies twirling automatically, then injects noise proportional to the learned model during execution.\n",
    ":::\n"
   ]
  },
  {
   "cell_type": "markdown",
   "id": "19002d5f-6df0-403a-8534-e53ecf0a0bf0",
   "metadata": {},
   "source": [
    "22. What are the documented defaults for `options.resilience.zne.noise_factors`?\n",
    "\n",
    "a. `(1, 1.5, 2)` for PEA and `(1, 3, 5)` otherwise.<br>\n",
    "b. `(1, 2, 4)` for PEA and `(1, 3, 9)` otherwise.<br>\n",
    "c. Always `(1, 3, 5)` regardless of amplifier.<br>\n",
    "d. Determined solely by `default_precision`.<br>\n"
   ]
  },
  {
   "cell_type": "markdown",
   "id": "6895fe01-b07c-4500-a751-0ea0e83409ff",
   "metadata": {},
   "source": [
    ":::{dropdown}answer \n",
    "The answer is a. \n",
    "\n",
    "By default, PEA uses smaller incremental factors `(1, 1.5, 2)`, while gate‑folding–based amplification uses `(1, 3, 5)`.\n",
    ":::\n"
   ]
  },
  {
   "cell_type": "markdown",
   "id": "7334ed71-eee2-4393-a434-257b71810545",
   "metadata": {},
   "source": [
    "23. When ZNE options are enabled in EstimatorV2, which additional data fields are returned per PUB result?\n",
    "\n",
    "a. `evs_extrapolated`/`stds_extrapolated` and `evs_noise_factors`/`stds_noise_factors`/`ensemble_stds_noise_factors`.<br>\n",
    "b. Only `calibration_matrix` with no standard deviations.<br>\n",
    "c. `zne_trace` strings and `fit_r2` only.<br>\n",
    "d. No additional data; ZNE affects only `evs`/`stds`.<br>\n"
   ]
  },
  {
   "cell_type": "markdown",
   "id": "95c1a4bd-9908-4335-b29c-403da382ac8f",
   "metadata": {},
   "source": [
    ":::{dropdown}answer \n",
    "The answer is a. \n",
    "\n",
    "With ZNE, in addition to `evs` and `stds`, the runtime returns extrapolated evaluations and per‑noise‑factor evaluations (including ensemble standard deviations) with shapes defined by the observable and parameter broadcasting.\n",
    ":::\n"
   ]
  },
  {
   "cell_type": "markdown",
   "id": "f1961ba9-9e30-40d0-b4cd-fdf82b1dcb2f",
   "metadata": {},
   "source": [
    "24. Which snippet correctly runs `SamplerV2` on two circuits and obtains quasi‑probability results?\n",
    "\n",
    "a.\n",
    "```python\n",
    "from qiskit_ibm_runtime import SamplerV2\n",
    "sampler = SamplerV2(mode=backend)\n",
    "job = sampler.run([circ1_isa, circ2_isa])\n",
    "result = job.result()\n",
    "dists = result[0].data, result[1].data\n",
    "```\n",
    "b.\n",
    "```python\n",
    "from qiskit_ibm_runtime import SamplerV2\n",
    "sampler = SamplerV2(mode=backend)\n",
    "job = sampler.run(circ1_isa, circ2_isa)\n",
    "dists = job.result().distributions\n",
    "```\n",
    "c.\n",
    "```python\n",
    "from qiskit_ibm_runtime import SamplerV2\n",
    "sampler = SamplerV2(mode=backend)\n",
    "result = sampler.run([circ1_isa, circ2_isa], runs=2048)\n",
    "dists = result.data\n",
    "```\n",
    "d.\n",
    "```python\n",
    "from qiskit_ibm_runtime import SamplerV2\n",
    "sampler = SamplerV2(mode=backend)\n",
    "job = sampler.run([circ1, circ2])  # QuantumCircuit objects\n",
    "dists = job.result()\n",
    "```\n"
   ]
  },
  {
   "cell_type": "markdown",
   "id": "b973f3a2-9007-496f-a3e7-cb6e81d99240",
   "metadata": {},
   "source": [
    ":::{dropdown}answer \n",
    "The answer is a. \n",
    "\n",
    "`SamplerV2.run` accepts a list of ISA circuits and returns a job whose `result()` contains per‑circuit distribution payloads. Passing multiple positional circuit arguments or non‑ISA `QuantumCircuit` objects is not correct for the runtime API. \n",
    ":::"
   ]
  },
  {
   "cell_type": "markdown",
   "id": "cb0777b6-7a9d-4e80-8f56-7128e2933755",
   "metadata": {},
   "source": [
    "25. What is `options.seed_estimator` used for in EstimatorV2?\n",
    "\n",
    "a. To control sampling randomness (e.g., shot sampling and randomizations) via a fixed seed.<br>\n",
    "b. To seed the transpiler’s layout selection.<br>\n",
    "c. To fix the hardware qubit mapping across sessions.<br>\n",
    "d. To seed the optimizer used in VQE.<br>\n"
   ]
  },
  {
   "cell_type": "markdown",
   "id": "fc16fab4-56aa-42af-b125-2d9214a5df8e",
   "metadata": {},
   "source": [
    ":::{dropdown}answer \n",
    "The answer is a. \n",
    "\n",
    "`seed_estimator` sets a seed to control stochastic parts of the estimator’s execution, such as sampling and randomized procedures, improving reproducibility across runs.\n",
    ":::\n"
   ]
  },
  {
   "cell_type": "markdown",
   "id": "06da598f-2750-4ac5-8daa-85b490f90faf",
   "metadata": {},
   "source": [
    "## TASK 5.2/6.2: Understand the theoretical background behind the sampler/estimator primitive"
   ]
  },
  {
   "cell_type": "markdown",
   "id": "bf756e90-6145-48d9-b186-017382bf0111",
   "metadata": {},
   "source": [
    "1. Which snippet best demonstrates **multiple PUBs** in one call to Sampler V2?\n",
    "\n",
    "a.\n",
    "```python\n",
    "pubs = [(qc1, [theta1], 2000), (qc2, [theta2], 4000)]\n",
    "job = sampler.run(pubs)\n",
    "res = job.result()\n",
    "```\n",
    "b.\n",
    "```python\n",
    "pubs = [(qc1, obs1, [theta1]), (qc2, obs2, [theta2])]\n",
    "job = sampler.run(pubs)\n",
    "```\n",
    "c.\n",
    "```python\n",
    "pubs = [([qc1, qc2], {'shots': [2000, 4000]})]\n",
    "job = sampler.run(pubs)\n",
    "```\n",
    "d.\n",
    "```python\n",
    "pubs = {qc1: 2000, qc2: 4000}\n",
    "job = sampler.run(pubs)\n",
    "```"
   ]
  },
  {
   "cell_type": "markdown",
   "id": "c696f426-4ff6-4070-8295-160630355e16",
   "metadata": {},
   "source": [
    ":::{dropdown}answer \n",
    "The answer is a. \n",
    "\n",
    "A Sampler PUB can be expressed as `(circuit, <optional> parameter_values, <optional> shots)`. Multiple PUBs can be submitted in a single `run` call.\n",
    ":::\n"
   ]
  },
  {
   "cell_type": "markdown",
   "id": "c4d93164-51df-4436-a6d9-56a5f33b8173",
   "metadata": {},
   "source": [
    "2. Which of the following best describes the **output** of the Sampler primitive?\n",
    "\n",
    "a. A histogram of expectation values for given observables<br>\n",
    "b. A quasi-probability distribution over bitstrings measured from the circuit<br>\n",
    "c. A sequence of transpiled circuits optimized for the backend<br>\n",
    "d. A set of error-mitigated observables in operator form<br>"
   ]
  },
  {
   "cell_type": "markdown",
   "id": "cd2989be-d39f-44e6-944b-25af382583b0",
   "metadata": {},
   "source": [
    ":::{dropdown}answer\n",
    "The answer is b.\n",
    "\n",
    "The Sampler outputs a **quasi-probability distribution** that summarizes how often each bitstring is expected to occur. This distribution captures sampling statistics, while expectation values belong to Estimator results.\n",
    ":::"
   ]
  },
  {
   "cell_type": "markdown",
   "id": "4a1cbfba-836e-408f-abdd-6f066c367ad9",
   "metadata": {},
   "source": [
    "3. You need to obtain **shot-by-shot samples** from a circuit while preserving the measurement order for dynamic-circuit compatibility. Which method should you use?\n",
    "\n",
    "a. Use `EstimatorV2.run([qc])` to return expectation values per shot.<br>\n",
    "b. Use `SamplerV1.run([qc])` to return a quasi-probability distribution.<br>\n",
    "c. Use `SamplerV2.run([qc])` to return samples of classical outcomes, preserving shot order.<br>\n",
    "d. Use `QuantumCircuit.sample_counts(qc)` to return per-shot bit arrays."
   ]
  },
  {
   "cell_type": "markdown",
   "id": "d72147c6-04aa-4c68-b817-ac360d1755de",
   "metadata": {},
   "source": [
    ":::{dropdown}answer \n",
    "The answer is c. \n",
    "\n",
    "`SamplerV2` focuses on sampling the output register and returns **samples of classical outcomes**, preserving the **shot order**. This contrasts with Sampler V1, which returns quasi-probability distributions. Estimator computes expectation values, not samples.\n",
    ":::"
   ]
  },
  {
   "cell_type": "markdown",
   "id": "fdc891b4-57f4-4127-bae1-a16f74b0f643",
   "metadata": {},
   "source": [
    "4. You want to submit **several circuits, each with its own parameter values and (optionally) shots**, in a single call. Which interface best matches the Sampler V2 design?\n",
    "\n",
    "a. Provide a list of PUBs, where each PUB is `(circuit, <optional> parameter_values, <optional> shots>)`.<br>\n",
    "b. Provide a list of `(observable, circuit)` pairs.<br>\n",
    "c. Provide a dictionary mapping circuits to quasi-probabilities.<br>\n",
    "d. Provide a single circuit with a batch size argument `batch=True`."
   ]
  },
  {
   "cell_type": "markdown",
   "id": "fe7a93db-1819-49b1-8b00-15b13ae666cc",
   "metadata": {},
   "source": [
    ":::{dropdown}answer \n",
    "The answer is a. \n",
    "\n",
    "Sampler V2 accepts multiple **Primitive Unified Blocs (PUBs)**, each tuple typically `(circuit, <optional> parameter_values, <optional> shots)`, so you can submit many circuit evaluations together.\n",
    ":::\n"
   ]
  },
  {
   "cell_type": "markdown",
   "id": "08c09897-7843-4bdb-8536-6a77e451efb4",
   "metadata": {},
   "source": [
    "5. In Sampler V2, results are organized by **classical register names** from the circuit. Which description best matches this behavior?\n",
    "\n",
    "a. Samples are returned as raw bytes, with no register structure available.<br>\n",
    "b. Samples are grouped **per classical register**, aiding compatibility with dynamic circuits.<br>\n",
    "c. Samples are flattened into integers and sorted by frequency.<br>\n",
    "d. Samples are returned only as aggregate counts per register."
   ]
  },
  {
   "cell_type": "markdown",
   "id": "0f4a342c-33d4-4cb2-90a0-4126a1a78376",
   "metadata": {},
   "source": [
    ":::{dropdown}answer \n",
    "The answer is b. \n",
    "\n",
    "Sampler V2 organizes output by the **output/classical register names** defined by the input program, facilitating use with dynamic circuits.\n",
    ":::\n"
   ]
  },
  {
   "cell_type": "markdown",
   "id": "a5208183-3f95-46ef-8853-2fe5e55ace9c",
   "metadata": {},
   "source": [
    "6. In the context of the Estimator primitive, what is the main theoretical effect of **Pauli twirling** on gate errors?\n",
    "\n",
    "a. It only applies to single-qubit gates and leaves two-qubit noise unchanged.<br>\n",
    "b. It eliminates measurement (readout) errors by repeating measurements with majority voting.<br>\n",
    "c. It exactly cancels hardware noise by inverting it gate-by-gate.<br>\n",
    "d. It transforms arbitrary noise into a Pauli channel so that coherent errors accumulate linearly rather than quadratically.<br>"
   ]
  },
  {
   "cell_type": "markdown",
   "id": "584a3cf4-2d2a-4843-8369-4bde8704a31a",
   "metadata": {},
   "source": [
    ":::{dropdown}answer \n",
    "The answer is d. \n",
    "\n",
    "Pauli twirling (randomized compiling with Pauli gates) maps general noise to a Pauli channel. This changes error growth from quadratic (coherent) to linear (Pauli), improving expectation-value estimation by the Estimator when combined with sampling over randomized circuit instances. \n",
    ":::\n"
   ]
  },
  {
   "cell_type": "markdown",
   "id": "84f261ce-fd73-414a-8dc3-bd5958b98e07",
   "metadata": {},
   "source": [
    "7. You estimate expectation values of Pauli observables and see bias dominated by readout noise. Which technique directly targets *measurement* errors for Estimator?\n",
    "\n",
    "a. Pauli twirling (gate twirling)<br>\n",
    "b. Twirled Readout Error eXtinction (TREX)<br>\n",
    "c. Dynamical decoupling (DD)<br>\n",
    "d. Zero-noise extrapolation (ZNE)<br>"
   ]
  },
  {
   "cell_type": "markdown",
   "id": "9a386c03-9613-44fc-a933-65c309117694",
   "metadata": {},
   "source": [
    ":::{dropdown}answer \n",
    "The answer is b. \n",
    "\n",
    "TREX performs measurement twirling (random X before measure + classical bit flip) to diagonalize the readout-error transfer matrix and remove readout bias from expectation values. Gate twirling and DD address gate/coherent errors; ZNE mitigates circuit noise via noise scaling and extrapolation, not specifically readout. \n",
    ":::\n"
   ]
  },
  {
   "cell_type": "markdown",
   "id": "8b87ce0e-da39-46d2-9c20-c47a7840a537",
   "metadata": {},
   "source": [
    "3. **Zero-noise extrapolation (ZNE)**, as used with the Estimator, is best summarized by which two-stage process?\n",
    "\n",
    "a. Learn a quasi-probability model and sample from it to reproduce the ideal circuit exactly.<br>\n",
    "b. Amplify noise (e.g., by digital gate folding) and then extrapolate expectation values to the zero-noise limit.<br>\n",
    "c. Insert idle-pulse sequences to cancel coherent errors during “gaps” in the schedule.<br>\n",
    "d. Calibrate a confusion matrix and invert it to de-bias measurement outcomes.<br>"
   ]
  },
  {
   "cell_type": "markdown",
   "id": "39eb8b2c-6592-43f6-8d79-72c1d295f894",
   "metadata": {},
   "source": [
    ":::{dropdown}answer \n",
    "The answer is b. \n",
    "\n",
    "ZNE runs the same logical circuit at different effective noise levels (e.g., via gate folding like replacing \\(U\\) with \\(UU^\\dagger U\\)), then fits an extrapolator (linear, exponential, etc.) to estimate the zero-noise expectation value.\n",
    ":::\n"
   ]
  },
  {
   "cell_type": "markdown",
   "id": "c4c99a7e-ce64-472e-93ae-a63b10d27bcf",
   "metadata": {},
   "source": [
    "4. In **digital gate folding** for ZNE, replacing a unitary $U$ by $UU^{\\dagger}U$ corresponds to which **noise amplification factor**?\n",
    "\n",
    "a. 3<br>\n",
    "b. 2<br>\n",
    "c. 1<br>\n",
    "d. 0<br>"
   ]
  },
  {
   "cell_type": "markdown",
   "id": "d5ff85d5-76e2-444d-b9d2-15740f0391c5",
   "metadata": {},
   "source": [
    ":::{dropdown}answer \n",
    "The answer is a. \n",
    "\n",
    "Qiskit Runtime implements noise amplification by \"digital gate folding,\" which means that two-qubit gates are replaced with equivalent sequences of the gate and its inverse.\n",
    "\n",
    "The sequence $UU^{\\dagger}U$ increases the effective number of noisy operations by a factor (`noise_factors`) of 3 while preserving the ideal unitary action, enabling controlled noise amplification for extrapolation.\n",
    "\n",
    "- noise_factors: The noise factors to use for noise amplification.\n",
    ":::\n"
   ]
  },
  {
   "cell_type": "markdown",
   "id": "0a0c647c-edeb-4291-a86e-d93ee2ed4809",
   "metadata": {},
   "source": [
    "5. **Probabilistic Error Amplification (PEA)** provides a more accurate noise amplification than simple folding. Which statement captures its core idea?\n",
    "\n",
    "a. It learns a twirled noise model for each entangling layer and then injects single-qubit noise proportionally during amplification.<br>\n",
    "b. It only repeats two-qubit gates and their inverses to scale noise without any learning.<br>\n",
    "c. It yields an exactly unbiased estimator of the expectation value without overhead.<br>\n",
    "d. It does not require ZNE to be enabled because it is a suppression (not mitigation) method.<br>"
   ]
  },
  {
   "cell_type": "markdown",
   "id": "5253beca-5d33-40b8-949f-11d6cece771c",
   "metadata": {},
   "source": [
    ":::{dropdown}answer \n",
    "The answer is a. \n",
    "\n",
    "PEA first **learns** the twirled noise per entangling layer, then **amplifies** by probabilistically injecting single‑qubit noise consistent with that learned model before **extrapolating** to the zero‑noise limit. It is typically used alongside ZNE in Estimator workflows.\n",
    ":::\n"
   ]
  },
  {
   "cell_type": "markdown",
   "id": "c15fade3-599b-42d0-861f-74dcc077e6f9",
   "metadata": {},
   "source": [
    "6. You need an *unbiased* estimator of ⟨O⟩ but can tolerate the highest shot overhead. Which mitigation method matches this requirement?\n",
    "\n",
    "a. ZNE with linear extrapolation<br>\n",
    "b. PEC (probabilistic error cancellation)<br>\n",
    "c. TREX with many randomizations<br>\n",
    "d. Gate twirling only<br>"
   ]
  },
  {
   "cell_type": "markdown",
   "id": "773ecef9-d57f-4de6-bf80-e2613c455c94",
   "metadata": {},
   "source": [
    ":::{dropdown}answer \n",
    "The answer is b. \n",
    "\n",
    "PEC reconstructs the ideal channel as a quasi-probability mixture of noisy channels, yielding an *unbiased* expectation value estimate at the cost of large sampling overhead that scales with the quasi-probability L1 norm. ZNE often reduces bias but is not guaranteed unbiased; TREX and gate twirling address different error sources. \n",
    ":::\n"
   ]
  },
  {
   "cell_type": "markdown",
   "id": "1052deb8-f97d-43e3-b497-323be328cd90",
   "metadata": {},
   "source": [
    "7. In **Pauli gate twirling** as implemented for Estimator runs, how are **randomized circuit instances** and shots typically managed?\n",
    "\n",
    "a. They change the backend’s native basis gates to Pauli-only operations.<br>\n",
    "b. Randomizations only affect calibration circuits and never the main circuit instances.<br>\n",
    "c. The parameters set the ZNE noise factors and the extrapolator form.<br>\n",
    "d. The Estimator samples multiple randomized instances (controlled by `num_randomizations`) and takes `shots_per_randomization` shots from each.<br>"
   ]
  },
  {
   "cell_type": "markdown",
   "id": "3c16d6be-f329-40cc-a6ad-f578676d84e1",
   "metadata": {},
   "source": [
    ":::{dropdown}answer \n",
    "The answer is d. \n",
    "\n",
    "Gate twirling replaces a single circuit with an ensemble of randomized, Pauli‑wrapped instances that have the same ideal effect. The Estimator then draws a specified number of instances and shots per instance to estimate expectation values.\n",
    ":::\n"
   ]
  },
  {
   "cell_type": "markdown",
   "id": "f3ae9ea5-d30d-4407-9b78-4e6bf2315062",
   "metadata": {},
   "source": [
    "8. For a Hermitian observable and real-valued expectation ⟨O⟩, what is the expected *data type* of the Estimator’s returned value (ignoring confidence intervals and metadata)?\n",
    "\n",
    "a. A dictionary mapping bitstrings to counts<br>\n",
    "b. A complex number with generally nonzero imaginary part<br>\n",
    "c. A real scalar (float) expectation value<br>\n",
    "d. A list of complex amplitudes (statevector)<br>"
   ]
  },
  {
   "cell_type": "markdown",
   "id": "1eb597a0-9520-40fc-b1f1-29937f0e8138",
   "metadata": {},
   "source": [
    ":::{dropdown}answer \n",
    "The answer is c. \n",
    "\n",
    "The Estimator primitive computes expectation values of observables; for Hermitian observables, the expectation is real and is returned as a real scalar. Counts dictionaries and statevectors belong to different primitives/tools; a nonzero imaginary part would contradict Hermiticity. \n",
    ":::\n"
   ]
  },
  {
   "cell_type": "markdown",
   "id": "ffd0cdfd-9feb-4348-a2dd-394682c2bcb0",
   "metadata": {},
   "source": [
    "9. Conceptually, how do **error suppression** and **error mitigation** differ for Estimator‑based workflows?\n",
    "\n",
    "a. Suppression modifies the implemented circuit/pulse schedule to reduce noise during execution (e.g., DD, gate twirling), whereas mitigation post‑processes or re‑processes experimental data to adjust expectation values (e.g., TREX, ZNE, PEC).<br>\n",
    "b. Both terms mean the same thing and are interchangeable in practice.<br>\n",
    "c. Mitigation changes gate calibrations in hardware; suppression extrapolates to the zero‑noise limit.<br>\n",
    "d. Suppression is only about measurement, while mitigation is only about two‑qubit gates.<br>"
   ]
  },
  {
   "cell_type": "markdown",
   "id": "a75d436e-caf6-4a97-b657-62625d53cf55",
   "metadata": {},
   "source": [
    ":::{dropdown}answer \n",
    "The answer is a. \n",
    "\n",
    "Suppression techniques alter what is executed (added pulses, randomized wrappers) to reduce error accumulation, while mitigation techniques change how results are **estimated** (diagonalizing readout noise, extrapolating to zero noise, or canceling errors via quasi‑probabilities) to recover better expectation values.\n",
    ":::\n"
   ]
  },
  {
   "cell_type": "markdown",
   "id": "86673fd1-ec74-4e22-b8b6-d55dba013e7e",
   "metadata": {},
   "source": [
    "10. Which Estimator option enables *measurement* error mitigation via TREX according to the documented resilience settings?\n",
    "\n",
    "a. `estimator.options.twirling.enable_gates = True`<br>\n",
    "b. `estimator.options.resilience.measure_mitigation = True`<br>\n",
    "c. `estimator.options.dynamical_decoupling.enable = True`<br>\n",
    "d. `estimator.options.resilience.zne_mitigation = True`<br>\n"
   ]
  },
  {
   "cell_type": "markdown",
   "id": "9e2cb9a3-394f-4250-a5e9-e3a69e1a5963",
   "metadata": {},
   "source": [
    ":::{dropdown}answer \n",
    "The answer is b. \n",
    "\n",
    "`resilience.measure_mitigation` turns on TREX-based readout mitigation for Estimator. Gate twirling and DD are different options; `zne_mitigation` enables ZNE, not measurement mitigation. \n",
    ":::\n"
   ]
  },
  {
   "cell_type": "markdown",
   "id": "19426836-2c56-4446-9f08-f4603a4c4d5d",
   "metadata": {},
   "source": [
    "11. You want ZNE with specific amplification factors and an exponential extrapolator. Which option pair matches the documented keys?\n",
    "\n",
    "a. `estimator.options.zne.noise_factors`, `estimator.options.zne.extrapolator`<br>\n",
    "b. `estimator.options.resilience.zne.noise_factors`, `estimator.options.resilience.zne.extrapolator`<br>\n",
    "c. `estimator.options.zne.factors`, `estimator.options.zne.method='exponential'`<br>\n",
    "d. `estimator.options.resilience.zne.factors`, `estimator.options.resilience.zne.fit='exp'`<br>\n"
   ]
  },
  {
   "cell_type": "markdown",
   "id": "2ffa6309-04c0-4946-a37a-01b6e3dbf58d",
   "metadata": {},
   "source": [
    ":::{dropdown}answer \n",
    "The answer is b. \n",
    "\n",
    "ZNE is configured under `options.resilience.zne`, with keys like `noise_factors` and `extrapolator` (e.g., `(1, 3, 5)` and `\"exponential\"`). Other key paths/names are not documented. \n",
    ":::\n"
   ]
  },
  {
   "cell_type": "code",
   "execution_count": null,
   "id": "70d891e3-6326-4116-9539-0ce13d4201e1",
   "metadata": {},
   "outputs": [],
   "source": []
  }
 ],
 "metadata": {
  "kernelspec": {
   "display_name": "Python 3 (ipykernel)",
   "language": "python",
   "name": "python3"
  },
  "language_info": {
   "codemirror_mode": {
    "name": "ipython",
    "version": 3
   },
   "file_extension": ".py",
   "mimetype": "text/x-python",
   "name": "python",
   "nbconvert_exporter": "python",
   "pygments_lexer": "ipython3",
   "version": "3.13.7"
  }
 },
 "nbformat": 4,
 "nbformat_minor": 5
}
