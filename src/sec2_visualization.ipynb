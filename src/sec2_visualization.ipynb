{
 "cells": [
  {
   "cell_type": "markdown",
   "id": "f443fe38-56dd-4d47-a504-ff12b678ece0",
   "metadata": {},
   "source": [
    "# Section 2: Visualize quantum circuits, measurements, and states"
   ]
  },
  {
   "cell_type": "markdown",
   "id": "69e8980f-575d-4f58-a970-67023f4fddb9",
   "metadata": {},
   "source": [
    "## TASK 2.1: Visualize quantum circuits"
   ]
  },
  {
   "cell_type": "markdown",
   "id": "c5580d0e-ea44-4e32-8525-1cafa7243f21",
   "metadata": {},
   "source": [
    "1. Which parameter of the `draw()` method specifies the output format of the quantum circuit visualization?\n",
    "\n",
    "a. `style`  \n",
    "b. `output`  \n",
    "c. `format`  \n",
    "d. `backend`  "
   ]
  },
  {
   "cell_type": "markdown",
   "id": "d3964052-bb41-415b-af13-97fbe01a89b4",
   "metadata": {},
   "source": [
    ":::{dropdown}answer\n",
    "The answer is b.\n",
    "\n",
    "The `QuantumCircuit.draw()` method uses the parameter `output` to specify the format of the visualization. Options include `\"text\"` (ASCII art), `\"mpl\"` (Matplotlib), `\"latex\"`, and `\"latex_source\"`.\n",
    ":::"
   ]
  },
  {
   "cell_type": "markdown",
   "id": "8e070616-d2bd-48b3-a7ef-ea628c728d70",
   "metadata": {},
   "source": [
    "2. When calling `circuit.draw(output=\"mpl\")`, what backend is used to generate the visualization?\n",
    "\n",
    "a. ASCII art  \n",
    "b. Matplotlib  \n",
    "c. Text drawer  \n",
    "d. LaTeX  "
   ]
  },
  {
   "cell_type": "markdown",
   "id": "3edc9f0c-1a15-41b7-9296-b9d05ff1a31a",
   "metadata": {},
   "source": [
    ":::{dropdown}answer\n",
    "The answer is b.\n",
    "\n",
    "When using `circuit.draw(output=\"mpl\")`, the Matplotlib backend is called to render the circuit as a figure. Other options include `\"text\"` for ASCII drawings and `\"latex\"` for LaTeX rendering.\n",
    ":::"
   ]
  },
  {
   "cell_type": "markdown",
   "id": "c6b3f381-1176-43ca-b04b-9445ebba38eb",
   "metadata": {},
   "source": [
    "3. Which of the following output options for `QuantumCircuit.draw()` generates a visualization suitable for including in LaTeX documents?\n",
    "\n",
    "a. `output=\"latex\"`  \n",
    "b. `output=\"latex_source\"`  \n",
    "c. Both a and b  \n",
    "d. Neither a nor b  "
   ]
  },
  {
   "cell_type": "markdown",
   "id": "3761dcfc-9c76-4f62-a359-7e5b840c6f15",
   "metadata": {},
   "source": [
    ":::{dropdown}answer\n",
    "The answer is c.\n",
    "\n",
    "Both `\"latex\"` and `\"latex_source\"` are valid output options for `QuantumCircuit.draw()`. The `\"latex\"` option generates a compiled LaTeX circuit diagram, while `\"latex_source\"` returns the raw LaTeX code.\n",
    ":::"
   ]
  },
  {
   "cell_type": "markdown",
   "id": "8bec9006-8374-4e3a-82cc-e804b947464a",
   "metadata": {},
   "source": [
    "4. Which Qiskit visualization function can be used to compare measurement results of multiple experiments?\n",
    "\n",
    "a. `plot_histogram`  \n",
    "b. `plot_bloch_vector`  \n",
    "c. `plot_state_qsphere`  \n",
    "d. `plot_gate_map`  "
   ]
  },
  {
   "cell_type": "markdown",
   "id": "c3850ca2-4460-487f-9490-5cbca0b7588d",
   "metadata": {},
   "source": [
    ":::{dropdown}answer\n",
    "The answer is a.\n",
    "\n",
    "The `plot_histogram()` function is designed to show measurement outcomes, and it can overlay results from multiple experiments, making it suitable for comparison.\n",
    ":::"
   ]
  },
  {
   "cell_type": "markdown",
   "id": "9d9d9bf9-5d5a-4f73-86b0-06b90e31bdb7",
   "metadata": {},
   "source": [
    "5. Which visualization method best shows the relative phase of each basis state in a quantum statevector?\n",
    "\n",
    "a. `plot_bloch_multivector`  \n",
    "b. `plot_state_qsphere`  \n",
    "c. `plot_histogram`  \n",
    "d. `circuit.draw(output=\"mpl\")`  "
   ]
  },
  {
   "cell_type": "markdown",
   "id": "a9cff9b6-4480-4e30-b853-987c25045290",
   "metadata": {},
   "source": [
    ":::{dropdown}answer\n",
    "The answer is b.\n",
    "\n",
    "The `plot_state_qsphere()` function shows the relative amplitudes and phases of quantum states on a sphere, making it the best choice for analyzing phase relationships.\n",
    ":::"
   ]
  },
  {
   "cell_type": "markdown",
   "id": "c5da9584-c11c-41f1-88d5-86b7142ac704",
   "metadata": {},
   "source": [
    "6. What does the function `plot_bloch_multivector()` visualize?\n",
    "\n",
    "a. Measurement outcomes as a bar chart  \n",
    "b. The density matrix as a heatmap  \n",
    "c. Each qubit’s state on the Bloch sphere  \n",
    "d. The connectivity of qubits on hardware  "
   ]
  },
  {
   "cell_type": "markdown",
   "id": "3971e67e-9c12-446d-81f0-2ef8392fb441",
   "metadata": {},
   "source": [
    ":::{dropdown}answer\n",
    "The answer is c.\n",
    "\n",
    "`plot_bloch_multivector()` displays each individual qubit’s state on the Bloch sphere. This allows visualization of single-qubit orientations within a multi-qubit quantum state.\n",
    ":::"
   ]
  },
  {
   "cell_type": "markdown",
   "id": "0e361d32-b032-4611-9df2-90d145f2808f",
   "metadata": {},
   "source": [
    "7. Which of the following visualizations explicitly requires a `Statevector` or `DensityMatrix` object as input?\n",
    "\n",
    "a. `plot_state_qsphere`  \n",
    "b. `plot_bloch_multivector`  \n",
    "c. `plot_state_city`  \n",
    "d. All of the above  "
   ]
  },
  {
   "cell_type": "markdown",
   "id": "234b33ef-58b8-49d3-b8e9-b3e0b3059a5e",
   "metadata": {},
   "source": [
    ":::{dropdown}answer\n",
    "The answer is d.\n",
    "\n",
    "All three functions—`plot_state_qsphere`, `plot_bloch_multivector`, and `plot_state_city`—require a `Statevector` or `DensityMatrix` as input. They cannot operate directly on circuits without first computing the state.\n",
    ":::\n"
   ]
  },
  {
   "cell_type": "markdown",
   "id": "350aa05d-b037-4ffa-9073-fe3273e5a736",
   "metadata": {},
   "source": [
    "8. Which function displays the connectivity and coupling map of a quantum device?\n",
    "\n",
    "a. `plot_device_layout`  \n",
    "b. `plot_histogram`  \n",
    "c. `plot_gate_map`  \n",
    "d. `plot_coupling`  "
   ]
  },
  {
   "cell_type": "markdown",
   "id": "454bc1d7-627f-4866-b328-ce4fc283cffd",
   "metadata": {},
   "source": [
    ":::{dropdown}answer\n",
    "The answer is c.\n",
    "\n",
    "`plot_gate_map()` visualizes the coupling map of a quantum device, showing qubit layout and connectivity. This is essential for understanding how two-qubit gates can be executed on real hardware.\n",
    ":::"
   ]
  },
  {
   "cell_type": "markdown",
   "id": "48cff415-eab5-460d-af9f-c6fd16fb1dc2",
   "metadata": {},
   "source": [
    "9. What additional argument can be passed to `plot_histogram` to display multiple experiment results on the same chart?\n",
    "\n",
    "a. `merge=True`  \n",
    "b. `legend`  \n",
    "c. `compare=True`  \n",
    "d. `stacked=True`  "
   ]
  },
  {
   "cell_type": "markdown",
   "id": "d009039a-715e-4ef4-be4f-b9548d578206",
   "metadata": {},
   "source": [
    ":::{dropdown}answer\n",
    "The answer is b.\n",
    "\n",
    "The `legend` argument in `plot_histogram()` allows labeling multiple experiment results when displayed on the same chart, making it easier to distinguish them.\n",
    ":::"
   ]
  },
  {
   "cell_type": "markdown",
   "id": "d8236e60-0d9c-40d3-9986-8f5a67285426",
   "metadata": {},
   "source": [
    "10. Which visualization tool can be used to see the real and imaginary components of a quantum state as a 3D bar chart?\n",
    "\n",
    "a. `plot_state_city`  \n",
    "b. `plot_histogram`  \n",
    "c. `plot_state_qsphere`  \n",
    "d. `plot_bloch_multivector`  "
   ]
  },
  {
   "cell_type": "markdown",
   "id": "5a749fef-77ef-49ff-9bd6-aaf1dcfb1798",
   "metadata": {},
   "source": [
    ":::{dropdown}answer\n",
    "The answer is a.\n",
    "\n",
    "`plot_state_city()` represents the real and imaginary parts of a quantum state as 3D bar charts, providing an intuitive way to see amplitude contributions of each basis state.\n",
    ":::"
   ]
  },
  {
   "cell_type": "markdown",
   "id": "66ba2197-7cb7-4b56-84b2-1d2a46fe0c32",
   "metadata": {},
   "source": [
    "11. Given the following code:\n",
    "\n",
    "```python\n",
    "from qiskit import QuantumCircuit\n",
    "\n",
    "qc = QuantumCircuit(2)\n",
    "qc.h(0)\n",
    "qc.cx(0, 1)\n",
    "qc.measure_all()\n",
    "\n",
    "qc.draw(output=\"mpl\")\n",
    "```\n",
    "\n",
    "Which of the following diagrams best matches the output?\n",
    "\n",
    "a.\n",
    "\n",
    "```\n",
    "q0: ──H──■──M──\n",
    "         │\n",
    "q1: ─────X──M──\n",
    "```\n",
    "\n",
    "b.\n",
    "\n",
    "```\n",
    "q0: ──■──H──M──\n",
    "     │\n",
    "q1: ──X─────M──\n",
    "```\n",
    "\n",
    "c.\n",
    "\n",
    "```\n",
    "q0: ──X──H──M──\n",
    "     │\n",
    "q1: ──■────M──\n",
    "```\n",
    "\n",
    "d.\n",
    "\n",
    "```\n",
    "q0: ──H──M──\n",
    "q1: ──X──M──\n",
    "```"
   ]
  },
  {
   "cell_type": "markdown",
   "id": "60b96c0b-1000-41ba-84d9-0e4cb2ab7c0a",
   "metadata": {},
   "source": [
    ":::{dropdown}answer\n",
    "The answer is a.\n",
    "\n",
    "The circuit applies an H gate on qubit 0, then a CX gate from qubit 0 to qubit 1, followed by measurement of both qubits. This matches the diagram with `H` on q0, `CX` connecting q0 → q1, and measurements on both qubits.\n",
    ":::"
   ]
  },
  {
   "cell_type": "markdown",
   "id": "88776c59-755f-4e5a-ad3a-a64978d2da55",
   "metadata": {},
   "source": [
    "12. Consider the following code:\n",
    "\n",
    "```python\n",
    "from qiskit import QuantumCircuit, Aer, transpile, assemble\n",
    "from qiskit.visualization import plot_histogram\n",
    "\n",
    "qc = QuantumCircuit(1)\n",
    "qc.h(0)\n",
    "qc.measure_all()\n",
    "\n",
    "sim = Aer.get_backend('aer_simulator')\n",
    "qobj = assemble(transpile(qc, sim))\n",
    "result = sim.run(qobj).result()\n",
    "counts = result.get_counts()\n",
    "\n",
    "plot_histogram(counts)\n",
    "```\n",
    "\n",
    "Which of the following histograms is expected?\n",
    "\n",
    "a.\n",
    "\n",
    "```\n",
    "0: ██████ 50%\n",
    "1: ██████ 50%\n",
    "```\n",
    "\n",
    "b.\n",
    "\n",
    "```\n",
    "0: ██████████████ 100%\n",
    "```\n",
    "\n",
    "c.\n",
    "\n",
    "```\n",
    "1: ██████████████ 100%\n",
    "```\n",
    "\n",
    "d.\n",
    "\n",
    "```\n",
    "00: ██████ 50%\n",
    "11: ██████ 50%\n",
    "```"
   ]
  },
  {
   "cell_type": "markdown",
   "id": "85592bc5-6b19-4aa3-89ad-386617638280",
   "metadata": {},
   "source": [
    ":::{dropdown}answer\n",
    "The answer is a.\n",
    "\n",
    "A single-qubit Hadamard produces a superposition state (|0⟩ + |1⟩)/√2. Measuring this state results in 0 and 1 with equal probability, so the histogram shows 50% for each outcome.\n",
    ":::"
   ]
  },
  {
   "cell_type": "markdown",
   "id": "4051a686-1406-4659-918a-e0c252c703fe",
   "metadata": {},
   "source": [
    "13. Given the following code:\n",
    "\n",
    "```python\n",
    "from qiskit import QuantumCircuit\n",
    "from qiskit.quantum_info import Statevector\n",
    "from qiskit.visualization import plot_state_qsphere\n",
    "\n",
    "qc = QuantumCircuit(2)\n",
    "qc.h(0)\n",
    "qc.cx(0, 1)\n",
    "state = Statevector.from_instruction(qc)\n",
    "plot_state_qsphere(state)\n",
    "```\n",
    "\n",
    "Which of the following best describes the qsphere output?\n",
    "\n",
    "a. Two points at |00⟩ and |11⟩ with equal size, both colored the same.  \n",
    "b. Two points at |01⟩ and |10⟩ with equal size, opposite colors.  \n",
    "c. Four points at |00⟩, |01⟩, |10⟩, |11⟩ equally distributed.  \n",
    "d. A single point at |00⟩ only.  "
   ]
  },
  {
   "cell_type": "markdown",
   "id": "acf70a2b-796c-4c5a-be53-e51f705c18d4",
   "metadata": {},
   "source": [
    ":::{dropdown}answer\n",
    "The answer is a.\n",
    "\n",
    "The circuit creates a Bell state (|00⟩ + |11⟩)/√2. On the qsphere, only |00⟩ and |11⟩ appear, both with equal amplitude and identical phase (same color).\n",
    ":::"
   ]
  },
  {
   "cell_type": "markdown",
   "id": "2caf446b-5be8-4f15-9aed-1c053dffa41b",
   "metadata": {},
   "source": [
    "5. Given the following code:\n",
    "\n",
    "```python\n",
    "from qiskit.quantum_info import Statevector\n",
    "from qiskit.visualization import plot_bloch_multivector\n",
    "\n",
    "state = Statevector([1/2, 1/2, 1/2, 1/2])\n",
    "plot_bloch_multivector(state)\n",
    "```\n",
    "\n",
    "Which of the following describes the Bloch sphere plot?\n",
    "\n",
    "a. Both qubits point along +X axis.  \n",
    "b. Both qubits point along +Z axis.  \n",
    "c. First qubit along +X, second along –X.  \n",
    "d. Random orientation with no symmetry.  "
   ]
  },
  {
   "cell_type": "markdown",
   "id": "4e762a66-dd09-4e74-aa99-870ff62ff246",
   "metadata": {},
   "source": [
    ":::{dropdown}answer\n",
    "The answer is a.\n",
    "\n",
    "The state `[1/2, 1/2, 1/2, 1/2]` corresponds to both qubits being in |+⟩ = (|0⟩ + |1⟩)/√2. On the Bloch sphere, |+⟩ points along the +X axis, so both qubits align in that direction.\n",
    ":::"
   ]
  },
  {
   "cell_type": "markdown",
   "id": "1647b5f1-14c3-4f67-b378-7274b1d2ff6d",
   "metadata": {},
   "source": [
    "15. Given the code:\n",
    "\n",
    "```python\n",
    "from qiskit import QuantumCircuit\n",
    "from qiskit.quantum_info import Statevector\n",
    "from qiskit.visualization import plot_state_city\n",
    "\n",
    "qc = QuantumCircuit(1)\n",
    "qc.h(0)\n",
    "state = Statevector.from_instruction(qc)\n",
    "plot_state_city(state)\n",
    "```\n",
    "\n",
    "Which of the following bar plots is expected?\n",
    "\n",
    "a. Two tall bars at Re(|0⟩) and Re(|1⟩), equal height.  \n",
    "b. One tall bar at Re(|0⟩) only.  \n",
    "c. Two tall bars at Im(|0⟩) and Im(|1⟩).  \n",
    "d. Four bars with random heights.  "
   ]
  },
  {
   "cell_type": "markdown",
   "id": "d971d634-16cf-494a-892c-ed8d9ac75bda",
   "metadata": {},
   "source": [
    ":::{dropdown}answer\n",
    "The answer is a.\n",
    "\n",
    "Applying H to a single qubit creates (|0⟩ + |1⟩)/√2. In the state city plot, this results in two bars of equal height in the real part for |0⟩ and |1⟩, with no imaginary component.\n",
    ":::"
   ]
  }
 ],
 "metadata": {
  "kernelspec": {
   "display_name": "Python 3 (ipykernel)",
   "language": "python",
   "name": "python3"
  },
  "language_info": {
   "codemirror_mode": {
    "name": "ipython",
    "version": 3
   },
   "file_extension": ".py",
   "mimetype": "text/x-python",
   "name": "python",
   "nbconvert_exporter": "python",
   "pygments_lexer": "ipython3",
   "version": "3.13.7"
  }
 },
 "nbformat": 4,
 "nbformat_minor": 5
}
