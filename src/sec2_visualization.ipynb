{
 "cells": [
  {
   "cell_type": "markdown",
   "id": "f443fe38-56dd-4d47-a504-ff12b678ece0",
   "metadata": {},
   "source": [
    "# Section 2: Visualize quantum circuits, measurements, and states"
   ]
  },
  {
   "cell_type": "markdown",
   "id": "69e8980f-575d-4f58-a970-67023f4fddb9",
   "metadata": {},
   "source": [
    "## TASK 2.1: Visualize quantum circuits"
   ]
  },
  {
   "cell_type": "markdown",
   "id": "c5580d0e-ea44-4e32-8525-1cafa7243f21",
   "metadata": {},
   "source": [
    "1. Which parameter of the `draw()` method specifies the output format of the quantum circuit visualization?\n",
    "\n",
    "a. `style`  \n",
    "b. `output`  \n",
    "c. `format`  \n",
    "d. `backend`  "
   ]
  },
  {
   "cell_type": "markdown",
   "id": "d3964052-bb41-415b-af13-97fbe01a89b4",
   "metadata": {},
   "source": [
    ":::{dropdown}answer\n",
    "The answer is b.\n",
    "\n",
    "The `QuantumCircuit.draw()` method uses the parameter `output` to specify the format of the visualization. Options include `\"text\"` (ASCII art), `\"mpl\"` (Matplotlib), `\"latex\"`, and `\"latex_source\"`.\n",
    "\n",
    "```{code-cell}\n",
    "from qiskit import QuantumCircuit\n",
    "from qiskit.visualization import circuit_drawer\n",
    "qc = QuantumCircuit(1, 1)\n",
    "qc.h(0)\n",
    "qc.measure(0, 0)\n",
    "qc.draw(output=\"mpl\")\n",
    "```\n",
    ":::"
   ]
  },
  {
   "cell_type": "markdown",
   "id": "8e070616-d2bd-48b3-a7ef-ea628c728d70",
   "metadata": {},
   "source": [
    "2. When calling `circuit.draw(output=\"mpl\")`, what backend is used to generate the visualization?\n",
    "\n",
    "a. ASCII art  \n",
    "b. Matplotlib  \n",
    "c. Text drawer  \n",
    "d. LaTeX  "
   ]
  },
  {
   "cell_type": "markdown",
   "id": "3edc9f0c-1a15-41b7-9296-b9d05ff1a31a",
   "metadata": {},
   "source": [
    ":::{dropdown}answer\n",
    "The answer is b.\n",
    "\n",
    "When using `circuit.draw(output=\"mpl\")`, the Matplotlib backend is called to render the circuit as a figure. Other options include `\"text\"` for ASCII drawings and `\"latex\"` for LaTeX rendering.\n",
    ":::"
   ]
  },
  {
   "cell_type": "markdown",
   "id": "66ba2197-7cb7-4b56-84b2-1d2a46fe0c32",
   "metadata": {},
   "source": [
    "3. Given the following code:\n",
    "\n",
    "```python\n",
    "from qiskit import QuantumCircuit\n",
    "\n",
    "qc = QuantumCircuit(2)\n",
    "qc.h(0)\n",
    "qc.cx(0, 1)\n",
    "qc.measure_all()\n",
    "\n",
    "qc.draw(output=\"text\")\n",
    "```\n",
    "\n",
    "Which of the following diagrams best matches the output?\n",
    "\n",
    "a.\n",
    "\n",
    "```\n",
    "        ┌───┐      ░ ┌─┐   \n",
    "   q_0: ┤ H ├──■───░─┤M├───\n",
    "        └───┘┌─┴─┐ ░ └╥┘┌─┐\n",
    "   q_1: ─────┤ X ├─░──╫─┤M├\n",
    "             └───┘ ░  ║ └╥┘\n",
    "meas: 2/══════════════╩══╩═\n",
    "                      0  1 \n",
    "```\n",
    "\n",
    "b.\n",
    "\n",
    "```\n",
    "             ┌───┐ ░ ┌─┐   \n",
    "   q_0: ──■──┤ H ├─░─┤M├───\n",
    "        ┌─┴─┐└───┘ ░ └╥┘┌─┐\n",
    "   q_1: ┤ X ├──────░──╫─┤M├\n",
    "        └───┘      ░  ║ └╥┘\n",
    "meas: 2/══════════════╩══╩═\n",
    "                      0  1 \n",
    "```\n",
    "\n",
    "c.\n",
    "\n",
    "```\n",
    "        ┌───┐┌───┐ ░ ┌─┐   \n",
    "   q_0: ┤ X ├┤ H ├─░─┤M├───\n",
    "        └─┬─┘└───┘ ░ └╥┘┌─┐\n",
    "   q_1: ──■────────░──╫─┤M├\n",
    "                   ░  ║ └╥┘\n",
    "meas: 2/══════════════╩══╩═\n",
    "                      0  1 \n",
    "```\n",
    "\n",
    "d.\n",
    "\n",
    "```\n",
    "        ┌───┐ ░ ┌─┐   \n",
    "   q_0: ┤ H ├─░─┤M├───\n",
    "        ├───┤ ░ └╥┘┌─┐\n",
    "   q_1: ┤ X ├─░──╫─┤M├\n",
    "        └───┘ ░  ║ └╥┘\n",
    "meas: 2/═════════╩══╩═\n",
    "                 0  1 \n",
    "```"
   ]
  },
  {
   "cell_type": "markdown",
   "id": "60b96c0b-1000-41ba-84d9-0e4cb2ab7c0a",
   "metadata": {},
   "source": [
    ":::{dropdown}answer\n",
    "The answer is a.\n",
    "\n",
    "The circuit applies an H gate on qubit 0, then a CX gate from qubit 0 to qubit 1, followed by measurement of both qubits. This matches the diagram with `H` on q0, `CX` connecting q0 → q1, and measurements on both qubits.\n",
    ":::"
   ]
  },
  {
   "cell_type": "markdown",
   "id": "b4f09e74-c4cc-4b76-b4e1-2fcfe391d1e7",
   "metadata": {},
   "source": [
    "## TASK 2.2: Visualize quantum measurements"
   ]
  },
  {
   "cell_type": "markdown",
   "id": "2a42bf07-36d2-4beb-ae17-9b991818de7c",
   "metadata": {},
   "source": [
    "1. Which function should you use to visualize measurement outcome counts from a circuit or sampler result?\n",
    "\n",
    "a. `plot_state_qsphere`<br>\n",
    "b. `plot_histogram`<br>\n",
    "c. `plot_state_city`<br>\n",
    "d. `plot_bloch_vector`<br>"
   ]
  },
  {
   "cell_type": "markdown",
   "id": "766f0f50-b70f-4990-8cef-e5787097afd2",
   "metadata": {},
   "source": [
    ":::{dropdown}answer \n",
    "The answer is b. \n",
    "\n",
    "Use `plot_histogram` from `qiskit.visualization` to visualize measurement result counts (bitstrings and their frequencies). This is the canonical way to visualize quantum *measurement* outcomes, as opposed to state visualizers like qsphere or Bloch charts which depict state amplitudes or vectors rather than sampled counts. \n",
    "\n",
    "```{code-cell}\n",
    "from qiskit.visualization import plot_histogram\n",
    " \n",
    "counts1 = {'00': 499, '11': 501}\n",
    "counts2 = {'00': 511, '11': 489}\n",
    " \n",
    "data = [counts1, counts2]\n",
    "plot_histogram(data)\n",
    "```\n",
    ":::\n"
   ]
  },
  {
   "cell_type": "markdown",
   "id": "20cb6514-d4b8-47f9-803d-4522dd39aa58",
   "metadata": {},
   "source": [
    "2. You obtained a `Statevector` and want a *measurement-like* distribution to plot without running on hardware. Which API produces shot-based counts that you can pass to `plot_histogram`?\n",
    "\n",
    "a. `state.draw_counts(shots=1024)`<br>\n",
    "b. `state.sample_counts(shots=1024)`<br>\n",
    "c. `state.measure_all(shots=1024)`<br>\n",
    "d. `state.to_counts(shots=1024)`<br>"
   ]
  },
  {
   "cell_type": "markdown",
   "id": "0df4d750-9a8f-4878-87cc-52a0a69cfba7",
   "metadata": {},
   "source": [
    ":::{dropdown}answer \n",
    "The answer is b. \n",
    "\n",
    "`Statevector.sample_counts(shots=...)` samples from the state’s probability distribution and returns a counts dictionary compatible with `plot_histogram`, letting you visualize expected measurement outcomes without executing on a backend. \n",
    ":::\n"
   ]
  },
  {
   "cell_type": "markdown",
   "id": "49b3c519-6f33-4ffa-a3cc-ddecf4ea5e91",
   "metadata": {},
   "source": [
    "3. In dynamic circuits, which builder creates a conditional block that has **only a True branch** (no explicit else branch), typically used for mid-circuit measurement feedforward?\n",
    "\n",
    "a. `QuantumCircuit.if_else`<br>\n",
    "b. `QuantumCircuit.switch`<br>\n",
    "c. `QuantumCircuit.if_test`<br>\n",
    "d. `QuantumCircuit.c_if`<br>"
   ]
  },
  {
   "cell_type": "markdown",
   "id": "730a99f0-550f-4a45-9079-9062bbf91481",
   "metadata": {},
   "source": [
    ":::{dropdown}answer \n",
    "The answer is c. \n",
    "\n",
    "`if_test` builds a control-flow region with a True body only, perfect when you want to apply operations conditionally on a classical-bit outcome from a mid-circuit measurement. `if_else` includes both True and False bodies; `c_if` is legacy-style conditional execution tied to instruction conditions. \n",
    ":::\n"
   ]
  },
  {
   "cell_type": "markdown",
   "id": "f28b3c52-e381-4fa4-b368-eb0e3f6a587f",
   "metadata": {},
   "source": [
    "4. Which code fragment correctly measures `q0` into `c0` **mid-circuit** and applies `x(q1)` **only when** the measurement outcome is 1, before the final measurement of `q1`?\n",
    "\n",
    "a. \n",
    "```python\n",
    "qc.measure(0, 0)\n",
    "qc.if_test((qc.clbits[0], 1)):\n",
    "    qc.x(1)\n",
    "qc.measure(1, 1)\n",
    "```\n",
    "\n",
    "b. \n",
    "```python\n",
    "qc.measure(0, 0)\n",
    "with qc.if_test((qc.clbits[0], 1)):\n",
    "    qc.x(1)\n",
    "qc.measure(1, 1)\n",
    "```\n",
    "\n",
    "c. \n",
    "```python\n",
    "with qc.if_test((qc.clbits[0], 1)):\n",
    "    qc.measure(0, 0)\n",
    "    qc.x(1)\n",
    "qc.measure(1, 1)\n",
    "```\n",
    "\n",
    "d. \n",
    "```python\n",
    "with qc.if_else((qc.clbits[0], 1)) as else_:\n",
    "    qc.x(1)\n",
    "with else_:\n",
    "    pass\n",
    "qc.measure([0,1], [0,1])\n",
    "```\n"
   ]
  },
  {
   "cell_type": "markdown",
   "id": "e8c72de7-7699-42d7-95fa-b36f9d757242",
   "metadata": {},
   "source": [
    ":::{dropdown}answer \n",
    "The answer is b. \n",
    "\n",
    "The measurement of `q0` must occur **before** the `if_test` so its outcome populates `c0`. The context-manager form `with qc.if_test((cbit, 1)):` introduces a True-only region; `x(1)` executes only when the condition is met. Options a/d don’t use the context-manager correctly, and c measures inside the conditional (so the condition wouldn’t be defined when entering the block). \n",
    ":::\n"
   ]
  },
  {
   "cell_type": "markdown",
   "id": "fa14d2ec-b4f5-46bb-ab54-76bab3c6c8ca",
   "metadata": {},
   "source": [
    "5. When plotting measurement histograms for **multiple** executions on the same axes, which keyword argument helps distinguish them in the legend?\n",
    "\n",
    "a. `title=['run A', 'run B']`<br>\n",
    "b. `labels=['run A', 'run B']`<br>\n",
    "c. `legend=['run A', 'run B']`<br>\n",
    "d. `caption=['run A', 'run B']`<br>"
   ]
  },
  {
   "cell_type": "markdown",
   "id": "9a507e24-6429-4635-9349-b8e983eb4831",
   "metadata": {},
   "source": [
    ":::{dropdown}answer \n",
    "The answer is c. \n",
    "\n",
    "Pass `legend=[...]` to `plot_histogram` when plotting multiple result sets in one chart so each set of bars is labeled (e.g., comparing ideal vs. noisy counts). \n",
    "\n",
    "```{code-cell}\n",
    "plot_histogram(data, legend=['run A', 'run B'])\n",
    "```\n",
    ":::\n"
   ]
  },
  {
   "cell_type": "markdown",
   "id": "54651316-a5ec-4f27-9e9e-e5ba36b534d3",
   "metadata": {},
   "source": [
    "6. You have a large number of possible bitstrings in the measurement outcomes and want the histogram to show only the top 8, aggregating the rest in a single bar. Which option should you set?\n",
    "\n",
    "a. `bins=8`<br>\n",
    "b. `truncate=8`<br>\n",
    "c. `max_terms=8`<br>\n",
    "d. `number_to_keep=8`<br>"
   ]
  },
  {
   "cell_type": "markdown",
   "id": "6ea8b6ba-1bb3-4155-93e1-58263e30d559",
   "metadata": {},
   "source": [
    ":::{dropdown}answer \n",
    "The answer is d. \n",
    "\n",
    "`number_to_keep` limits how many terms are displayed; the remaining outcomes are grouped into a bar labeled “rest,” keeping the measurement visualization readable. \n",
    ":::\n"
   ]
  },
  {
   "cell_type": "markdown",
   "id": "cec33371-1f17-43a1-bcfa-01e53b1d5aec",
   "metadata": {},
   "source": [
    "7. To sort histogram bars by their counts from highest to lowest (useful for quickly spotting dominant measurement outcomes), which argument should you use?\n",
    "\n",
    "a. `sort='desc'`<br>\n",
    "b. `order='descending'`<br>\n",
    "c. `sorted=True`<br>\n",
    "d. `rank='top'`<br>"
   ]
  },
  {
   "cell_type": "markdown",
   "id": "dcbf7882-0f1a-40d9-bb62-2a6595e09ea9",
   "metadata": {},
   "source": [
    ":::{dropdown}answer \n",
    "The answer is a. \n",
    "\n",
    "Use `sort='desc'` (or `'asc'`) with `plot_histogram` to control bar ordering by counts, which helps interpret noisy vs. ideal measurement distributions. \n",
    ":::\n"
   ]
  },
  {
   "cell_type": "markdown",
   "id": "076ac187-4641-46df-98ed-0f973ff6f830",
   "metadata": {},
   "source": [
    "8. In a circuit diagram that uses **mid-circuit measurement** with dynamic control flow, how is the measurement information visualized?\n",
    "\n",
    "a. The diagram suppresses classical wires; measurement effects are implicit.<br>\n",
    " b. Measurements draw arrows from qubit wires to classical **clbit wires**, and conditional regions (`if_test`, etc.) appear as **boxed blocks** that are annotated by the classical condition.<br>\n",
    "c. Measurements are drawn as statevector spheres; conditions are tagged on the spheres.<br>\n",
    "d. Measurements show only as labels on gates; there are no classical wires or conditional regions.\n"
   ]
  },
  {
   "cell_type": "markdown",
   "id": "5be40cdc-a2cb-43bb-baea-a3a52d26fe87",
   "metadata": {},
   "source": [
    ":::{dropdown}answer \n",
    "The answer is b. \n",
    "\n",
    "Qiskit’s circuit drawers render measurement ops with arrows from qubit to classical wires, then depict control-flow regions (e.g., `if_test`, `if_else`) as boxed/annotated blocks tied to the classical condition—making the path from measurement to conditional execution explicit in the visualization. \n",
    ":::\n"
   ]
  },
  {
   "cell_type": "markdown",
   "id": "55bdac34-9e1b-4f0a-b407-ee1bc210329c",
   "metadata": {},
   "source": [
    "## TASK 2.3: Visualize quantum states"
   ]
  },
  {
   "cell_type": "markdown",
   "id": "261d4c7e-b7df-45fb-80ba-48f816e7290c",
   "metadata": {},
   "source": [
    "1. Which Qiskit visualization function can be used to compare measurement results of multiple experiments?\n",
    "\n",
    "a. `plot_histogram`  \n",
    "b. `plot_bloch_vector`  \n",
    "c. `plot_state_qsphere`  \n",
    "d. `plot_gate_map`  "
   ]
  },
  {
   "cell_type": "markdown",
   "id": "f870c9a4-8c17-4018-9e96-af859c6a8bd9",
   "metadata": {},
   "source": [
    ":::{dropdown}answer\n",
    "The answer is a.\n",
    "\n",
    "The `plot_histogram()` function is designed to show measurement outcomes, and it can overlay results from multiple experiments, making it suitable for comparison.\n",
    "\n",
    "```{code-cell}\n",
    "plot_histogram(data)\n",
    "```\n",
    "\n",
    "```{code-cell}\n",
    "from math import pi\n",
    "from qiskit import QuantumCircuit\n",
    "from qiskit.quantum_info import Statevector\n",
    "from qiskit.visualization import plot_bloch_multivector\n",
    " \n",
    "# Create a Bell state for demonstration\n",
    "qc = QuantumCircuit(2)\n",
    "qc.h(0)\n",
    "qc.crx(pi / 2, 0, 1)\n",
    "psi = Statevector(qc)\n",
    " \n",
    "plot_bloch_multivector(psi)\n",
    "# Alternative: psi.draw(\"bloch\")\n",
    "```\n",
    "\n",
    "```{code-cell}\n",
    "from qiskit.visualization import plot_state_qsphere\n",
    " \n",
    "plot_state_qsphere(psi)\n",
    "# Alternative: psi.draw(\"qsphere\")\n",
    "```\n",
    "\n",
    "```{code-cell}\n",
    "from qiskit.providers.fake_provider import GenericBackendV2\n",
    "from qiskit.visualization import plot_gate_map\n",
    " \n",
    "backend = GenericBackendV2(num_qubits=5)\n",
    " \n",
    "plot_gate_map(backend)\n",
    "```\n",
    ":::"
   ]
  },
  {
   "cell_type": "markdown",
   "id": "222e1917-d264-4d59-b045-a62e83b38bca",
   "metadata": {},
   "source": [
    "2. Which visualization method best shows the relative phase of each basis state in a quantum statevector?\n",
    "\n",
    "a. `plot_bloch_multivector`  \n",
    "b. `plot_state_qsphere`  \n",
    "c. `plot_histogram`  \n",
    "d. `circuit.draw(output=\"mpl\")`  "
   ]
  },
  {
   "cell_type": "markdown",
   "id": "5f3b500e-9ca0-4a86-bb37-e0a9626a965d",
   "metadata": {},
   "source": [
    ":::{dropdown}answer\n",
    "The answer is b.\n",
    "\n",
    "The `plot_state_qsphere()` function shows the relative amplitudes and phases of quantum states on a sphere, making it the best choice for analyzing phase relationships.\n",
    ":::"
   ]
  },
  {
   "cell_type": "markdown",
   "id": "5fccaffc-d420-45d6-af78-1e5abf90ae06",
   "metadata": {},
   "source": [
    "3. What does the function `plot_bloch_multivector()` visualize?\n",
    "\n",
    "a. Measurement outcomes as a bar chart  \n",
    "b. The density matrix as a heatmap  \n",
    "c. Each qubit’s state on the Bloch sphere  \n",
    "d. The connectivity of qubits on hardware  "
   ]
  },
  {
   "cell_type": "markdown",
   "id": "8e2bdc19-a6bf-4abd-806c-dfee79fd0326",
   "metadata": {},
   "source": [
    ":::{dropdown}answer\n",
    "The answer is c.\n",
    "\n",
    "`plot_bloch_multivector()` displays each individual qubit’s state on the Bloch sphere. This allows visualization of single-qubit orientations within a multi-qubit quantum state.\n",
    ":::"
   ]
  },
  {
   "cell_type": "markdown",
   "id": "de28e3a5-353a-44d2-a57a-b5172d7a2a7a",
   "metadata": {},
   "source": [
    "4. Which of the following visualizations explicitly requires a `Statevector` or `DensityMatrix` object as input?\n",
    "\n",
    "a. `plot_state_qsphere`  \n",
    "b. `plot_bloch_multivector`  \n",
    "c. `plot_state_city`  \n",
    "d. All of the above  "
   ]
  },
  {
   "cell_type": "markdown",
   "id": "4e5ed10e-9c73-4737-8ae7-3855a2c0fcf7",
   "metadata": {},
   "source": [
    ":::{dropdown}answer\n",
    "The answer is d.\n",
    "\n",
    "All three functions—`plot_state_qsphere`, `plot_bloch_multivector`, and `plot_state_city`—require a `Statevector` or `DensityMatrix` as input. They cannot operate directly on circuits without first computing the state.\n",
    ":::\n"
   ]
  },
  {
   "cell_type": "markdown",
   "id": "d113313d-7d04-422a-a462-7fd58057bafd",
   "metadata": {},
   "source": [
    "5. Which function displays the connectivity and coupling map of a quantum device?\n",
    "\n",
    "a. `plot_device_layout`  \n",
    "b. `plot_histogram`  \n",
    "c. `plot_gate_map`  \n",
    "d. `plot_coupling`  "
   ]
  },
  {
   "cell_type": "markdown",
   "id": "38d8c867-09d9-423a-8d48-b1a9438697e8",
   "metadata": {},
   "source": [
    ":::{dropdown}answer\n",
    "The answer is c.\n",
    "\n",
    "`plot_gate_map()` visualizes the coupling map of a quantum device, showing qubit layout and connectivity. This is essential for understanding how two-qubit gates can be executed on real hardware.\n",
    "\n",
    "```{code-cell}\n",
    "from qiskit.providers.fake_provider import GenericBackendV2\n",
    "from qiskit.visualization import plot_gate_map\n",
    " \n",
    "backend = GenericBackendV2(num_qubits=5)\n",
    " \n",
    "plot_gate_map(backend)\n",
    "```\n",
    ":::"
   ]
  },
  {
   "cell_type": "markdown",
   "id": "f4abe07a-2a1f-4256-a9ae-b3f15e938913",
   "metadata": {},
   "source": [
    "6. What additional argument can be passed to `plot_histogram` to display multiple experiment results on the same chart?\n",
    "\n",
    "a. `merge=True`  \n",
    "b. `legend`  \n",
    "c. `compare=True`  \n",
    "d. `stacked=True`  "
   ]
  },
  {
   "cell_type": "markdown",
   "id": "0817b272-1a48-410d-bd99-a88107359e25",
   "metadata": {},
   "source": [
    ":::{dropdown}answer\n",
    "The answer is b.\n",
    "\n",
    "The `legend` argument in `plot_histogram()` allows labeling multiple experiment results when displayed on the same chart, making it easier to distinguish them.\n",
    ":::"
   ]
  },
  {
   "cell_type": "markdown",
   "id": "10d1bf9a-4ac1-49d5-8397-88925c0e9887",
   "metadata": {},
   "source": [
    "7. Which visualization tool can be used to see the real and imaginary components of a quantum state as a 3D bar chart?\n",
    "\n",
    "a. `plot_state_city`  \n",
    "b. `plot_histogram`  \n",
    "c. `plot_state_qsphere`  \n",
    "d. `plot_bloch_multivector`  "
   ]
  },
  {
   "cell_type": "markdown",
   "id": "8f875dc1-94f7-46ce-91a5-65f10c6e3c2a",
   "metadata": {},
   "source": [
    ":::{dropdown}answer\n",
    "The answer is a.\n",
    "\n",
    "`plot_state_city()` represents the real and imaginary parts of a quantum state as 3D bar charts, providing an intuitive way to see amplitude contributions of each basis state.\n",
    "\n",
    "```{code-cell}\n",
    "from qiskit.visualization import plot_state_city\n",
    " \n",
    "plot_state_city(psi)\n",
    "# Alternative: psi.draw(\"city\")\n",
    "```\n",
    ":::"
   ]
  },
  {
   "cell_type": "markdown",
   "id": "5a458353-e1a2-4d49-b92a-8ef3779a62aa",
   "metadata": {},
   "source": [
    "8. Given the following code:\n",
    "\n",
    "```python\n",
    "from qiskit import QuantumCircuit\n",
    "from qiskit.quantum_info import Statevector\n",
    "from qiskit.visualization import plot_state_qsphere\n",
    "\n",
    "qc = QuantumCircuit(2)\n",
    "qc.h(0)\n",
    "qc.cx(0, 1)\n",
    "state = Statevector.from_instruction(qc)\n",
    "plot_state_qsphere(state)\n",
    "```\n",
    "\n",
    "Which of the following best describes the qsphere output?\n",
    "\n",
    "a. Two points at |00⟩ and |11⟩ with equal size, both colored the same.  \n",
    "b. Two points at |01⟩ and |10⟩ with equal size, opposite colors.  \n",
    "c. Four points at |00⟩, |01⟩, |10⟩, |11⟩ equally distributed.  \n",
    "d. A single point at |00⟩ only.  "
   ]
  },
  {
   "cell_type": "markdown",
   "id": "7a8bdaf5-a9e5-4991-b6ef-0dc7f38e2994",
   "metadata": {},
   "source": [
    ":::{dropdown}answer\n",
    "The answer is a.\n",
    "\n",
    "The circuit creates a Bell state (|00⟩ + |11⟩)/√2. On the qsphere, only |00⟩ and |11⟩ appear, both with equal amplitude and identical phase (same color).\n",
    "\n",
    "```{code-cell}\n",
    "from qiskit import QuantumCircuit\n",
    "from qiskit.quantum_info import Statevector\n",
    "from qiskit.visualization import plot_state_qsphere\n",
    "\n",
    "qc = QuantumCircuit(2)\n",
    "qc.h(0)\n",
    "qc.cx(0, 1)\n",
    "state = Statevector.from_instruction(qc)\n",
    "plot_state_qsphere(state)\n",
    "```\n",
    ":::"
   ]
  },
  {
   "cell_type": "markdown",
   "id": "eb067479-d37a-4aaa-80f8-5b516a591939",
   "metadata": {},
   "source": [
    "9. Given the following code:\n",
    "\n",
    "```python\n",
    "from qiskit.quantum_info import Statevector\n",
    "from qiskit.visualization import plot_bloch_multivector\n",
    "\n",
    "state = Statevector([1/2, 1/2, 1/2, 1/2])\n",
    "plot_bloch_multivector(state)\n",
    "```\n",
    "\n",
    "Which of the following describes the Bloch sphere plot?\n",
    "\n",
    "a. Both qubits point along +X axis.  \n",
    "b. Both qubits point along +Z axis.  \n",
    "c. First qubit along +X, second along –X.  \n",
    "d. Random orientation with no symmetry.  "
   ]
  },
  {
   "cell_type": "markdown",
   "id": "9b2014d7-f36f-409c-b50a-74a62085b486",
   "metadata": {},
   "source": [
    ":::{dropdown}answer\n",
    "The answer is a.\n",
    "\n",
    "The state `[1/2, 1/2, 1/2, 1/2]` corresponds to both qubits being in |+⟩ = (|0⟩ + |1⟩)/√2. On the Bloch sphere, |+⟩ points along the +X axis, so both qubits align in that direction.\n",
    "\n",
    "```{code-cell}\n",
    "from qiskit.quantum_info import Statevector\n",
    "from qiskit.visualization import plot_bloch_multivector\n",
    "\n",
    "state = Statevector([1/2, 1/2, 1/2, 1/2])\n",
    "plot_bloch_multivector(state)\n",
    "```\n",
    ":::"
   ]
  },
  {
   "cell_type": "markdown",
   "id": "59cebf4b-9d0b-40c4-aba2-c8dfd0845acd",
   "metadata": {},
   "source": [
    "10. Given the code:\n",
    "\n",
    "```python\n",
    "from qiskit import QuantumCircuit\n",
    "from qiskit.quantum_info import Statevector\n",
    "from qiskit.visualization import plot_state_city\n",
    "\n",
    "qc = QuantumCircuit(1)\n",
    "qc.h(0)\n",
    "state = Statevector.from_instruction(qc)\n",
    "plot_state_city(state)\n",
    "```\n",
    "\n",
    "Which of the following bar plots is expected?\n",
    "\n",
    "a. Two tall bars at Re(|0⟩) and Re(|1⟩), equal height.  \n",
    "b. One tall bar at Re(|0⟩) only.  \n",
    "c. Two tall bars at Im(|0⟩) and Im(|1⟩).  \n",
    "d. Four bars with random heights.  "
   ]
  },
  {
   "cell_type": "markdown",
   "id": "9a1e0013-4958-4baa-bdd1-0057004ed9f2",
   "metadata": {},
   "source": [
    ":::{dropdown}answer\n",
    "The answer is a.\n",
    "\n",
    "Applying H to a single qubit creates (|0⟩ + |1⟩)/√2. In the state city plot, this results in two bars of equal height in the real part for |0⟩ and |1⟩, with no imaginary component.\n",
    "\n",
    "```{code-cell}\n",
    "from qiskit import QuantumCircuit\n",
    "from qiskit.quantum_info import Statevector\n",
    "from qiskit.visualization import plot_state_city\n",
    "\n",
    "qc = QuantumCircuit(1)\n",
    "qc.h(0)\n",
    "state = Statevector.from_instruction(qc)\n",
    "plot_state_city(state)\n",
    "```\n",
    ":::"
   ]
  },
  {
   "cell_type": "code",
   "execution_count": null,
   "id": "1eb49d5f-6b3d-4c5c-ad33-2d23e7eae66b",
   "metadata": {},
   "outputs": [],
   "source": []
  }
 ],
 "metadata": {
  "kernelspec": {
   "display_name": "Python 3 (ipykernel)",
   "language": "python",
   "name": "python3"
  },
  "language_info": {
   "codemirror_mode": {
    "name": "ipython",
    "version": 3
   },
   "file_extension": ".py",
   "mimetype": "text/x-python",
   "name": "python",
   "nbconvert_exporter": "python",
   "pygments_lexer": "ipython3",
   "version": "3.13.7"
  }
 },
 "nbformat": 4,
 "nbformat_minor": 5
}
