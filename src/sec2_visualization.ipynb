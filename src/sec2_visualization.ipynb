{
 "cells": [
  {
   "cell_type": "markdown",
   "id": "f443fe38-56dd-4d47-a504-ff12b678ece0",
   "metadata": {},
   "source": [
    "# Section 2: Visualize quantum circuits, measurements, and states"
   ]
  },
  {
   "cell_type": "markdown",
   "id": "69e8980f-575d-4f58-a970-67023f4fddb9",
   "metadata": {},
   "source": [
    "## TASK 2.1: Visualize quantum circuits"
   ]
  },
  {
   "cell_type": "markdown",
   "id": "c5580d0e-ea44-4e32-8525-1cafa7243f21",
   "metadata": {},
   "source": [
    "1. Which parameter of the `draw()` method specifies the output format of the quantum circuit visualization?\n",
    "\n",
    "a. `style`  \n",
    "b. `output`  \n",
    "c. `format`  \n",
    "d. `backend`  "
   ]
  },
  {
   "cell_type": "markdown",
   "id": "d3964052-bb41-415b-af13-97fbe01a89b4",
   "metadata": {},
   "source": [
    ":::{dropdown}answer\n",
    "The answer is b.\n",
    "\n",
    "The `QuantumCircuit.draw()` method uses the parameter `output` to specify the format of the visualization. Options include `\"text\"` (ASCII art), `\"mpl\"` (Matplotlib), `\"latex\"`, and `\"latex_source\"`.\n",
    ":::"
   ]
  },
  {
   "cell_type": "markdown",
   "id": "8e070616-d2bd-48b3-a7ef-ea628c728d70",
   "metadata": {},
   "source": [
    "2. When calling `circuit.draw(output=\"mpl\")`, what backend is used to generate the visualization?\n",
    "\n",
    "a. ASCII art  \n",
    "b. Matplotlib  \n",
    "c. Text drawer  \n",
    "d. LaTeX  "
   ]
  },
  {
   "cell_type": "markdown",
   "id": "3edc9f0c-1a15-41b7-9296-b9d05ff1a31a",
   "metadata": {},
   "source": [
    ":::{dropdown}answer\n",
    "The answer is b.\n",
    "\n",
    "When using `circuit.draw(output=\"mpl\")`, the Matplotlib backend is called to render the circuit as a figure. Other options include `\"text\"` for ASCII drawings and `\"latex\"` for LaTeX rendering.\n",
    ":::"
   ]
  },
  {
   "cell_type": "markdown",
   "id": "c6b3f381-1176-43ca-b04b-9445ebba38eb",
   "metadata": {},
   "source": [
    "3. Which of the following output options for `QuantumCircuit.draw()` generates a visualization suitable for including in LaTeX documents?\n",
    "\n",
    "a. `output=\"latex\"`  \n",
    "b. `output=\"latex_source\"`  \n",
    "c. Both a and b  \n",
    "d. Neither a nor b  "
   ]
  },
  {
   "cell_type": "markdown",
   "id": "3761dcfc-9c76-4f62-a359-7e5b840c6f15",
   "metadata": {},
   "source": [
    ":::{dropdown}answer\n",
    "The answer is c.\n",
    "\n",
    "Both `\"latex\"` and `\"latex_source\"` are valid output options for `QuantumCircuit.draw()`. The `\"latex\"` option generates a compiled LaTeX circuit diagram, while `\"latex_source\"` returns the raw LaTeX code.\n",
    ":::"
   ]
  },
  {
   "cell_type": "markdown",
   "id": "8bec9006-8374-4e3a-82cc-e804b947464a",
   "metadata": {},
   "source": [
    "4. Which Qiskit visualization function can be used to compare measurement results of multiple experiments?\n",
    "\n",
    "a. `plot_histogram`  \n",
    "b. `plot_bloch_vector`  \n",
    "c. `plot_state_qsphere`  \n",
    "d. `plot_gate_map`  "
   ]
  },
  {
   "cell_type": "markdown",
   "id": "c3850ca2-4460-487f-9490-5cbca0b7588d",
   "metadata": {},
   "source": [
    ":::{dropdown}answer\n",
    "The answer is a.\n",
    "\n",
    "The `plot_histogram()` function is designed to show measurement outcomes, and it can overlay results from multiple experiments, making it suitable for comparison.\n",
    ":::"
   ]
  },
  {
   "cell_type": "markdown",
   "id": "9d9d9bf9-5d5a-4f73-86b0-06b90e31bdb7",
   "metadata": {},
   "source": [
    "5. Which visualization method best shows the relative phase of each basis state in a quantum statevector?\n",
    "\n",
    "a. `plot_bloch_multivector`  \n",
    "b. `plot_state_qsphere`  \n",
    "c. `plot_histogram`  \n",
    "d. `circuit.draw(output=\"mpl\")`  "
   ]
  },
  {
   "cell_type": "markdown",
   "id": "a9cff9b6-4480-4e30-b853-987c25045290",
   "metadata": {},
   "source": [
    ":::{dropdown}answer\n",
    "The answer is b.\n",
    "\n",
    "The `plot_state_qsphere()` function shows the relative amplitudes and phases of quantum states on a sphere, making it the best choice for analyzing phase relationships.\n",
    ":::"
   ]
  },
  {
   "cell_type": "markdown",
   "id": "c5da9584-c11c-41f1-88d5-86b7142ac704",
   "metadata": {},
   "source": [
    "6. What does the function `plot_bloch_multivector()` visualize?\n",
    "\n",
    "a. Measurement outcomes as a bar chart  \n",
    "b. The density matrix as a heatmap  \n",
    "c. Each qubit’s state on the Bloch sphere  \n",
    "d. The connectivity of qubits on hardware  "
   ]
  },
  {
   "cell_type": "markdown",
   "id": "3971e67e-9c12-446d-81f0-2ef8392fb441",
   "metadata": {},
   "source": [
    ":::{dropdown}answer\n",
    "The answer is c.\n",
    "\n",
    "`plot_bloch_multivector()` displays each individual qubit’s state on the Bloch sphere. This allows visualization of single-qubit orientations within a multi-qubit quantum state.\n",
    ":::"
   ]
  },
  {
   "cell_type": "markdown",
   "id": "0e361d32-b032-4611-9df2-90d145f2808f",
   "metadata": {},
   "source": [
    "7. Which of the following visualizations explicitly requires a `Statevector` or `DensityMatrix` object as input?\n",
    "\n",
    "a. `plot_state_qsphere`  \n",
    "b. `plot_bloch_multivector`  \n",
    "c. `plot_state_city`  \n",
    "d. All of the above  "
   ]
  },
  {
   "cell_type": "markdown",
   "id": "234b33ef-58b8-49d3-b8e9-b3e0b3059a5e",
   "metadata": {},
   "source": [
    ":::{dropdown}answer\n",
    "The answer is d.\n",
    "\n",
    "All three functions—`plot_state_qsphere`, `plot_bloch_multivector`, and `plot_state_city`—require a `Statevector` or `DensityMatrix` as input. They cannot operate directly on circuits without first computing the state.\n",
    ":::\n"
   ]
  },
  {
   "cell_type": "markdown",
   "id": "350aa05d-b037-4ffa-9073-fe3273e5a736",
   "metadata": {},
   "source": [
    "8. Which function displays the connectivity and coupling map of a quantum device?\n",
    "\n",
    "a. `plot_device_layout`  \n",
    "b. `plot_histogram`  \n",
    "c. `plot_gate_map`  \n",
    "d. `plot_coupling`  "
   ]
  },
  {
   "cell_type": "markdown",
   "id": "454bc1d7-627f-4866-b328-ce4fc283cffd",
   "metadata": {},
   "source": [
    ":::{dropdown}answer\n",
    "The answer is c.\n",
    "\n",
    "`plot_gate_map()` visualizes the coupling map of a quantum device, showing qubit layout and connectivity. This is essential for understanding how two-qubit gates can be executed on real hardware.\n",
    ":::"
   ]
  },
  {
   "cell_type": "markdown",
   "id": "48cff415-eab5-460d-af9f-c6fd16fb1dc2",
   "metadata": {},
   "source": [
    "9. What additional argument can be passed to `plot_histogram` to display multiple experiment results on the same chart?\n",
    "\n",
    "a. `merge=True`  \n",
    "b. `legend`  \n",
    "c. `compare=True`  \n",
    "d. `stacked=True`  "
   ]
  },
  {
   "cell_type": "markdown",
   "id": "d009039a-715e-4ef4-be4f-b9548d578206",
   "metadata": {},
   "source": [
    ":::{dropdown}answer\n",
    "The answer is b.\n",
    "\n",
    "The `legend` argument in `plot_histogram()` allows labeling multiple experiment results when displayed on the same chart, making it easier to distinguish them.\n",
    ":::"
   ]
  },
  {
   "cell_type": "markdown",
   "id": "d8236e60-0d9c-40d3-9986-8f5a67285426",
   "metadata": {},
   "source": [
    "10. Which visualization tool can be used to see the real and imaginary components of a quantum state as a 3D bar chart?\n",
    "\n",
    "a. `plot_state_city`  \n",
    "b. `plot_histogram`  \n",
    "c. `plot_state_qsphere`  \n",
    "d. `plot_bloch_multivector`  "
   ]
  },
  {
   "cell_type": "markdown",
   "id": "5a749fef-77ef-49ff-9bd6-aaf1dcfb1798",
   "metadata": {},
   "source": [
    ":::{dropdown}answer\n",
    "The answer is a.\n",
    "\n",
    "`plot_state_city()` represents the real and imaginary parts of a quantum state as 3D bar charts, providing an intuitive way to see amplitude contributions of each basis state.\n",
    ":::"
   ]
  },
  {
   "cell_type": "markdown",
   "id": "66ba2197-7cb7-4b56-84b2-1d2a46fe0c32",
   "metadata": {},
   "source": [
    "11. Given the following code:\n",
    "\n",
    "```python\n",
    "from qiskit import QuantumCircuit\n",
    "\n",
    "qc = QuantumCircuit(2)\n",
    "qc.h(0)\n",
    "qc.cx(0, 1)\n",
    "qc.measure_all()\n",
    "\n",
    "qc.draw(output=\"mpl\")\n",
    "```\n",
    "\n",
    "Which of the following diagrams best matches the output?\n",
    "\n",
    "a.\n",
    "\n",
    "```\n",
    "q0: ──H──■──M──\n",
    "         │\n",
    "q1: ─────X──M──\n",
    "```\n",
    "\n",
    "b.\n",
    "\n",
    "```\n",
    "q0: ──■──H──M──\n",
    "     │\n",
    "q1: ──X─────M──\n",
    "```\n",
    "\n",
    "c.\n",
    "\n",
    "```\n",
    "q0: ──X──H──M──\n",
    "     │\n",
    "q1: ──■────M──\n",
    "```\n",
    "\n",
    "d.\n",
    "\n",
    "```\n",
    "q0: ──H──M──\n",
    "q1: ──X──M──\n",
    "```"
   ]
  },
  {
   "cell_type": "markdown",
   "id": "60b96c0b-1000-41ba-84d9-0e4cb2ab7c0a",
   "metadata": {},
   "source": [
    ":::{dropdown}answer\n",
    "The answer is a.\n",
    "\n",
    "The circuit applies an H gate on qubit 0, then a CX gate from qubit 0 to qubit 1, followed by measurement of both qubits. This matches the diagram with `H` on q0, `CX` connecting q0 → q1, and measurements on both qubits.\n",
    ":::"
   ]
  },
  {
   "cell_type": "markdown",
   "id": "88776c59-755f-4e5a-ad3a-a64978d2da55",
   "metadata": {},
   "source": [
    "12. Consider the following code:\n",
    "\n",
    "```python\n",
    "from qiskit import QuantumCircuit, Aer, transpile, assemble\n",
    "from qiskit.visualization import plot_histogram\n",
    "\n",
    "qc = QuantumCircuit(1)\n",
    "qc.h(0)\n",
    "qc.measure_all()\n",
    "\n",
    "sim = Aer.get_backend('aer_simulator')\n",
    "qobj = assemble(transpile(qc, sim))\n",
    "result = sim.run(qobj).result()\n",
    "counts = result.get_counts()\n",
    "\n",
    "plot_histogram(counts)\n",
    "```\n",
    "\n",
    "Which of the following histograms is expected?\n",
    "\n",
    "a.\n",
    "\n",
    "```\n",
    "0: ██████ 50%\n",
    "1: ██████ 50%\n",
    "```\n",
    "\n",
    "b.\n",
    "\n",
    "```\n",
    "0: ██████████████ 100%\n",
    "```\n",
    "\n",
    "c.\n",
    "\n",
    "```\n",
    "1: ██████████████ 100%\n",
    "```\n",
    "\n",
    "d.\n",
    "\n",
    "```\n",
    "00: ██████ 50%\n",
    "11: ██████ 50%\n",
    "```"
   ]
  },
  {
   "cell_type": "markdown",
   "id": "85592bc5-6b19-4aa3-89ad-386617638280",
   "metadata": {},
   "source": [
    ":::{dropdown}answer\n",
    "The answer is a.\n",
    "\n",
    "A single-qubit Hadamard produces a superposition state (|0⟩ + |1⟩)/√2. Measuring this state results in 0 and 1 with equal probability, so the histogram shows 50% for each outcome.\n",
    ":::"
   ]
  },
  {
   "cell_type": "markdown",
   "id": "4051a686-1406-4659-918a-e0c252c703fe",
   "metadata": {},
   "source": [
    "13. Given the following code:\n",
    "\n",
    "```python\n",
    "from qiskit import QuantumCircuit\n",
    "from qiskit.quantum_info import Statevector\n",
    "from qiskit.visualization import plot_state_qsphere\n",
    "\n",
    "qc = QuantumCircuit(2)\n",
    "qc.h(0)\n",
    "qc.cx(0, 1)\n",
    "state = Statevector.from_instruction(qc)\n",
    "plot_state_qsphere(state)\n",
    "```\n",
    "\n",
    "Which of the following best describes the qsphere output?\n",
    "\n",
    "a. Two points at |00⟩ and |11⟩ with equal size, both colored the same.  \n",
    "b. Two points at |01⟩ and |10⟩ with equal size, opposite colors.  \n",
    "c. Four points at |00⟩, |01⟩, |10⟩, |11⟩ equally distributed.  \n",
    "d. A single point at |00⟩ only.  "
   ]
  },
  {
   "cell_type": "markdown",
   "id": "acf70a2b-796c-4c5a-be53-e51f705c18d4",
   "metadata": {},
   "source": [
    ":::{dropdown}answer\n",
    "The answer is a.\n",
    "\n",
    "The circuit creates a Bell state (|00⟩ + |11⟩)/√2. On the qsphere, only |00⟩ and |11⟩ appear, both with equal amplitude and identical phase (same color).\n",
    ":::"
   ]
  },
  {
   "cell_type": "markdown",
   "id": "2caf446b-5be8-4f15-9aed-1c053dffa41b",
   "metadata": {},
   "source": [
    "5. Given the following code:\n",
    "\n",
    "```python\n",
    "from qiskit.quantum_info import Statevector\n",
    "from qiskit.visualization import plot_bloch_multivector\n",
    "\n",
    "state = Statevector([1/2, 1/2, 1/2, 1/2])\n",
    "plot_bloch_multivector(state)\n",
    "```\n",
    "\n",
    "Which of the following describes the Bloch sphere plot?\n",
    "\n",
    "a. Both qubits point along +X axis.  \n",
    "b. Both qubits point along +Z axis.  \n",
    "c. First qubit along +X, second along –X.  \n",
    "d. Random orientation with no symmetry.  "
   ]
  },
  {
   "cell_type": "markdown",
   "id": "4e762a66-dd09-4e74-aa99-870ff62ff246",
   "metadata": {},
   "source": [
    ":::{dropdown}answer\n",
    "The answer is a.\n",
    "\n",
    "The state `[1/2, 1/2, 1/2, 1/2]` corresponds to both qubits being in |+⟩ = (|0⟩ + |1⟩)/√2. On the Bloch sphere, |+⟩ points along the +X axis, so both qubits align in that direction.\n",
    ":::"
   ]
  },
  {
   "cell_type": "markdown",
   "id": "1647b5f1-14c3-4f67-b378-7274b1d2ff6d",
   "metadata": {},
   "source": [
    "15. Given the code:\n",
    "\n",
    "```python\n",
    "from qiskit import QuantumCircuit\n",
    "from qiskit.quantum_info import Statevector\n",
    "from qiskit.visualization import plot_state_city\n",
    "\n",
    "qc = QuantumCircuit(1)\n",
    "qc.h(0)\n",
    "state = Statevector.from_instruction(qc)\n",
    "plot_state_city(state)\n",
    "```\n",
    "\n",
    "Which of the following bar plots is expected?\n",
    "\n",
    "a. Two tall bars at Re(|0⟩) and Re(|1⟩), equal height.  \n",
    "b. One tall bar at Re(|0⟩) only.  \n",
    "c. Two tall bars at Im(|0⟩) and Im(|1⟩).  \n",
    "d. Four bars with random heights.  "
   ]
  },
  {
   "cell_type": "markdown",
   "id": "d971d634-16cf-494a-892c-ed8d9ac75bda",
   "metadata": {},
   "source": [
    ":::{dropdown}answer\n",
    "The answer is a.\n",
    "\n",
    "Applying H to a single qubit creates (|0⟩ + |1⟩)/√2. In the state city plot, this results in two bars of equal height in the real part for |0⟩ and |1⟩, with no imaginary component.\n",
    ":::"
   ]
  },
  {
   "cell_type": "markdown",
   "id": "b4f09e74-c4cc-4b76-b4e1-2fcfe391d1e7",
   "metadata": {},
   "source": [
    "## TASK 2.2: Visualize quantum measurements"
   ]
  },
  {
   "cell_type": "markdown",
   "id": "2a42bf07-36d2-4beb-ae17-9b991818de7c",
   "metadata": {},
   "source": [
    "1. Which function should you use to visualize measurement outcome counts from a circuit or sampler result?\n",
    "\n",
    "a. `plot_qsphere`<br>\n",
    "b. `plot_histogram`<br>\n",
    "c. `plot_state_city`<br>\n",
    "d. `plot_bloch_vector`<br>"
   ]
  },
  {
   "cell_type": "markdown",
   "id": "766f0f50-b70f-4990-8cef-e5787097afd2",
   "metadata": {},
   "source": [
    ":::{dropdown}answer \n",
    "The answer is b. \n",
    "\n",
    "Use `plot_histogram` from `qiskit.visualization` to visualize measurement result counts (bitstrings and their frequencies). This is the canonical way to visualize quantum *measurement* outcomes, as opposed to state visualizers like qsphere or Bloch charts which depict state amplitudes or vectors rather than sampled counts. \n",
    ":::\n"
   ]
  },
  {
   "cell_type": "markdown",
   "id": "20cb6514-d4b8-47f9-803d-4522dd39aa58",
   "metadata": {},
   "source": [
    "2. You obtained a `Statevector` and want a *measurement-like* distribution to plot without running on hardware. Which API produces shot-based counts that you can pass to `plot_histogram`?\n",
    "\n",
    "a. `state.draw_counts(shots=1024)`<br>\n",
    "b. `state.sample_counts(shots=1024)`<br>\n",
    "c. `state.measure_all(shots=1024)`<br>\n",
    "d. `state.to_counts(shots=1024)`<br>"
   ]
  },
  {
   "cell_type": "markdown",
   "id": "0df4d750-9a8f-4878-87cc-52a0a69cfba7",
   "metadata": {},
   "source": [
    ":::{dropdown}answer \n",
    "The answer is b. \n",
    "\n",
    "`Statevector.sample_counts(shots=...)` samples from the state’s probability distribution and returns a counts dictionary compatible with `plot_histogram`, letting you visualize expected measurement outcomes without executing on a backend. \n",
    ":::\n"
   ]
  },
  {
   "cell_type": "markdown",
   "id": "49b3c519-6f33-4ffa-a3cc-ddecf4ea5e91",
   "metadata": {},
   "source": [
    "3. In dynamic circuits, which builder creates a conditional block that has **only a True branch** (no explicit else branch), typically used for mid-circuit measurement feedforward?\n",
    "\n",
    "a. `QuantumCircuit.if_else`<br>\n",
    "b. `QuantumCircuit.switch`<br>\n",
    "c. `QuantumCircuit.if_test`<br>\n",
    "d. `QuantumCircuit.c_if`<br>"
   ]
  },
  {
   "cell_type": "markdown",
   "id": "730a99f0-550f-4a45-9079-9062bbf91481",
   "metadata": {},
   "source": [
    ":::{dropdown}answer \n",
    "The answer is c. \n",
    "\n",
    "`if_test` builds a control-flow region with a True body only, perfect when you want to apply operations conditionally on a classical-bit outcome from a mid-circuit measurement. `if_else` includes both True and False bodies; `c_if` is legacy-style conditional execution tied to instruction conditions. \n",
    ":::\n"
   ]
  },
  {
   "cell_type": "markdown",
   "id": "f28b3c52-e381-4fa4-b368-eb0e3f6a587f",
   "metadata": {},
   "source": [
    "4. Which code fragment correctly measures `q0` into `c0` **mid-circuit** and applies `x(q1)` **only when** the measurement outcome is 1, before the final measurement of `q1`?\n",
    "\n",
    "a. \n",
    "```python\n",
    "qc.measure(0, 0)\n",
    "qc.if_test((qc.clbits[0], 1)):\n",
    "    qc.x(1)\n",
    "qc.measure(1, 1)\n",
    "```\n",
    "\n",
    "b. \n",
    "```python\n",
    "qc.measure(0, 0)\n",
    "with qc.if_test((qc.clbits[0], 1)):\n",
    "    qc.x(1)\n",
    "qc.measure(1, 1)\n",
    "```\n",
    "\n",
    "c. \n",
    "```python\n",
    "with qc.if_test((qc.clbits[0], 1)):\n",
    "    qc.measure(0, 0)\n",
    "    qc.x(1)\n",
    "qc.measure(1, 1)\n",
    "```\n",
    "\n",
    "d. \n",
    "```python\n",
    "with qc.if_else((qc.clbits[0], 1)) as else_:\n",
    "    qc.x(1)\n",
    "with else_:\n",
    "    pass\n",
    "qc.measure([0,1], [0,1])\n",
    "```\n"
   ]
  },
  {
   "cell_type": "markdown",
   "id": "e8c72de7-7699-42d7-95fa-b36f9d757242",
   "metadata": {},
   "source": [
    ":::{dropdown}answer \n",
    "The answer is b. \n",
    "\n",
    "The measurement of `q0` must occur **before** the `if_test` so its outcome populates `c0`. The context-manager form `with qc.if_test((cbit, 1)):` introduces a True-only region; `x(1)` executes only when the condition is met. Options a/d don’t use the context-manager correctly, and c measures inside the conditional (so the condition wouldn’t be defined when entering the block). \n",
    ":::\n"
   ]
  },
  {
   "cell_type": "markdown",
   "id": "fa14d2ec-b4f5-46bb-ab54-76bab3c6c8ca",
   "metadata": {},
   "source": [
    "5. When plotting measurement histograms for **multiple** executions on the same axes, which keyword argument helps distinguish them in the legend?\n",
    "\n",
    "a. `title=['run A', 'run B']`<br>\n",
    "b. `labels=['run A', 'run B']`<br>\n",
    "c. `legend=['run A', 'run B']`<br>\n",
    "d. `caption=['run A', 'run B']`<br>"
   ]
  },
  {
   "cell_type": "markdown",
   "id": "9a507e24-6429-4635-9349-b8e983eb4831",
   "metadata": {},
   "source": [
    ":::{dropdown}answer \n",
    "The answer is c. \n",
    "\n",
    "Pass `legend=[...]` to `plot_histogram` when plotting multiple result sets in one chart so each set of bars is labeled (e.g., comparing ideal vs. noisy counts). \n",
    ":::\n"
   ]
  },
  {
   "cell_type": "markdown",
   "id": "54651316-a5ec-4f27-9e9e-e5ba36b534d3",
   "metadata": {},
   "source": [
    "6. You have a large number of possible bitstrings in the measurement outcomes and want the histogram to show only the top 8, aggregating the rest in a single bar. Which option should you set?\n",
    "\n",
    "a. `bins=8`<br>\n",
    "b. `truncate=8`<br>\n",
    "c. `max_terms=8`<br>\n",
    "d. `number_to_keep=8`<br>"
   ]
  },
  {
   "cell_type": "markdown",
   "id": "6ea8b6ba-1bb3-4155-93e1-58263e30d559",
   "metadata": {},
   "source": [
    ":::{dropdown}answer \n",
    "The answer is d. \n",
    "\n",
    "`number_to_keep` limits how many terms are displayed; the remaining outcomes are grouped into a bar labeled “rest,” keeping the measurement visualization readable. \n",
    ":::\n"
   ]
  },
  {
   "cell_type": "markdown",
   "id": "cec33371-1f17-43a1-bcfa-01e53b1d5aec",
   "metadata": {},
   "source": [
    "7. To sort histogram bars by their counts from highest to lowest (useful for quickly spotting dominant measurement outcomes), which argument should you use?\n",
    "\n",
    "a. `sort='desc'`<br>\n",
    "b. `order='descending'`<br>\n",
    "c. `sorted=True`<br>\n",
    "d. `rank='top'`<br>"
   ]
  },
  {
   "cell_type": "markdown",
   "id": "dcbf7882-0f1a-40d9-bb62-2a6595e09ea9",
   "metadata": {},
   "source": [
    ":::{dropdown}answer \n",
    "The answer is a. \n",
    "\n",
    "Use `sort='desc'` (or `'asc'`) with `plot_histogram` to control bar ordering by counts, which helps interpret noisy vs. ideal measurement distributions. \n",
    ":::\n"
   ]
  },
  {
   "cell_type": "markdown",
   "id": "076ac187-4641-46df-98ed-0f973ff6f830",
   "metadata": {},
   "source": [
    "8. In a circuit diagram that uses **mid-circuit measurement** with dynamic control flow, how is the measurement information visualized?\n",
    "\n",
    "a. The diagram suppresses classical wires; measurement effects are implicit.<br>\n",
    " b. Measurements draw arrows from qubit wires to classical **clbit wires**, and conditional regions (`if_test`, etc.) appear as **boxed blocks** that are annotated by the classical condition.<br>\n",
    "c. Measurements are drawn as statevector spheres; conditions are tagged on the spheres.<br>\n",
    "d. Measurements show only as labels on gates; there are no classical wires or conditional regions.\n"
   ]
  },
  {
   "cell_type": "markdown",
   "id": "5be40cdc-a2cb-43bb-baea-a3a52d26fe87",
   "metadata": {},
   "source": [
    ":::{dropdown}answer \n",
    "The answer is b. \n",
    "\n",
    "Qiskit’s circuit drawers render measurement ops with arrows from qubit to classical wires, then depict control-flow regions (e.g., `if_test`, `if_else`) as boxed/annotated blocks tied to the classical condition—making the path from measurement to conditional execution explicit in the visualization. \n",
    ":::\n"
   ]
  }
 ],
 "metadata": {
  "kernelspec": {
   "display_name": "Python 3 (ipykernel)",
   "language": "python",
   "name": "python3"
  },
  "language_info": {
   "codemirror_mode": {
    "name": "ipython",
    "version": 3
   },
   "file_extension": ".py",
   "mimetype": "text/x-python",
   "name": "python",
   "nbconvert_exporter": "python",
   "pygments_lexer": "ipython3",
   "version": "3.13.7"
  }
 },
 "nbformat": 4,
 "nbformat_minor": 5
}
