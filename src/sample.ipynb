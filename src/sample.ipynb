{
 "cells": [
  {
   "cell_type": "markdown",
   "id": "6d6a7431",
   "metadata": {},
   "source": [
    "# Sample Test\n",
    "This is a sample test provided in the official page of [\"IBM Certified Quantum Computation using Qiskit v2.X Developer - Associate\"](https://www.ibm.com/training/certification/ibm-certified-quantum-computation-using-qiskit-v2x-developer-associate-C9008400)."
   ]
  },
  {
   "cell_type": "markdown",
   "id": "60839a5b",
   "metadata": {},
   "source": [
    "## Section 1: Perform quantum operations"
   ]
  },
  {
   "cell_type": "markdown",
   "id": "b349aae2",
   "metadata": {},
   "source": [
    "**1. Which one of the following code fragments will generate the given output?**\n",
    "\n",
    "```\n",
    "[[ 1.+0.j 0.+0.j 0.+0.j 0.+0.j]\n",
    "[ 0.+0.j -1.+0.j 0.+0.j 0.+0.j]\n",
    "[ 0.+0.j 0.+0.j 1.+0.j 0.+0.j]\n",
    "[ 0.+0.j 0.+0.j 0.+0.j -1.+0.j]]\n",
    "```\n",
    "\n",
    "a. `p = Pauli('IZ')\n",
    "print(p.to_matrix())`  \n",
    "b. `p = Pauli('-II')\n",
    "print(p.to_matrix())`  \n",
    "c. `p = Pauli('-ZI')\n",
    "print(p.to_matrix())`  \n",
    "d. `p = Pauli('ZZ')\n",
    "print(p.to_matrix())`  "
   ]
  },
  {
   "cell_type": "markdown",
   "id": "e33bd904",
   "metadata": {},
   "source": [
    ":::{dropdown}Answer\n",
    "The answer is `a`.\n",
    "\n",
    "`Pauli('IZ')` corresponds to $I \\otimes Z$.\n",
    "Since $Z=\\mathrm{diag}(1,-1)$ and $I=\\mathrm{diag}(1,1)$, we get\n",
    "\n",
    "$$\n",
    "I\\otimes Z=\\mathrm{diag}(1,-1,1,-1),\n",
    "$$\n",
    "\n",
    "which matches the given matrix.\n",
    "\n",
    "b:`'-II'` → $-I\\otimes I=\\mathrm{diag}(-1,-1,-1,-1)$  \n",
    "c:`'-ZI'` → $-Z\\otimes I=\\mathrm{diag}(-1,-1,1,1)$  \n",
    "d: `'ZZ'` → $Z\\otimes Z=\\mathrm{diag}(1,-1,-1,1)$  \n",
    "\n",
    "\n",
    ":::"
   ]
  },
  {
   "cell_type": "markdown",
   "id": "1fd8e60e",
   "metadata": {},
   "source": [
    "**2. Applying the Qiskit TGate to a qubit in state |1> introduces which global phase?**\n",
    "\n",
    "a. π/2 phase  \n",
    "b. -π/2 phase  \n",
    "c. -π/4 phase  \n",
    "d. π/4 phase  "
   ]
  },
  {
   "cell_type": "markdown",
   "id": "e566c7e4",
   "metadata": {},
   "source": [
    "\n",
    ":::{dropdown}Answer\n",
    "The answer is `d`.  \n",
    "[T gate](https://quantum.cloud.ibm.com/docs/en/api/qiskit/qiskit.circuit.library.TGate) induces a π/4 phase.\n",
    "\n",
    "```{math}\n",
    "T = \\begin{bmatrix}\n",
    "1 & 0 \\\\\n",
    "0 & e^{i\\pi/4}\n",
    "\\end{bmatrix}\n",
    "```\n",
    ":::"
   ]
  },
  {
   "cell_type": "markdown",
   "id": "58944dde",
   "metadata": {},
   "source": [
    "**3. Given the following code fragment, what is the approximate probability that a measurement would result in a bit value of 1?**\n",
    "\n",
    "```python\n",
    "from qiskit import QuantumCircuit\n",
    "import numpy as np\n",
    "\n",
    "qc = QuantumCircuit(1)\n",
    "qc.reset(0)\n",
    "qc.ry(np.pi / 2, 0)\n",
    "qc.measure_all()\n",
    "```\n",
    "\n",
    "a. 0.8536  \n",
    "b. 1.0  \n",
    "c. 0.1464  \n",
    "d. 0.5  "
   ]
  },
  {
   "cell_type": "markdown",
   "id": "5910c2b5",
   "metadata": {},
   "source": [
    ":::{dropdown}Answer\n",
    "The answer is `d`.  \n",
    "\n",
    "On the Bloch sphere, the state $|0\\rangle$ is at the **north pole**.  \n",
    "The operation $R_y(\\pi/2)$ rotates the state vector by 90° around the **y-axis**.  \n",
    "This moves the vector from the north pole to a point on the **equator** of the Bloch sphere.  \n",
    "\n",
    "On the equator, the probabilities of measuring $|0\\rangle$ and $|1\\rangle$ are equal.  \n",
    "Thus, the probability of getting $|1\\rangle$ is:\n",
    "\n",
    "$$\n",
    "P(1) = \\tfrac{1}{2}\n",
    "$$\n",
    ":::"
   ]
  },
  {
   "cell_type": "markdown",
   "id": "cb2a67a6",
   "metadata": {},
   "source": [
    "## Section 2: Visualize quantum circuits, measurements, and states"
   ]
  },
  {
   "cell_type": "markdown",
   "id": "088ee7cb",
   "metadata": {},
   "source": [
    "**4. Which one of the following images is the output from the code below:**\n",
    "\n",
    "```python\n",
    "from qiskit import *\n",
    "qubits = QuantumRegister(2)\n",
    "clbits = ClassicalRegister(2)\n",
    "circuit = QuantumCircuit(qubits, clbits)\n",
    "(q0, q1) = qubits\n",
    "(c0, c1) = clbits\n",
    "\n",
    "circuit.h(q0)\n",
    "circuit.measure(q0, c0)\n",
    "with circuit.if_test((c0, 1)) as else_:\n",
    "circuit.h(q1)\n",
    "with else_:\n",
    "circuit.x(q1)\n",
    "circuit.measure(q1, c1)\n",
    "\n",
    "circuit.draw(output=\"mpl\")\n",
    "```\n",
    "\n",
    ":::{image} /resources/sample-4.png\n",
    ":::"
   ]
  },
  {
   "cell_type": "markdown",
   "id": "51218672",
   "metadata": {},
   "source": [
    ":::{dropdown}Answer\n",
    "The answer is `a`.  \n",
    ":::"
   ]
  },
  {
   "cell_type": "markdown",
   "id": "16c2f5e6",
   "metadata": {},
   "source": [
    "**5. Given the code fragment below, which image is the expected output?**\n",
    "\n",
    "```python\n",
    "from qiskit.quantum_info import Statevector\n",
    "from qiskit.visualization import plot_histogram\n",
    "state = Statevector([0.+0.j, 0.+0.j, 0.70710678+0.j, 0.+0.j,\n",
    "                    0.+0.j, -0.70710678+0.j, 0.+0.j, 0.+0.j])\n",
    "counts = state.sample_counts(shots=1024)\n",
    "plot_histogram(counts)\n",
    "```\n",
    "\n",
    ":::{image} /resources/sample-5.png\n",
    ":::"
   ]
  },
  {
   "cell_type": "markdown",
   "id": "748eabe5",
   "metadata": {
    "vscode": {
     "languageId": "plaintext"
    }
   },
   "source": [
    ":::{dropdown}Answer\n",
    "The answer is `c`.  \n",
    "\n",
    "### What is a Statevector?\n",
    "\n",
    "In Qiskit, a **Statevector** represents the quantum state of an $n$-qubit system as a complex vector of length $2^n$. Each entry corresponds to the **amplitude** of one computational basis state (e.g., $|000\\rangle, |001\\rangle, …, |111\\rangle$). The squared magnitude of each amplitude gives the probability of measuring that basis state.\n",
    "\n",
    "\n",
    "### Ordering of the List\n",
    "\n",
    "The list follows **lexicographic ordering** of basis states, where the index of the list corresponds to the integer value of the basis bitstring:\n",
    "\n",
    "* Index $i$ → basis state $|i\\rangle$, written in binary.\n",
    "* Qubit **0** is the *least significant bit* (rightmost), and qubit $n-1$ is the *most significant bit* (leftmost).\n",
    "\n",
    "Thus, for 3 qubits:\n",
    "\n",
    "* index 0 → $|000\\rangle$\n",
    "* index 1 → $|001\\rangle$\n",
    "* …\n",
    "* index 7 → $|111\\rangle$.\n",
    ":::"
   ]
  },
  {
   "cell_type": "markdown",
   "id": "946dd629",
   "metadata": {
    "vscode": {
     "languageId": "plaintext"
    }
   },
   "source": [
    "**6. Which one of the following code fragments will generate the given qsphere representation visualization?**\n",
    "Note: the circles on the qsphere are the same color.\n",
    "\n",
    "a. \n",
    "\n",
    "```python\n",
    "qc = QuantumCircuit(2)\n",
    "qc.h(0)\n",
    "qc.z(0)\n",
    "qc.cx(0, 1)\n",
    "state = Statevector(qc)\n",
    "plot_state_qsphere(state)\n",
    "```\n",
    "\n",
    "b. \n",
    "```python\n",
    "qc = QuantumCircuit(2)\n",
    "qc.h(0)\n",
    "qc.z(0)\n",
    "qc.x(1)\n",
    "qc.cx(0, 1)\n",
    "state = Statevector(qc)\n",
    "plot_state_qsphere(state)\n",
    "```\n",
    "\n",
    "c. \n",
    "```python\n",
    "qc = QuantumCircuit(2)\n",
    "qc.x(1)\n",
    "qc.h(0)\n",
    "qc.cx(0, 1)\n",
    "state = Statevector(qc)\n",
    "plot_state_qsphere(state)\n",
    "```\n",
    "\n",
    "d. \n",
    "```python\n",
    "qc = QuantumCircuit(2)\n",
    "qc.h(0)\n",
    "qc.cx(0, 1)\n",
    "state = Statevector(qc)\n",
    "plot_state_qsphere(state)\n",
    "```\n",
    "\n",
    ":::{image} /resources/sample-6.png\n",
    ":::"
   ]
  },
  {
   "cell_type": "markdown",
   "id": "17952202-9347-42aa-8b3e-7eadac33a4a1",
   "metadata": {
    "vscode": {
     "languageId": "plaintext"
    }
   },
   "source": [
    ":::{dropdown}Answer\n",
    "The answer is `d`.\n",
    ":::"
   ]
  },
  {
   "cell_type": "markdown",
   "id": "bb189ef0",
   "metadata": {
    "vscode": {
     "languageId": "plaintext"
    }
   },
   "source": [
    "## Section 3: Create quantum circuits"
   ]
  },
  {
   "cell_type": "markdown",
   "id": "0bf29573",
   "metadata": {},
   "source": [
    "**7. Given the code fragment below, which of the following code fragments creates a rotation gate with an angle with an initially undefined value?**\n",
    "\n",
    "```python\n",
    "from qiskit.circuit import QuantumCircuit, Parameter,\n",
    "ParameterExpression\n",
    "qc = QuantumCircuit(1)\n",
    "```\n",
    "\n",
    "a. \n",
    "```\n",
    "theta = 3.14\n",
    "qc.rx(3.14, 0)\n",
    "```\n",
    "\n",
    "b. \n",
    "```\n",
    "theta = Parameter('theta')\n",
    "qc.rx(theta, 0)\n",
    "```\n",
    "\n",
    "c. \n",
    "```\n",
    "qc.rx('theta', 0)\n",
    "```\n",
    "\n",
    "d. \n",
    "```\n",
    "qc.rx(ParameterExpression('theta'), 0)\n",
    "```"
   ]
  },
  {
   "cell_type": "markdown",
   "id": "481b970e",
   "metadata": {},
   "source": [
    ":::{dropdown}Answer\n",
    "The answer is `b`.\n",
    "\n",
    "`Parameter('theta')` creates a symbolic parameter, which represents an angle with an initially undefined value that can be assigned later when executing the circuit.\n",
    ":::"
   ]
  },
  {
   "cell_type": "markdown",
   "id": "9909eedd",
   "metadata": {},
   "source": [
    "**8. Which one of the following types of register stores the result of a measured circuit?**\n",
    "\n",
    "a. Ancillary register  \n",
    "b. Quantum register  \n",
    "c. Classical register  \n",
    "d. Circuit register  "
   ]
  },
  {
   "cell_type": "markdown",
   "id": "749c0b8c",
   "metadata": {},
   "source": [
    ":::{dropdown}Answer\n",
    "The answer is `c`.\n",
    "\n",
    "* a. Ancillary register → Used as extra helper qubits, not for storing measurement results.\n",
    "* b. Quantum register → Holds qubits, which collapse after measurement, so results are not stored here.\n",
    "* **c. Classical register** → Stores the outcomes of measurements as classical bits.\n",
    "* d. Circuit register → Not an actual register type in Qiskit.\n",
    ":::"
   ]
  },
  {
   "cell_type": "markdown",
   "id": "9403493d",
   "metadata": {},
   "source": [
    "**9. Given the code fragment below, which one of the following images could be produced?**\n",
    "\n",
    "```python\n",
    "from qiskit import QuantumCircuit\n",
    "from qiskit import generate_preset_pass_manager\n",
    "\n",
    "qc = QuantumCircuit(2)\n",
    "qc.h(0)\n",
    "qc.cx(0,1)\n",
    "\n",
    "pass_manager = generate_preset_pass_manager(\n",
    " optimization_level=3,\n",
    " coupling_map=[[0, 1], [1, 2]] ,\n",
    " basis_gates=['h', 'swap', 'cx'],\n",
    " initial_layout=[0, 2]\n",
    ")\n",
    "tqc = pass_manager.run(qc)\n",
    "tqc.draw(output=\"mpl\")\n",
    "```\n",
    "\n",
    ":::{image} /resources/sample-9.png\n",
    ":::"
   ]
  },
  {
   "cell_type": "markdown",
   "id": "d7d5a212",
   "metadata": {},
   "source": [
    ":::{dropdown}Answer\n",
    "The answer is `a`.\n",
    "\n",
    "Here are concise descriptions of the parameters in `qiskit.transpiler.generate_preset_pass_manager`\n",
    "\n",
    "| Parameter               | What it is / Purpose                                                                                                                                                                         | Valid options / behavior                                                                                                                                                                                                         |\n",
    "| ----------------------- | -------------------------------------------------------------------------------------------------------------------------------------------------------------------------------------------- | -------------------------------------------------------------------------------------------------------------------------------------------------------------------------------------------------------------------------------- |\n",
    "| **optimization\\_level** | Determines how much optimization/transformation effort is applied when transpiling a circuit. Higher levels produce more optimized circuits but take more time.  | Integer: **0, 1, 2, or 3**. <br> • 0 = no optimization <br> • 1 = light optimization <br> • 2 = heavy optimization (default) <br> • 3 = even heavier optimization                                    |\n",
    "| **coupling\\_map**       | The connectivity constraints of the quantum processor: which qubits can directly interact (two-qubit gates). The transpiler uses this to route gates correctly.  | Can be a `CouplingMap` object, or a list of edges. For example: `[[0,1], [0,3], [1,2], …]`. Directed (or undirected) depending on backend.                                                           |\n",
    "| **basis\\_gates**        | The set of primitive gates that gates must be decomposed into (“unrolled” to) so they match the backend’s capabilities.                                          | A list of gate names, e.g. `['u1','u2','u3','cx']`. If not provided, backend or target may set a default.                                                                                            |\n",
    "| **initial\\_layout**     | How virtual (logical) qubits are mapped initially onto physical qubits before any routing/swaps. Useful to reduce routing overhead.                              | Can be a `Layout` object or a simple list of integers. The list should map logical qubits to physical qubit indices. If not provided, layout method (like ‘trivial’, ‘dense’, ‘sabre’) will choose.  |\n",
    ":::"
   ]
  },
  {
   "cell_type": "markdown",
   "id": "7b41b5cf",
   "metadata": {},
   "source": [
    "## Section 4: Run quantum circuits"
   ]
  },
  {
   "cell_type": "markdown",
   "id": "2d30f9e4",
   "metadata": {},
   "source": [
    "**10. Which three of the following are job execution modes in Qiskit Runtime?**\n",
    "\n",
    "a. classical  \n",
    "b. session  \n",
    "c. parallel  \n",
    "d. quantum  \n",
    "e. batch  \n",
    "f. single job  "
   ]
  },
  {
   "cell_type": "markdown",
   "id": "29e4bcf3",
   "metadata": {},
   "source": [
    ":::{dropdown}Answer\n",
    "The answer is `b, e, f`.\n",
    "\n",
    "There are [three execution modes](https://quantum.cloud.ibm.com/docs/en/guides/execution-modes): job, session, and batch.\n",
    "\n",
    "### Job mode\n",
    "A single primitive request of the estimator or the sampler made without a context manager. Circuits and inputs are packaged as primitive unified blocs (PUBs) and submitted as an execution task on the quantum computer.\n",
    "\n",
    "### Batch mode\n",
    "A multi-job manager for efficiently running experiments comprising multi-job workloads. These workloads are made up of independently executable jobs that have no conditional relationship with each other. With batch mode, users submit their jobs all at once. The system parallelizes or threads the pre-processing step of each primitive job to more tightly package quantum execution across jobs, and then runs the quantum execution of each job in quick succession to deliver the most efficient results.\n",
    "\n",
    "### Session mode\n",
    "A dedicated window for running a multi-job workload. During this window, the user has exclusive access of the system and no other jobs can run - including calibration jobs. This allows users to experiment with variational algorithms in a more predictable way and even run multiple experiments simultaneously, taking advantage of parallelism in the stack. Using sessions helps avoid delays caused by queuing each job separately, which can be particularly useful for iterative tasks that require frequent communication between classical and quantum resources.\n",
    "\n",
    "> Workloads on the Open Plan can run only in job mode or batch mode.\n",
    ":::"
   ]
  },
  {
   "cell_type": "markdown",
   "id": "c28df1d1",
   "metadata": {},
   "source": [
    "**11. Which code fragment is the correct way to open a session?**\n",
    "\n",
    "a. \n",
    "```\n",
    "from qiskit_ibm_runtime import Session\n",
    "session = Session(system='ibm_foo')\n",
    "```\n",
    "\n",
    "b. \n",
    "```\n",
    "from qiskit_ibm_runtime import execute, QiskitRuntimeService\n",
    "service = QiskitRuntimeService()\n",
    "session = execute(service=service)\n",
    "```\n",
    "\n",
    "c. \n",
    "```\n",
    "from qiskit_ibm_runtime import Session, QiskitRuntimeService\n",
    "service = QiskitRuntimeService()\n",
    "session = Session(service.least_busy())\n",
    "```\n",
    "\n",
    "d. \n",
    "```\n",
    "from qiskit import QuantumCircuit\n",
    "session = QuantumCircuit(2).open_session()\n",
    "```"
   ]
  },
  {
   "cell_type": "markdown",
   "id": "8c48cbd9",
   "metadata": {},
   "source": [
    ":::{dropdown}Answer\n",
    "The answer is `c`.\n",
    "\n",
    "See the document [\"Run jobs in a session\"](https://quantum.cloud.ibm.com/docs/en/guides/run-jobs-session)\n",
    ":::"
   ]
  },
  {
   "cell_type": "markdown",
   "id": "af801dcd",
   "metadata": {},
   "source": [
    "**12. Which one of the following patterns, expressed in terms of array broadcasting primitives, is represented by the given image?**\n",
    "\n",
    ":::{image} /resources/sample-12.png\n",
    ":::\n",
    "\n",
    "a. Standard multidimensional array generalization  \n",
    "b. All-to-all  \n",
    "c. Extended dimensional variation  \n",
    "d. Best effort broadcasting  "
   ]
  },
  {
   "cell_type": "markdown",
   "id": "914f3daf",
   "metadata": {},
   "source": [
    ":::{dropdown}Answer\n",
    "The answer is `a`.\n",
    "\n",
    "An **array broadcasting primitive** is a fundamental operation that allows arrays of different shapes to participate in element-wise operations by automatically **expanding dimensions** without copying data.\n",
    "\n",
    "* It aligns array shapes according to broadcasting rules (match or size-1).\n",
    "* It enables efficient, memory-safe, multidimensional computations.\n",
    "* In Qiskit, this is used to combine parameter sweeps with observables into expectation value arrays.\n",
    "\n",
    "**a. Standard multidimensional array generalization ✅**\n",
    "\n",
    "* This exactly matches the NumPy-style broadcasting rule: expand size-1 dimensions to align arrays.\n",
    "* The example `(3,6)` + `(2,3,1)` → `(2,3,6)` is a textbook case.\n",
    "\n",
    "**b. All-to-all ❌**\n",
    "\n",
    "* Would imply computing every combination in a Cartesian product sense.\n",
    "* Not the case here: dimensions are aligned, not cross-multiplied.\n",
    "\n",
    "**c. Extended dimensional variation ❌**\n",
    "\n",
    "* Sounds like adding extra dimensions, but it’s not the standard term.\n",
    "* The process shown is standard broadcasting, not a special variation.\n",
    "\n",
    "**d. Best effort broadcasting ❌**\n",
    "\n",
    "* Suggests a heuristic or partial match when rules fail.\n",
    "* Here, broadcasting succeeds cleanly under standard rules, no “best effort” needed.\n",
    "\n",
    ":::"
   ]
  },
  {
   "cell_type": "markdown",
   "id": "992ffb86",
   "metadata": {},
   "source": [
    "## Section 5: Use the sampler primitive"
   ]
  },
  {
   "cell_type": "markdown",
   "id": "2bd92348",
   "metadata": {},
   "source": [
    "**13. Given the following code fragment, which one of the following describes the SamplerOptions parameter `options.default_shots`?**\n",
    "\n",
    "```python\n",
    "...\n",
    "from qiskit_ibm_runtime import Sampler\n",
    "sampler = Sampler(mode=backend)\n",
    "sampler.options.default_shots = ...\n",
    "```\n",
    "\n",
    "a. The sum of the number of measurements in each qubit  \n",
    "b. The number of randomizations we apply to the circuit  \n",
    "c. The number of times that we run the circuit  \n",
    "d. The number of sequences in dynamical decoupling  "
   ]
  },
  {
   "cell_type": "markdown",
   "id": "31528683",
   "metadata": {},
   "source": [
    ":::{dropdown}Answer\n",
    "The answer is `c`.\n",
    "\n",
    "[Here](https://quantum.cloud.ibm.com/docs/en/api/qiskit-ibm-runtime/options-sampler-options) is the documentation of `SamplerOptions`.\n",
    "\n",
    "> The default number of shots to use if none are specified in the PUBs or in the run method.\n",
    ":::"
   ]
  },
  {
   "cell_type": "markdown",
   "id": "5807a67b",
   "metadata": {},
   "source": [
    "**14. Given the code snippet, which one of the following is a valid way to invoke the run method on an instance of SamplerV2?**\n",
    "\n",
    "```python\n",
    "from qiskit_ibm_runtime import SamplerV2\n",
    "...\n",
    "sampler = SamplerV2(...)\n",
    "```\n",
    "\n",
    "a. `sampler.run([isa_circuit])`  \n",
    "b. `sampler.run(distribution, isa_circuit)`  \n",
    "c. `sampler.run(isa_circuit, distribution='gauss')`  \n",
    "d. `sampler.run([isa_circuit1, isa_circuit2], runs=1024)`  "
   ]
  },
  {
   "cell_type": "markdown",
   "id": "2ad244aa",
   "metadata": {},
   "source": [
    ":::{dropdown}Answer\n",
    "The answer is `a`.\n",
    "\n",
    "[Here](https://quantum.cloud.ibm.com/docs/en/api/qiskit-ibm-runtime/sampler-v2#run) is the documentation of `SamplerV2`.\n",
    "\n",
    "Parameters\n",
    "\n",
    "* pubs (Iterable[SamplerPubLike]) – An iterable of pub-like objects. For example, a list of circuits or tuples (circuit, parameter_values).\n",
    "* shots (int | None) – The total number of shots to sample for each sampler pub that does not specify its own shots. If None, the primitive’s default shots value will be used, which can vary by implementation.\n",
    ":::"
   ]
  },
  {
   "cell_type": "markdown",
   "id": "4e5a2adf",
   "metadata": {},
   "source": [
    "## Section 6: Use the estimator primitive"
   ]
  },
  {
   "cell_type": "markdown",
   "id": "8734f383",
   "metadata": {},
   "source": [
    "**15. Which one of the following describes the expected behavior of the number of shots if the value for the parameter precision were changed from 0.015625 to 0.03125?**\n",
    "\n",
    "a. It increases the number of shots quadratically  \n",
    "b. It increases the number of shots exponentially  \n",
    "c. It has no effect on the number of shots  \n",
    "d. It decreases the number of shots  "
   ]
  },
  {
   "cell_type": "markdown",
   "id": "85c5af4a",
   "metadata": {},
   "source": [
    ":::{dropdown}Answer\n",
    "The answer is `d`.\n",
    "\n",
    "The required number of shots is inversely proportional to the square of the precision:\n",
    "\n",
    "$$\n",
    "N \\sim \\frac{1}{\\epsilon^2}\n",
    "$$\n",
    "\n",
    "When the precision parameter increases from **0.015625 (1/64)** to **0.03125 (1/32)**, the allowed error becomes larger. This means fewer shots are needed. In fact, doubling the precision reduces the required shots by a factor of 4.\n",
    ":::"
   ]
  },
  {
   "cell_type": "markdown",
   "id": "3cbbc70c",
   "metadata": {},
   "source": [
    "**16. Which error mitigation technique can be applied using resilience options?**\n",
    "\n",
    "a. Pauli twirling  \n",
    "b. Dynamical decoupling  \n",
    "c. Zero Noise Extrapolation  \n",
    "d. Full quantum error correction  "
   ]
  },
  {
   "cell_type": "markdown",
   "id": "c6160951",
   "metadata": {},
   "source": [
    ":::{dropdown}Answer\n",
    "The answer is `c`.\n",
    "\n",
    "a. Pauli twirling → A noise tailoring technique, not a resilience option.  \n",
    "b. Dynamical decoupling → A circuit scheduling technique, not in resilience options.  \n",
    "c. Zero Noise Extrapolation → ✅ This is directly available as a resilience option.  \n",
    "d. Full quantum error correction → Not yet practical and not part of resilience options.  \n",
    "\n",
    ":::"
   ]
  },
  {
   "cell_type": "markdown",
   "id": "b1b60a76",
   "metadata": {},
   "source": [
    "**17. Which format should a primitive unified bloc (PUB) tuple follow for the Estimator primitive?**\n",
    "\n",
    "a. `pub = (circuit, observable, parameter_values, backend)`  \n",
    "b. `pub = (circuit, observable, parameter_values, precision)`  \n",
    "c. `pub = (circuit, observable, shots, optimization_level)`  \n",
    "d. `pub = (circuit, observable, resilience_level, noise_model)`  "
   ]
  },
  {
   "cell_type": "markdown",
   "id": "cd69c998",
   "metadata": {},
   "source": [
    ":::{dropdown}Answer\n",
    "The answer is `b`.\n",
    "\n",
    "This page gives an overview of the inputs and outputs of the Qiskit Runtime primitives that execute workloads on IBM Quantum® compute resources. These primitives provide you with the ability to efficiently define vectorized workloads by using a data structure known as a **Primitive Unified Bloc (PUB)**. These PUBs are the fundamental unit of work a QPU needs to execute these workloads. They are used as inputs to the `run()` method for the Sampler and Estimator primitives, which execute the defined workload as a job. Then, after the job has completed, the results are returned in a format that is dependent on both the PUBs used as well as the runtime options specified from the Sampler or Estimator primitives.\n",
    "\n",
    "### Estimator PUB\n",
    "For the Estimator primitive, the format of the PUB should contain at most four values:\n",
    "\n",
    "- A single QuantumCircuit, which may contain one or more `Parameter` objects\n",
    "- A list of one or more observables, which specify the expectation values to estimate, arranged into an array (for example, a single observable represented as a 0-d array, a list of observables as a 1-d array, and so on). The data can be in any one of the `ObservablesArrayLike` format such as `Pauli`, `SparsePauliOp`, `PauliList`, or `str`.\n",
    "- A collection of parameter values to bind the circuit against. This can be specified as a single array-like object where the last index is over circuit `Parameter` objects, or omitted (or equivalently, set to None) if the circuit has no `Parameter` objects.\n",
    "- (Optionally) a target precision for expectation values to estimate\n",
    "\n",
    "### Sampler PUB\n",
    "For the Sampler primitive, the format of the PUB tuple contains at most three values:\n",
    "\n",
    "- A single QuantumCircuit, which may contain one or more `Parameter` objects \n",
    "- A collection of parameter values to bind the circuit against $\\theta_k$ (only needed if any Parameter objects are used that must be bound at runtime)\n",
    "- (Optionally) a number of shots to measure the circuit with\n",
    "\n",
    ":::"
   ]
  },
  {
   "cell_type": "markdown",
   "id": "19fa3f58",
   "metadata": {},
   "source": [
    "## Section 7: Retrieve and analyze the results of quantum circuits"
   ]
  },
  {
   "cell_type": "markdown",
   "id": "571c72af",
   "metadata": {},
   "source": [
    "**18. Which statement describes the purpose of a Qiskit Runtime session?**\n",
    "\n",
    "a. Automatically generate quantum algorithms based on user input  \n",
    "b. Visualise the results of quantum experiments in real time  \n",
    "c. Group a collection of calls to the quantum computer  \n",
    "d. Compile and optimise quantum circuits for different backends  "
   ]
  },
  {
   "cell_type": "markdown",
   "id": "dc52d27a",
   "metadata": {},
   "source": [
    ":::{dropdown}Answer\n",
    "The answer is `c`.\n",
    "\n",
    "a. some kind of AI-driven or template-based algorithm generation  \n",
    "b. Qiskit Visualization  \n",
    "c. Qiskit Runtime session  \n",
    "d. Qiskit transpiler  \n",
    ":::"
   ]
  },
  {
   "cell_type": "markdown",
   "id": "0c4817ab",
   "metadata": {},
   "source": [
    "**19. Which two of the following pieces of information are part of the dictionary returned by `session.details()`, assuming that session is an instance of `qiskit_ibm_runtime.Session`?**\n",
    "\n",
    "a. Quantum circuit depth  \n",
    "b. Timestamp of the last job in the session that completed  \n",
    "c. Session state  \n",
    "d. Primitive options  \n",
    "e. Primitive unified blocs (PUBs) in each job  "
   ]
  },
  {
   "cell_type": "markdown",
   "id": "6cf3c2c9",
   "metadata": {},
   "source": [
    ":::{dropdown}Answer\n",
    "The answer is `b, c`.\n",
    "\n",
    "`session.details()` method returns a dictionary with the sessions details.\n",
    "\n",
    "- id: id of the session.\n",
    "- backend_name: backend used for the session.\n",
    "- interactive_timeout: The maximum idle time (in seconds) between jobs that is allowed to occur before the session is deactivated.\n",
    "- max_time: Maximum allowed time (in seconds) for the session, subject to plan limits.\n",
    "- active_timeout: The maximum time (in seconds) a session can stay active.\n",
    "- state: State of the session - open, active, inactive, or closed.\n",
    "- accepting_jobs: Whether or not the session is accepting jobs.\n",
    "- last_job_started: Timestamp of when the last job in the session started.\n",
    "- last_job_completed: Timestamp of when the last job in the session completed.\n",
    "- started_at: Timestamp of when the session was started.\n",
    "- closed_at: Timestamp of when the session was closed.\n",
    "- activated_at: Timestamp of when the session state was changed to active.\n",
    "- mode: Execution mode of the session.\n",
    "- usage_time: The usage time, in seconds, of this Session or Batch. Usage is defined as the time a quantum system is committed to complete a job.\n",
    ":::"
   ]
  },
  {
   "cell_type": "markdown",
   "id": "ba940650",
   "metadata": {},
   "source": [
    "## Section 8: Operate with OpenQASM"
   ]
  },
  {
   "cell_type": "markdown",
   "id": "a4130313",
   "metadata": {},
   "source": [
    "**20. Which one of the following is a classical data type supported by OpenQASM 3?**\n",
    "\n",
    "a. complex  \n",
    "b. class  \n",
    "c. char  \n",
    "d. enum  "
   ]
  },
  {
   "cell_type": "markdown",
   "id": "2ef28c75",
   "metadata": {},
   "source": [
    ":::{dropdown}Answer\n",
    "The answer is `a`.\n",
    "\n",
    "OpenQASM 3 supports several classical types, including:\n",
    "\n",
    "* **int** (signed integers)\n",
    "* **uint** (unsigned integers)\n",
    "* **bool** (boolean values)\n",
    "* **bit** (classical bit register)\n",
    "* **float** (floating-point numbers)\n",
    "* **angle** (special type for representing angles)\n",
    "* **complex** (complex numbers, added in OpenQASM 3)\n",
    "* **array, struct, enum** (for composite data structures)\n",
    "\n",
    ":::"
   ]
  },
  {
   "cell_type": "markdown",
   "id": "a0c45f90",
   "metadata": {},
   "source": [
    "**21. Which method should be used to export a Qiskit circuit named `qc` to OpenQASM 3 and store it into a file stream named `qasmprogram`?**\n",
    "\n",
    "a. `qc.to_openqasm3(qasmprogram)`  \n",
    "b. `qiskit.qasm3.dump(qc, qasmprogram)`  \n",
    "c. `qasmprogram.export_to_qasm3(qc)`  \n",
    "d. `qiskit.qasm3.export(qc, qasmprogram)`  "
   ]
  },
  {
   "cell_type": "markdown",
   "id": "b66eb966",
   "metadata": {},
   "source": [
    ":::{dropdown}Answer\n",
    "The answer is `b`.\n",
    "\n",
    "The high-level functions are simply `dump()` and `dumps()`, which respectively export to a file (given as a filename) and to a Python string.\n",
    "\n",
    "* `dump()`: Serialize a `QuantumCircuit` object as an OpenQASM 3 stream to file-like object.\n",
    "* `dumps()`: Serialize a `QuantumCircuit` object in an OpenQASM 3 string.\n",
    ":::"
   ]
  },
  {
   "cell_type": "markdown",
   "id": "dcb3b4dc",
   "metadata": {},
   "source": []
  }
 ],
 "metadata": {
  "kernelspec": {
   "display_name": "Python 3 (ipykernel)",
   "language": "python",
   "name": "python3"
  },
  "language_info": {
   "codemirror_mode": {
    "name": "ipython",
    "version": 3
   },
   "file_extension": ".py",
   "mimetype": "text/x-python",
   "name": "python",
   "nbconvert_exporter": "python",
   "pygments_lexer": "ipython3",
   "version": "3.13.7"
  }
 },
 "nbformat": 4,
 "nbformat_minor": 5
}
