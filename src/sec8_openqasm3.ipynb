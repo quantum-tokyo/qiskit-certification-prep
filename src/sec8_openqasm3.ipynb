{
 "cells": [
  {
   "cell_type": "markdown",
   "id": "c1c84498-0708-41eb-aa53-73335de1ecd5",
   "metadata": {},
   "source": [
    "# Section 8: Operate with OpenQASM"
   ]
  },
  {
   "cell_type": "markdown",
   "id": "f0e62567",
   "metadata": {},
   "source": [
    "1. What is the main purpose of OpenQASM 3’s *explicit timing* feature?\n",
    "\n",
    "a. To describe intended instruction scheduling independent of exact calibrated durations, enabling patterns like dynamical decoupling at the gate level<br>\n",
    "b. To force every gate to specify a fixed duration known at compile time<br>\n",
    "c. To disable all delay instructions so that gates execute as fast as possible<br>\n",
    "d. To ensure gates are always scheduled strictly sequentially without overlap<br>\n"
   ]
  },
  {
   "cell_type": "markdown",
   "id": "3aa0fd0d",
   "metadata": {},
   "source": [
    ":::{dropdown}answer \n",
    "The answer is a. \n",
    "\n",
    "Explicit timing lets authors express the design intent of scheduling without tying it to particular calibration durations, which enables techniques such as dynamical decoupling while still describing the circuit at the gate level. The other options misstate or restrict the timing model.\n",
    ":::\n"
   ]
  },
  {
   "cell_type": "markdown",
   "id": "8c034470",
   "metadata": {},
   "source": [
    "2. Compared to OpenQASM 2, how does the specification describe OpenQASM 3 overall?\n",
    "\n",
    "a. A deprecation-only release that removes classical features<br>\n",
    "b. A minor patch release primarily changing formatting rules<br>\n",
    "c. A large expansion over OpenQASM 2 with many new features for classical control flow and computation<br>\n",
    "d. A pulse-only language with no circuit-level representation<br>\n"
   ]
  },
  {
   "cell_type": "markdown",
   "id": "33b680ce",
   "metadata": {},
   "source": [
    ":::{dropdown}answer \n",
    "The answer is c. \n",
    "\n",
    "The specification explicitly calls OpenQASM 3 a large expansion over version 2, adding many classical control-flow and computation features to ease writing algorithms that mix quantum and classical processing.\n",
    ":::\n"
   ]
  },
  {
   "cell_type": "markdown",
   "id": "c6e71d80",
   "metadata": {},
   "source": [
    "3. What does the specification say about *hardware support* for OpenQASM 3’s classical features at runtime?\n",
    "\n",
    "a. Hardware must implement the entire classical feature set at runtime to accept OpenQASM 3 programs<br>\n",
    "b. Hardware implementations may restrict runtime processing to operations they can perform efficiently in real time<br>\n",
    "c. Only compile-time classical features are allowed; runtime classical features are forbidden<br>\n",
    "d. Classical features are ignored by hardware and treated as comments<br>\n"
   ]
  },
  {
   "cell_type": "markdown",
   "id": "ba9bd220",
   "metadata": {},
   "source": [
    ":::{dropdown}answer \n",
    "The answer is b. \n",
    "\n",
    "Hardware may limit runtime classical processing to what is feasible for real-time control. This can vary across devices, and the spec allows such differences while maintaining defined behavior for accepted features.\n",
    ":::\n"
   ]
  },
  {
   "cell_type": "markdown",
   "id": "4a7cca8b",
   "metadata": {},
   "source": [
    "4. Which mechanism in OpenQASM 3 allows *opaque references to classical computations* acting on run-time data?\n",
    "\n",
    "a. The `extern` mechanism<br>\n",
    "b. The `pragma` directive<br>\n",
    "c. The `annotation` mechanism<br>\n",
    "d. The `defcal` block<br>\n"
   ]
  },
  {
   "cell_type": "markdown",
   "id": "9ecc6eb3",
   "metadata": {},
   "source": [
    ":::{dropdown}answer \n",
    "The answer is a. \n",
    "\n",
    "The `extern` mechanism provides opaque references to generic classical computations on run-time data, enabling integration with classical routines during program execution.\n",
    ":::\n"
   ]
  },
  {
   "cell_type": "markdown",
   "id": "615c07ae",
   "metadata": {},
   "source": [
    "5. Which description best captures the intended *role* of OpenQASM in the software stack?\n",
    "\n",
    "a. A hardware testing DSL limited to pulse sequences with no circuit semantics<br>\n",
    "b. A general-purpose classical programming language for HPC workloads<br>\n",
    "c. A purely mathematical specification of unitary operators without executable semantics<br>\n",
    "d. An intermediate representation used by higher-level compilers to communicate with quantum hardware<br>\n"
   ]
  },
  {
   "cell_type": "markdown",
   "id": "26689277",
   "metadata": {},
   "source": [
    ":::{dropdown}answer \n",
    "The answer is d. \n",
    "\n",
    "The spec positions OpenQASM chiefly as an intermediate representation between high-level compilers and quantum hardware, with allowances for human readability and multiple representations during compilation.\n",
    ":::\n"
   ]
  },
  {
   "cell_type": "code",
   "execution_count": null,
   "id": "7ea0ba37-172c-4804-846a-c6cc900407ad",
   "metadata": {},
   "outputs": [],
   "source": []
  }
 ],
 "metadata": {
  "created": "2025-09-22T14:40:48.718945Z",
  "kernelspec": {
   "display_name": "Python 3 (ipykernel)",
   "language": "python",
   "name": "python3"
  },
  "language_info": {
   "codemirror_mode": {
    "name": "ipython",
    "version": 3
   },
   "file_extension": ".py",
   "mimetype": "text/x-python",
   "name": "python",
   "nbconvert_exporter": "python",
   "pygments_lexer": "ipython3",
   "version": "3.13.7"
  },
  "title": "OpenQASM 2 → 3 Differences: MCQs and Explanations"
 },
 "nbformat": 4,
 "nbformat_minor": 5
}
