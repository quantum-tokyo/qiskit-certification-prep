{
 "cells": [
  {
   "cell_type": "markdown",
   "id": "fcca2021-f619-4d62-9df3-74f986d3ff2e",
   "metadata": {},
   "source": [
    "# Section 5: Use the sampler primitive"
   ]
  },
  {
   "cell_type": "markdown",
   "id": "9e02ae07-9b66-4990-b5c4-74bc71baebc1",
   "metadata": {},
   "source": [
    "## TASK 5.1: Set sampler primitive options such as dynamical decoupling"
   ]
  },
  {
   "cell_type": "markdown",
   "id": "fa1afe6f",
   "metadata": {},
   "source": [
    "1. Which snippet correctly transpiles a parameterized circuit for a chosen backend and produces an ISA circuit before using Estimator V2?\n",
    "\n",
    "a. \n",
    "```python\n",
    "from qiskit.transpiler import generate_preset_pass_manager\n",
    "pm = generate_preset_pass_manager(optimization_level=1, backend=backend)\n",
    "isa_circ = pm.run(circ)\n",
    "```\n",
    "b. \n",
    "```python\n",
    "isa_circ = circ  # QPUs accept any gates; transpilation is optional\n",
    "```\n",
    "c. \n",
    "```python\n",
    "from qiskit import transpile\n",
    "isa_circ = transpile(circ)  # omit backend\n",
    "```\n",
    "d. \n",
    "```python\n",
    "pm = generate_preset_pass_manager(backend=None)\n",
    "isa_circ = pm.run(circ.decompose())\n",
    "```\n"
   ]
  },
  {
   "cell_type": "markdown",
   "id": "a4744934",
   "metadata": {},
   "source": [
    ":::{dropdown}answer \n",
    "The answer is a. \n",
    "\n",
    "You must generate a preset pass manager with a concrete `backend` and run it to obtain an ISA circuit; this matches the example that uses `generate_preset_pass_manager(optimization_level=1, backend=backend)` followed by `pm.run(circuit)`. This step ensures the circuit uses only instructions supported by the target device prior to invoking primitives.\n",
    ":::\n"
   ]
  },
  {
   "cell_type": "markdown",
   "id": "4b2b622e",
   "metadata": {},
   "source": [
    "2. After transpiling a circuit for Estimator, how do you correctly align the observable to the transpiled circuit layout?\n",
    "\n",
    "a. \n",
    "```python\n",
    "isa_obs = observable.apply_layout(isa_circ.layout)\n",
    "```\n",
    "b. \n",
    "```python\n",
    "isa_obs = observable.transpile_like(isa_circ)\n",
    "```\n",
    "c. \n",
    "```python\n",
    "isa_obs = observable.bind_parameters(isa_circ.parameters)\n",
    "```\n",
    "d. \n",
    "```python\n",
    "isa_obs = observable.measure_all(inplace=True)\n",
    "```\n"
   ]
  },
  {
   "cell_type": "markdown",
   "id": "2c079f7b",
   "metadata": {},
   "source": [
    ":::{dropdown}answer \n",
    "The answer is a. \n",
    "\n",
    "The documented workflow applies the transpiled circuit’s layout to the observable via `observable.apply_layout(isa_circuit.layout)` so that qubit indices match the ISA circuit fed to Estimator.\n",
    ":::\n"
   ]
  },
  {
   "cell_type": "markdown",
   "id": "4b34befe",
   "metadata": {},
   "source": [
    "3. Which call correctly submits work to Estimator V2 using the Primitive Unified Bloc (PUB) tuple?\n",
    "\n",
    "a. \n",
    "```python\n",
    "job = estimator.run([(isa_circ, isa_obs, param_values)])\n",
    "```\n",
    "b. \n",
    "```python\n",
    "job = estimator.run([(isa_obs, isa_circ, param_values)])\n",
    "```\n",
    "c. \n",
    "```python\n",
    "job = estimator.run([(isa_circ, param_values)])\n",
    "```\n",
    "d. \n",
    "```python\n",
    "job = estimator.run((isa_circ, isa_obs, param_values))\n",
    "```\n"
   ]
  },
  {
   "cell_type": "markdown",
   "id": "66a47c33",
   "metadata": {},
   "source": [
    ":::{dropdown}answer \n",
    "The answer is a. \n",
    "\n",
    "The Estimator expects a sequence of PUB tuples in the form `(circuit, observable, parameter_values)`; the example shows `estimator.run([(isa_circuit, isa_observable, param_values)])`.\n",
    ":::\n"
   ]
  },
  {
   "cell_type": "markdown",
   "id": "92564bc9",
   "metadata": {},
   "source": [
    "4. For Sampler V2, which preparation is correct before transpilation and submission?\n",
    "\n",
    "a. \n",
    "```python\n",
    "circ.measure_all()\n",
    "pm = generate_preset_pass_manager(optimization_level=1, backend=backend)\n",
    "isa_circ = pm.run(circ)\n",
    "job = sampler.run([(isa_circ, param_values)])\n",
    "```\n",
    "b. \n",
    "```python\n",
    "pm = generate_preset_pass_manager(optimization_level=3, backend=backend)\n",
    "isa_circ = pm.run(circ)  # no measurements needed\n",
    "job = sampler.run([(isa_circ,)])\n",
    "```\n",
    "c. \n",
    "```python\n",
    "job = sampler.run([(circ,)])\n",
    "```\n",
    "d. \n",
    "```python\n",
    "isa_circ = circ.remove_final_measurements(inplace=True)\n",
    "job = sampler.run([(isa_circ,)])\n",
    "```\n"
   ]
  },
  {
   "cell_type": "markdown",
   "id": "3527cce1",
   "metadata": {},
   "source": [
    ":::{dropdown}answer \n",
    "The answer is a. \n",
    "\n",
    "The sampler example measures the circuit (`measure_all()`), transpiles to ISA with a preset pass manager for the chosen backend, and submits `[(isa_circuit, param_values)]` as the PUB.\n",
    ":::\n"
   ]
  },
  {
   "cell_type": "markdown",
   "id": "92f36d32",
   "metadata": {},
   "source": [
    "5. Which initialization correctly selects the execution mode consistent with the examples?\n",
    "\n",
    "a. \n",
    "```python\n",
    "from qiskit_ibm_runtime import EstimatorV2 as Estimator\n",
    "estimator = Estimator(mode=backend)\n",
    "```\n",
    "b. \n",
    "```python\n",
    "from qiskit_ibm_runtime import EstimatorV2 as Estimator\n",
    "estimator = Estimator(mode=\"session\")  # string literal\n",
    "```\n",
    "c. \n",
    "```python\n",
    "from qiskit_ibm_runtime import EstimatorV2 as Estimator\n",
    "estimator = Estimator()  # mode is mandatory\n",
    "```\n",
    "d. \n",
    "```python\n",
    "from qiskit_ibm_runtime import EstimatorV2 as Estimator\n",
    "estimator = Estimator(mode=\"batch\").run(backend)\n",
    "```\n"
   ]
  },
  {
   "cell_type": "markdown",
   "id": "c226c71d",
   "metadata": {},
   "source": [
    ":::{dropdown}answer \n",
    "The answer is a. \n",
    "\n",
    "The guide initializes Estimator/Sampler with `mode=backend` to select job execution mode on a specific backend. Other forms shown are not aligned with the documented initialization pattern.\n",
    ":::\n"
   ]
  },
  {
   "cell_type": "markdown",
   "id": "41146b89",
   "metadata": {},
   "source": [
    "6. How can you request a backend that supports fractional gates per the guide?\n",
    "\n",
    "a. \n",
    "```python\n",
    "service = QiskitRuntimeService()\n",
    "backend = service.least_busy(use_fractional_gates=True)\n",
    "```\n",
    "b. \n",
    "```python\n",
    "service = QiskitRuntimeService()\n",
    "backend = service.get_backend(\"fractional-gates\")\n",
    "```\n",
    "c. \n",
    "```python\n",
    "service = QiskitRuntimeService()\n",
    "backend = service.least_busy(fractional=True)\n",
    "```\n",
    "d. \n",
    "```python\n",
    "service = QiskitRuntimeService()\n",
    "backend = QiskitRuntimeService(use_fractional_gates=True)\n",
    "```\n"
   ]
  },
  {
   "cell_type": "markdown",
   "id": "453ef6ff",
   "metadata": {},
   "source": [
    ":::{dropdown}answer \n",
    "The answer is a. \n",
    "\n",
    "The page states to set `use_fractional_gates=True` when requesting a backend from `QiskitRuntimeService`, for example `service.least_busy(use_fractional_gates=True)`.\n",
    ":::\n"
   ]
  },
  {
   "cell_type": "markdown",
   "id": "f4e461ae",
   "metadata": {},
   "source": [
    "7. Which code path best reflects a minimal, correct optimization/transpilation workflow before running primitives?\n",
    "\n",
    "a. Create circuit → `generate_preset_pass_manager(optimization_level=1, backend)` → `pm.run(circuit)` → align observable with `apply_layout` → `Estimator.run([...])`<br>\n",
    "b. Create circuit → call `Estimator.run(circuit)` and let the service infer gates automatically<br>\n",
    "c. Create circuit → decompose to basis gates locally without a backend → `Estimator.run([...])`<br>\n",
    "d. Create circuit → add barriers to prevent changes → `Estimator.run([...])`<br>\n"
   ]
  },
  {
   "cell_type": "markdown",
   "id": "f5d2a9b7",
   "metadata": {},
   "source": [
    ":::{dropdown}answer \n",
    "The answer is a. \n",
    "\n",
    "The documented steps show generating a preset pass manager with a specified backend, running it to obtain an ISA circuit, aligning the observable, and then submitting PUBs to the primitive.\n",
    ":::\n"
   ]
  },
  {
   "cell_type": "markdown",
   "id": "d53213f0-90b6-416d-a959-32c67a8f0603",
   "metadata": {},
   "source": [
    "8. Which code correctly enables dynamical decoupling (DD) in Sampler V2 and selects the XpXm sequence?\n",
    "\n",
    "a. \n",
    "```\n",
    "sampler.options.dynamical_decoupling.enable = True\n",
    "sampler.options.dynamical_decoupling.sequence_type = \"XpXm\"\n",
    "```\n",
    "\n",
    "b. \n",
    "```\n",
    "sampler.options.resilience.zne_mitigation = True\n",
    "sampler.options.resilience.zne.extrapolator = \"exponential\"\n",
    "```\n",
    "\n",
    "c. \n",
    "```\n",
    "sampler.options.twirling.enable_gates = True\n",
    "sampler.options.twirling.sequence_type = \"XpXm\"\n",
    "```\n",
    "\n",
    "d. \n",
    "```\n",
    "sampler.set_options(dynamical_decoupling=True, sequence_type=\"XpXm\")\n",
    "```\n"
   ]
  },
  {
   "cell_type": "markdown",
   "id": "eb8b373c-90a9-44f0-967f-73aba1416679",
   "metadata": {},
   "source": [
    ":::{dropdown}answer \n",
    "The answer is a. \n",
    "\n",
    "Sampler V2 exposes DD via `sampler.options.dynamical_decoupling`. Set `enable=True` and choose a valid `sequence_type` such as `\"XpXm\"`. Error mitigation like ZNE belongs to the Estimator, not Sampler. \n",
    ":::\n"
   ]
  },
  {
   "cell_type": "markdown",
   "id": "386c1e1c-4768-447c-84e0-2fe001ac30ee",
   "metadata": {},
   "source": [
    "2. Select all valid values for `sampler.options.dynamical_decoupling.sequence_type`. (Multiple answers)\n",
    "\n",
    "a. \"XX\"<br>\n",
    "b. \"XpXm\"<br>\n",
    "c. \"XY4\"<br>\n",
    "d. \"XZXZ\"<br>\n"
   ]
  },
  {
   "cell_type": "markdown",
   "id": "97cf472d-67a8-4aac-b2c2-7d9120b3c560",
   "metadata": {},
   "source": [
    ":::{dropdown}answer \n",
    "The answer is a, b, c. \n",
    "\n",
    "Valid DD sequence types are `\"XX\"`, `\"XpXm\"`, and `\"XY4\"`. `\"XZXZ\"` is not a supported built‑in option. \n",
    ":::\n"
   ]
  },
  {
   "cell_type": "markdown",
   "id": "0eda1b58-87d7-428f-b92e-99516d242505",
   "metadata": {},
   "source": [
    "3. When is enabling dynamical decoupling most likely to help for Sampler runs on hardware?\n",
    "\n",
    "a. When circuits contain idle gaps on some qubits where no operations occur<br>\n",
    "b. When all qubits are busy almost all the time (densely packed schedules)<br>\n",
    "c. Only when running on a simulator with noise disabled<br>\n",
    "d. Only when measuring expectation values with Estimator<br>\n"
   ]
  },
  {
   "cell_type": "markdown",
   "id": "e6485b5a-11c9-4615-8bf8-784bb5a8abda",
   "metadata": {},
   "source": [
    ":::{dropdown}answer \n",
    "The answer is a. \n",
    "\n",
    "DD is primarily beneficial when there are idle periods; pulses inserted during idle intervals can suppress coherent errors. With densely packed schedules, DD can provide little benefit or even hurt due to pulse imperfections. \n",
    ":::\n"
   ]
  },
  {
   "cell_type": "markdown",
   "id": "43aa12f6-1578-4532-86b4-ed9e4e699bc4",
   "metadata": {},
   "source": [
    "4. Which error‑related options are supported directly by Sampler V2?\n",
    "\n",
    "a. Pauli twirling (suppression) via `sampler.options.twirling.*`<br>\n",
    "b. TREX measurement mitigation via `sampler.options.resilience.measure_mitigation = True`<br>\n",
    "c. Zero‑noise extrapolation via `sampler.options.resilience.zne_mitigation = True`<br>\n",
    "d. Probabilistic error cancellation via `sampler.options.resilience.pec_mitigation = True`<br>\n"
   ]
  },
  {
   "cell_type": "markdown",
   "id": "78f7941a-9024-4908-861d-67868e153e4d",
   "metadata": {},
   "source": [
    ":::{dropdown}answer \n",
    "The answer is a. \n",
    "\n",
    "Sampler supports suppression methods like Pauli twirling and dynamical decoupling. Mitigation techniques such as TREX, ZNE, and PEC are available in Estimator; Sampler does not support them directly. \n",
    ":::\n"
   ]
  },
  {
   "cell_type": "markdown",
   "id": "29bcabbf-3bba-4a45-b731-0fe073bc4159",
   "metadata": {},
   "source": [
    "5. Which snippet correctly configures Pauli twirling in Sampler V2 with 32 randomizations and 100 shots per randomization?\n",
    "\n",
    "a. \n",
    "```\n",
    "sampler.options.twirling.enable_gates = True\n",
    "sampler.options.twirling.num_randomizations = 32\n",
    "sampler.options.twirling.shots_per_randomization = 100\n",
    "```\n",
    "\n",
    "b. \n",
    "```\n",
    "sampler.options.twirling.enable = True\n",
    "sampler.options.twirling.count = 32\n",
    "sampler.options.twirling.shots = 100\n",
    "```\n",
    "\n",
    "c. \n",
    "```\n",
    "sampler.options.resilience.twirling = True\n",
    "sampler.options.resilience.num_randomizations = 32\n",
    "sampler.options.resilience.shots_per_randomization = 100\n",
    "```\n",
    "\n",
    "d. \n",
    "```\n",
    "sampler.enable_twirling(32, 100)\n",
    "```"
   ]
  },
  {
   "cell_type": "markdown",
   "id": "5cc5e9d0-a9b2-4d84-8fcc-41b96acd221e",
   "metadata": {},
   "source": [
    ":::{dropdown}answer \n",
    "The answer is a. \n",
    "\n",
    "Use the `twirling` options on Sampler: set `enable_gates=True`, then configure `num_randomizations` and `shots_per_randomization`. \n",
    ":::\n"
   ]
  },
  {
   "cell_type": "markdown",
   "id": "b89330df-94d8-4f18-a41c-6b10e13672ce",
   "metadata": {},
   "source": [
    "6. How do you set a repetition delay of 0.5 ms between shots for Sampler V2?\n",
    "\n",
    "a. sampler.options.execution.rep_delay = 0.0005<br>\n",
    "b. sampler.options.environment.rep_delay = 0.5<br>\n",
    "c. sampler.options.execution.rep_delay = 0.5<br>\n",
    "d. sampler.set_options(rep_delay_ms=0.5)<br>\n"
   ]
  },
  {
   "cell_type": "markdown",
   "id": "0b801585-fd8a-4863-a9be-d842c2be85b0",
   "metadata": {},
   "source": [
    ":::{dropdown}answer \n",
    "The answer is a. \n",
    "\n",
    "`rep_delay` is specified in seconds within the `execution` options; 0.5 ms equals 0.0005 seconds. \n",
    ":::\n"
   ]
  },
  {
   "cell_type": "markdown",
   "id": "e018b8fb-ece4-47df-927b-886d801793e2",
   "metadata": {},
   "source": [
    "7. What is the default DD sequence used if you only enable `sampler.options.dynamical_decoupling.enable = True` and do not set `sequence_type`?\n",
    "\n",
    "a. \"XX\"<br>\n",
    "b. \"XpXm\"<br>\n",
    "c. \"XY4\"<br>\n",
    "d. There is no default; you must choose explicitly<br>\n"
   ]
  },
  {
   "cell_type": "markdown",
   "id": "fe6bfc99-dd47-48db-bfcc-7b5d283573b9",
   "metadata": {},
   "source": [
    ":::{dropdown}answer \n",
    "The answer is a. \n",
    "\n",
    "The default dynamical decoupling sequence is `\"XX\"` unless you override it. \n",
    ":::\n"
   ]
  },
  {
   "cell_type": "markdown",
   "id": "bdae87be-f694-4ddf-beef-0f9c0f6e22f7",
   "metadata": {},
   "source": [
    "8. Which statement about dynamical decoupling is TRUE?\n",
    "\n",
    "a. Each inserted DD pulse sequence ideally implements an identity operation while suppressing coherent errors on idling qubits<br>\n",
    "b. DD is a measurement‑error mitigation method that post‑processes bitstrings<br>\n",
    "c. DD is guaranteed to improve results in all cases, even with dense schedules<br>\n",
    "d. DD can only be used with Estimator, not with Sampler<br>\n"
   ]
  },
  {
   "cell_type": "markdown",
   "id": "9249fe97-548d-4d88-ba39-1d0d66d3bbe3",
   "metadata": {},
   "source": [
    ":::{dropdown}answer \n",
    "The answer is a. \n",
    "\n",
    "DD inserts carefully chosen pulse sequences during idle gaps. These sequences act as identity operations but help cancel coherent errors. It is a suppression (control) technique, not a post‑processing mitigation method. \n",
    ":::\n"
   ]
  },
  {
   "cell_type": "markdown",
   "id": "06da598f-2750-4ac5-8daa-85b490f90faf",
   "metadata": {},
   "source": [
    "## TASK 5.2: Understand the theoretical background behind the sampler primitive"
   ]
  },
  {
   "cell_type": "markdown",
   "id": "bf756e90-6145-48d9-b186-017382bf0111",
   "metadata": {},
   "source": [
    "1. What is the primary role of the **Sampler primitive** in Qiskit Runtime?\n",
    "\n",
    "a. To estimate expectation values of observables from quantum circuits<br>\n",
    "b. To sample bitstrings from quantum circuits and return probability distributions<br>\n",
    "c. To automatically compile and optimize quantum circuits into hardware basis gates<br>\n",
    "d. To implement error correction by dynamically repeating measurements<br>"
   ]
  },
  {
   "cell_type": "markdown",
   "id": "c696f426-4ff6-4070-8295-160630355e16",
   "metadata": {},
   "source": [
    ":::{dropdown}answer\n",
    "The answer is b.\n",
    "\n",
    "The Sampler primitive is designed to run quantum circuits and return **quasi-probability distributions** of measurement outcomes (bitstrings). It does not calculate expectation values (that is the Estimator’s role), nor does it perform compilation or error correction itself.\n",
    ":::"
   ]
  },
  {
   "cell_type": "markdown",
   "id": "c4d93164-51df-4436-a6d9-56a5f33b8173",
   "metadata": {},
   "source": [
    "2. Which of the following best describes the **output** of the Sampler primitive?\n",
    "\n",
    "a. A histogram of expectation values for given observables<br>\n",
    "b. A quasi-probability distribution over bitstrings measured from the circuit<br>\n",
    "c. A sequence of transpiled circuits optimized for the backend<br>\n",
    "d. A set of error-mitigated observables in operator form<br>"
   ]
  },
  {
   "cell_type": "markdown",
   "id": "cd2989be-d39f-44e6-944b-25af382583b0",
   "metadata": {},
   "source": [
    ":::{dropdown}answer\n",
    "The answer is b.\n",
    "\n",
    "The Sampler outputs a **quasi-probability distribution** that summarizes how often each bitstring is expected to occur. This distribution captures sampling statistics, while expectation values belong to Estimator results.\n",
    ":::"
   ]
  },
  {
   "cell_type": "markdown",
   "id": "4a1cbfba-836e-408f-abdd-6f066c367ad9",
   "metadata": {},
   "source": [
    "3. From a theoretical perspective, how does the **Sampler primitive** relate to projective measurements in quantum mechanics?\n",
    "\n",
    "a. It implements an approximation of eigenvalue estimation for arbitrary operators<br>\n",
    "b. It directly samples computational basis states according to Born’s rule<br>\n",
    "c. It generates a classical approximation of wavefunction amplitudes<br>\n",
    "d. It collapses the state into eigenstates of Pauli operators only<br>"
   ]
  },
  {
   "cell_type": "markdown",
   "id": "d72147c6-04aa-4c68-b817-ac360d1755de",
   "metadata": {},
   "source": [
    ":::{dropdown}answer\n",
    "The answer is b.\n",
    "\n",
    "The Sampler models **Born’s rule**: after a quantum circuit is executed, measurements in the computational basis yield outcomes with probabilities proportional to the squared amplitudes of the final state vector. Sampler automates this sampling process.\n",
    ":::"
   ]
  },
  {
   "cell_type": "markdown",
   "id": "fdc891b4-57f4-4127-bae1-a16f74b0f643",
   "metadata": {},
   "source": [
    "4. Which scenario is most appropriate for using the **Sampler primitive** instead of the Estimator?\n",
    "\n",
    "a. When one needs to calculate expectation values of a Hamiltonian<br>\n",
    "b. When one needs raw measurement outcomes or probability distributions from circuits<br>\n",
    "c. When one needs to optimize circuit depth before hardware execution<br>\n",
    "d. When one needs to compute gradients of parameterized circuits<br>"
   ]
  },
  {
   "cell_type": "markdown",
   "id": "fe7a93db-1819-49b1-8b00-15b13ae666cc",
   "metadata": {},
   "source": [
    ":::{dropdown}answer\n",
    "The answer is b.\n",
    "\n",
    "The Sampler is suited for tasks where **raw measurement statistics** (bitstring distributions) are needed, such as training a variational algorithm using measured samples. For Hamiltonian expectation values, the Estimator is the correct primitive.\n",
    ":::"
   ]
  },
  {
   "cell_type": "markdown",
   "id": "08c09897-7843-4bdb-8536-6a77e451efb4",
   "metadata": {},
   "source": [
    "5. What theoretical advantage does using the **Sampler primitive** provide over manually executing circuits with `backend.run()`?\n",
    "\n",
    "a. It provides guaranteed error correction of results<br>\n",
    "b. It automatically transforms any observable into Pauli terms<br>\n",
    "c. It offers a higher-level abstraction focused on probability distributions rather than low-level job control<br>\n",
    "d. It bypasses the need for quantum circuit transpilation<br>"
   ]
  },
  {
   "cell_type": "markdown",
   "id": "0f4a342c-33d4-4cb2-90a0-4126a1a78376",
   "metadata": {},
   "source": [
    ":::{dropdown}answer\n",
    "The answer is c.\n",
    "\n",
    "The Sampler simplifies the user workflow by exposing a **high-level interface** that directly provides probability distributions of bitstrings. Unlike `backend.run()`, it hides low-level details such as job management, allowing developers to focus on sampling tasks.\n",
    ":::"
   ]
  },
  {
   "cell_type": "code",
   "execution_count": null,
   "id": "60063251-4c38-49e1-bac4-4525477de1fe",
   "metadata": {},
   "outputs": [],
   "source": []
  }
 ],
 "metadata": {
  "kernelspec": {
   "display_name": "Python 3 (ipykernel)",
   "language": "python",
   "name": "python3"
  },
  "language_info": {
   "codemirror_mode": {
    "name": "ipython",
    "version": 3
   },
   "file_extension": ".py",
   "mimetype": "text/x-python",
   "name": "python",
   "nbconvert_exporter": "python",
   "pygments_lexer": "ipython3",
   "version": "3.13.7"
  }
 },
 "nbformat": 4,
 "nbformat_minor": 5
}
